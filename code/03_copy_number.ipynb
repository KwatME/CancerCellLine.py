{
 "cells": [
  {
   "cell_type": "code",
   "execution_count": null,
   "metadata": {},
   "outputs": [],
   "source": [
    "from __init__ import *"
   ]
  },
  {
   "cell_type": "code",
   "execution_count": null,
   "metadata": {},
   "outputs": [],
   "source": [
    "directory_path = \"{}copy_number/\".format(SETTING[\"directory_path\"])\n",
    "\n",
    "kraft.path.make(directory_path)"
   ]
  },
  {
   "cell_type": "code",
   "execution_count": null,
   "metadata": {},
   "outputs": [],
   "source": [
    "for url in (\"https://ndownloader.figshare.com/files/22629107\",):\n",
    "\n",
    "    kraft.internet.download(\n",
    "        url, directory_path, name=\"CCLE_gene_cn.csv\", overwrite=SETTING[\"overwrite\"]\n",
    "    )"
   ]
  },
  {
   "cell_type": "code",
   "execution_count": null,
   "metadata": {},
   "outputs": [],
   "source": [
    "gene_x_sample = pd.read_csv(\"{}CCLE_gene_cn.csv\".format(directory_path), index_col=0).T\n",
    "\n",
    "gene_x_sample.index = (label.split()[0] for label in gene_x_sample.index.to_numpy())\n",
    "\n",
    "gene_x_sample.columns = kraft.name_biology.name_sample(gene_x_sample.columns.to_numpy())\n",
    "\n",
    "gene_x_sample.index.name = \"Gene\"\n",
    "\n",
    "gene_x_sample.columns.name = \"Cell Line\"\n",
    "\n",
    "kraft.pd.error_axes(gene_x_sample)\n",
    "\n",
    "gene_x_sample.to_csv(\n",
    "    \"{}gene_x_sample.tsv\".format(directory_path),\n",
    "    sep=\"\\t\",\n",
    ")\n",
    "\n",
    "gene_x_sample"
   ]
  },
  {
   "cell_type": "markdown",
   "metadata": {},
   "source": [
    "## Binary"
   ]
  },
  {
   "cell_type": "code",
   "execution_count": null,
   "metadata": {},
   "outputs": [],
   "source": [
    "mean = np.nanmean(gene_x_cell_line.to_numpy())\n",
    "\n",
    "std = np.nanstd(gene_x_cell_line.to_numpy())\n",
    "\n",
    "loss = mean - std * 3\n",
    "\n",
    "gain = mean + std * 3\n",
    "\n",
    "print(loss, gain)\n",
    "\n",
    "\n",
    "def make_gene_loss_gain_x_(copy_numbers, loss, gain):\n",
    "\n",
    "    gene_loss_gain_x_ = np.full((2, copy_numbers.size), 0)\n",
    "\n",
    "    for i, copy_number in enumerate(copy_numbers.to_numpy()):\n",
    "\n",
    "        if copy_number <= loss:\n",
    "\n",
    "            gene_loss_gain_x_[0, i] = 1\n",
    "\n",
    "        elif gain <= copy_number:\n",
    "\n",
    "            gene_loss_gain_x_[1, i] = 1\n",
    "\n",
    "    has_1 = (gene_loss_gain_x_ == 1).any(axis=1)\n",
    "\n",
    "    gene = copy_numbers.name\n",
    "\n",
    "    return pd.DataFrame(\n",
    "        gene_loss_gain_x_[has_1],\n",
    "        index=np.asarray((\"{} loss\".format(gene), \"{} gain\".format(gene)))[has_1],\n",
    "        columns=copy_numbers.index,\n",
    "    )"
   ]
  },
  {
   "cell_type": "code",
   "execution_count": null,
   "metadata": {
    "ExecuteTime": {
     "end_time": "2018-07-08T02:50:46.292892Z",
     "start_time": "2018-07-08T02:33:15.986392Z"
    }
   },
   "outputs": [],
   "source": [
    "file_path = \"{}/gene_loss_gain_x_cell_line.tsv\".format(directory_path)\n",
    "\n",
    "n = gene_x_cell_line.shape[0]\n",
    "\n",
    "n_per_print = n // 10\n",
    "\n",
    "with open(file_path, mode=\"w\") as io:\n",
    "\n",
    "    for i, (_, copy_numbers) in enumerate(gene_x_cell_line.iterrows()):\n",
    "\n",
    "        if i % n_per_print == 0:\n",
    "\n",
    "            print(\"{}/{}...\".format(i + 1, n))\n",
    "\n",
    "        make_gene_loss_gain_x_(copy_numbers, loss, gain).to_csv(\n",
    "            io, sep=\"\\t\", header=i == 0, mode=\"a\"\n",
    "        )\n",
    "\n",
    "gene_loss_gain_x_cell_line = pd.read_csv(file_path, sep=\"\\t\", index_col=0)\n",
    "\n",
    "gene_loss_gain_x_cell_line"
   ]
  }
 ],
 "metadata": {
  "kernelspec": {
   "display_name": "Python 3",
   "language": "python",
   "name": "python3"
  },
  "language_info": {
   "codemirror_mode": {
    "name": "ipython",
    "version": 3
   },
   "file_extension": ".py",
   "mimetype": "text/x-python",
   "name": "python",
   "nbconvert_exporter": "python",
   "pygments_lexer": "ipython3",
   "version": "3.7.8"
  }
 },
 "nbformat": 4,
 "nbformat_minor": 4
}
