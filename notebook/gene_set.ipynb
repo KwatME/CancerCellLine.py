{
 "cells": [
  {
   "cell_type": "code",
   "execution_count": null,
   "metadata": {},
   "outputs": [],
   "source": [
    "%load_ext autoreload\n",
    "%autoreload 2"
   ]
  },
  {
   "cell_type": "code",
   "execution_count": null,
   "metadata": {},
   "outputs": [],
   "source": [
    "from multiprocessing import Pool\n",
    "\n",
    "import numpy as np\n",
    "import pandas as pd\n",
    "\n",
    "import kraft"
   ]
  },
  {
   "cell_type": "code",
   "execution_count": null,
   "metadata": {},
   "outputs": [],
   "source": [
    "SETTING = kraft.json.read(\"setting.json\")"
   ]
  },
  {
   "cell_type": "code",
   "execution_count": null,
   "metadata": {},
   "outputs": [],
   "source": [
    "directory_path = \"{}/gene_set/\".format(SETTING[\"directory_path\"])\n",
    "\n",
    "kraft.path.path(directory_path)"
   ]
  },
  {
   "cell_type": "code",
   "execution_count": null,
   "metadata": {},
   "outputs": [],
   "source": [
    "gene_x_sample = pd.read_csv(\n",
    "    \"{}/../rna/gene_x_cell_line.tsv\".format(directory_path), sep=\"\\t\", index_col=0\n",
    ")\n",
    "\n",
    "gene_x_sample = gene_x_sample.loc[\n",
    "    gene_x_sample.index & kraft.name_biology.select_genes(), :\n",
    "]"
   ]
  },
  {
   "cell_type": "code",
   "execution_count": null,
   "metadata": {},
   "outputs": [],
   "source": [
    "gene_set_to_genes = kraft.gmt.read_many(\n",
    "    tuple(\n",
    "        \"data/gene_set/{}\".format(file_name)\n",
    "        for file_name in (\n",
    "            \"h.all.v7.1.symbols.gmt\",\n",
    "            \"c1.all.v7.1.symbols.gmt\",\n",
    "            \"c2.all.v7.1.symbols.gmt\",\n",
    "            \"c3.all.v7.1.symbols.gmt\",\n",
    "            \"c5.all.v7.1.symbols.gmt\",\n",
    "            \"c6.all.v7.1.symbols.gmt\",\n",
    "            \"c7.all.v7.1.symbols.gmt\",\n",
    "            \"ipa.gmt\",\n",
    "        )\n",
    "    )\n",
    ")"
   ]
  },
  {
   "cell_type": "code",
   "execution_count": null,
   "metadata": {},
   "outputs": [],
   "source": [
    "# TODO: add to kraft\n",
    "def function(scores, set_to_elements):\n",
    "\n",
    "    scores = pd.Series(\n",
    "        kraft.array.normalize(scores.to_numpy(), \"-0-\"),\n",
    "        index=scores.index,\n",
    "        name=scores.name,\n",
    "    ).sort_values()\n",
    "\n",
    "    return tuple(\n",
    "        kraft.sea.score_set(\n",
    "            scores, elements, method=method, sort_element_score=False, plot=False\n",
    "        )\n",
    "        for elements in set_to_elements.values()\n",
    "    )"
   ]
  },
  {
   "cell_type": "code",
   "execution_count": null,
   "metadata": {},
   "outputs": [],
   "source": [
    "method = \"classic\""
   ]
  },
  {
   "cell_type": "code",
   "execution_count": null,
   "metadata": {},
   "outputs": [],
   "source": [
    "pool = Pool(processes=8)\n",
    "\n",
    "gene_set_x_sample = pd.DataFrame(\n",
    "    np.asarray(\n",
    "        pool.starmap(\n",
    "            function,\n",
    "            ((scores, gene_set_to_genes) for _, scores in gene_x_sample.items()),\n",
    "        )\n",
    "    ).T,\n",
    "    index=gene_set_to_genes.keys(),\n",
    "    columns=gene_x_sample.columns,\n",
    ")\n",
    "\n",
    "gene_set_x_sample.to_csv(\n",
    "    \"{}/gene_set_x_sample_x_{}.tsv\".format(directory_path, method), sep=\"\\t\"\n",
    ")\n",
    "\n",
    "gene_set_x_sample"
   ]
  }
 ],
 "metadata": {
  "kernelspec": {
   "display_name": "Python 3",
   "language": "python",
   "name": "python3"
  },
  "language_info": {
   "codemirror_mode": {
    "name": "ipython",
    "version": 3
   },
   "file_extension": ".py",
   "mimetype": "text/x-python",
   "name": "python",
   "nbconvert_exporter": "python",
   "pygments_lexer": "ipython3",
   "version": "3.7.6"
  }
 },
 "nbformat": 4,
 "nbformat_minor": 4
}
