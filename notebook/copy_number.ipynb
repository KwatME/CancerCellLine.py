{
 "cells": [
  {
   "cell_type": "code",
   "execution_count": 1,
   "metadata": {},
   "outputs": [],
   "source": [
    "%load_ext autoreload\n",
    "%autoreload 2"
   ]
  },
  {
   "cell_type": "code",
   "execution_count": 2,
   "metadata": {},
   "outputs": [],
   "source": [
    "import numpy as np\n",
    "import pandas as pd\n",
    "\n",
    "import kraft"
   ]
  },
  {
   "cell_type": "code",
   "execution_count": 3,
   "metadata": {},
   "outputs": [],
   "source": [
    "data_directory_path = \"/home/kwat/garden/data/cancer_cell_line/copy_number/\"\n",
    "\n",
    "kraft.path(data_directory_path)"
   ]
  },
  {
   "cell_type": "code",
   "execution_count": null,
   "metadata": {},
   "outputs": [],
   "source": [
    "gene_x_cell_line = pd.read_csv(\"{}CCLE_gene_cn.csv\".format(data_directory_path), index_col=0).T\n",
    "\n",
    "gene_x_cell_line"
   ]
  },
  {
   "cell_type": "code",
   "execution_count": null,
   "metadata": {},
   "outputs": [],
   "source": [
    "%timeit gene_x_cell_line.index = tuple(gene.split()[0] for gene in gene_x_cell_line.index.values)"
   ]
  },
  {
   "cell_type": "code",
   "execution_count": null,
   "metadata": {},
   "outputs": [],
   "source": [
    "%timeit a.size"
   ]
  },
  {
   "cell_type": "code",
   "execution_count": null,
   "metadata": {},
   "outputs": [],
   "source": [
    "%timeit \"a\""
   ]
  },
  {
   "cell_type": "code",
   "execution_count": null,
   "metadata": {},
   "outputs": [],
   "source": [
    "%timeit 1"
   ]
  },
  {
   "cell_type": "code",
   "execution_count": null,
   "metadata": {},
   "outputs": [],
   "source": [
    "ayalakkkttwpppppppppppppppppp"
   ]
  },
  {
   "cell_type": "code",
   "execution_count": null,
   "metadata": {},
   "outputs": [],
   "source": [
    "%timeit gene_x_cell_line.index = tuple(gene.split()[0] for gene in gene_x_cell_line.index.to_numpy()aaaaaaarrrrrrraaaaaaayyyyyyaaaaaaaaiiiiiilllllaaaa)"
   ]
  },
  {
   "cell_type": "code",
   "execution_count": null,
   "metadata": {},
   "outputs": [],
   "source": [
    "gene_x_cell_line.columns = kraft.normalize_cell_line_names(gene_x_cell_line.columns.values)"
   ]
  },
  {
   "cell_type": "code",
   "execution_count": null,
   "metadata": {},
   "outputs": [],
   "source": [
    "kraft.error_axis(gene_x_cell_line)\n",
    "\n",
    "gene_x_cell_line.index.name = \"Gene\"\n",
    "\n",
    "gene_x_cell_line.to_csv(\"copy_number.gene_x_cell_line.tsv\", sep=\"\\t\")\n",
    "\n",
    "gene_x_cell_line"
   ]
  },
  {
   "cell_type": "code",
   "execution_count": null,
   "metadata": {
    "ExecuteTime": {
     "end_time": "2018-07-08T02:50:46.292892Z",
     "start_time": "2018-07-08T02:33:15.986392Z"
    }
   },
   "outputs": [],
   "source": [
    "mean = np.nanmean(gene_x_cell_line.to_numpy())\n",
    "\n",
    "std = np.nanstd(gene_x_cell_line.to_numpy())\n",
    "\n",
    "threshold_loss = mean - 3 * std\n",
    "\n",
    "threshold_gain = mean + 3 * std\n",
    "\n",
    "threshold_loss, threshold_gain"
   ]
  },
  {
   "cell_type": "code",
   "execution_count": null,
   "metadata": {},
   "outputs": [],
   "source": [
    "%timeit a.values"
   ]
  },
  {
   "cell_type": "code",
   "execution_count": null,
   "metadata": {},
   "outputs": [],
   "source": [
    "%timeit a.to_numpy()"
   ]
  },
  {
   "cell_type": "code",
   "execution_count": null,
   "metadata": {
    "ExecuteTime": {
     "end_time": "2018-07-08T02:50:46.292892Z",
     "start_time": "2018-07-08T02:33:15.986392Z"
    }
   },
   "outputs": [],
   "source": [
    "def split_copy_numbers(copy_numbers, threshold_loss, threshold_gain):\n",
    "\n",
    "    vector = np.full(copy_numbers.size, np.nan)\n",
    "\n",
    "    vector[copy_numbers.values < threshold_loss] = -1\n",
    "\n",
    "    vector[threshold_gain < copy_numbers.values] = 1\n",
    "\n",
    "    gene = copy_numbers.name\n",
    "\n",
    "    dataframe = kraft.binarize(pd.Series(vector, index=copy_numbers.index, name=gene))\n",
    "\n",
    "    dataframe = dataframe.loc[dataframe.index.dropna()]\n",
    "\n",
    "    dataframe.index = dataframe.index.map(\n",
    "        {-1: \"{} -\".format(gene), 1: \"{} +\".format(gene)}\n",
    "    )\n",
    "\n",
    "    return dataframe"
   ]
  },
  {
   "cell_type": "code",
   "execution_count": null,
   "metadata": {},
   "outputs": [],
   "source": [
    "def split_copy_numbers(copy_numbers, threshold_loss, threshold_gain):\n",
    "    \n",
    "    gene_loss_gain_x_cell_line = np.full((2, copy_numbers.size), np.nan)\n",
    "\n",
    "    for i, number in enumerate(copy_numbers):\n",
    "        \n",
    "        if number < threshold_loss:\n",
    "            \n",
    "            gene_loss_gain_x_cell_line[0, number] = 1\n",
    "            \n",
    "        elif threshold_loss < number:\n",
    "            \n",
    "            gene_loss_gain_x_cell_line[1, number] = 1\n",
    "\n",
    "    return pd.DataFrame(gene_loss_gain_x_cell_line, index=(\"{} loss\".format(), \"{} gain\".format()), columns=copy_numbers.index)"
   ]
  },
  {
   "cell_type": "code",
   "execution_count": null,
   "metadata": {},
   "outputs": [],
   "source": [
    "cell_line_numbers = gene_x_cell_line.iloc[100, :]"
   ]
  },
  {
   "cell_type": "code",
   "execution_count": null,
   "metadata": {},
   "outputs": [],
   "source": [
    "split_loss_gain(cell_line_numbers, threshold_loss, threshold_gain).sum(axis=1)"
   ]
  },
  {
   "cell_type": "code",
   "execution_count": null,
   "metadata": {},
   "outputs": [],
   "source": [
    "%timeit split_loss_gain(cell_line_numbers, threshold_loss, threshold_gain)"
   ]
  },
  {
   "cell_type": "code",
   "execution_count": null,
   "metadata": {},
   "outputs": [],
   "source": [
    "def split_loss_gain2(cell_line_copy_numbers, threshold_loss, threshold_gain):\n",
    "    \n",
    "    cell_line_copy_numbers = cell_line_copy_numbers.copy()\n",
    "    \n",
    "    is_loss = cell_line_copy_numbers.values < threshold_loss\n",
    "    \n",
    "    is_gain = threshold_gain < cell_line_copy_numbers.values\n",
    "    \n",
    "    cell_line_copy_numbers.values[is_loss] = -1\n",
    "    \n",
    "    cell_line_copy_numbers.values[is_gain] = 1\n",
    "    \n",
    "    cell_line_copy_numbers[~(is_loss | is_gain)] = np.nan\n",
    "    \n",
    "    loss_gain_x_cell_line = kraft.binarize(cell_line_copy_numbers)\n",
    "    \n",
    "    gene = cell_line_copy_numbers.name\n",
    "    \n",
    "    loss_gain_x_cell_line.index = loss_gain_x_cell_line.index.map({\n",
    "        -1: \"{} loss\".format(gene),\n",
    "        1: \"{} gain\".format(gene),\n",
    "    })\n",
    "\n",
    "    loss_gain_x_cell_line = loss_gain_x_cell_line.loc[loss_gain_x_cell_line.index.dropna(), :]\n",
    "\n",
    "    return loss_gain_x_cell_line"
   ]
  },
  {
   "cell_type": "code",
   "execution_count": null,
   "metadata": {},
   "outputs": [],
   "source": [
    "split_loss_gain2(cell_line_numbers, threshold_loss, threshold_gain).sum(axis=1)"
   ]
  },
  {
   "cell_type": "code",
   "execution_count": null,
   "metadata": {},
   "outputs": [],
   "source": [
    "%timeit split_loss_gain2(cell_line_numbers, threshold_loss, threshold_gain)"
   ]
  },
  {
   "cell_type": "code",
   "execution_count": null,
   "metadata": {
    "ExecuteTime": {
     "end_time": "2018-07-08T02:50:46.292892Z",
     "start_time": "2018-07-08T02:33:15.986392Z"
    }
   },
   "outputs": [],
   "source": [
    "file_path = \"gene_loss_gain_x_cell_line.tsv\"\n",
    "\n",
    "n = gene_x_cell_line.shape[0]\n",
    "\n",
    "n_per_print = n // 100\n",
    "\n",
    "with open(file_path, mode=\"w\") as io:\n",
    "\n",
    "    for i, (gene, copy_numbers) in enumerate(gene_x_cell_line.iterrows()):\n",
    "\n",
    "        if i % n_per_print == 0:\n",
    "\n",
    "            print(\"{}/{} ...\".format(i + 1, n))\n",
    "\n",
    "        split_copy_numbers(copy_numbers, threshold_loss, threshold_gain).to_csv(\n",
    "            io, sep=\"\\t\", header=i == 0, mode=\"a\"\n",
    "        )\n",
    "\n",
    "gene_loss_gain_x_cell_line = pd.read_csv(file_path, sep=\"\\t\", index_col=0)\n",
    "\n",
    "gene_loss_gain_x_cell_line"
   ]
  },
  {
   "cell_type": "code",
   "execution_count": null,
   "metadata": {},
   "outputs": [],
   "source": [
    "gene_loss_gain_x_cell_line.sum(axis=1).sort_values(ascending=False)"
   ]
  }
 ],
 "metadata": {
  "kernelspec": {
   "display_name": "Python 3",
   "language": "python",
   "name": "python3"
  },
  "language_info": {
   "codemirror_mode": {
    "name": "ipython",
    "version": 3
   },
   "file_extension": ".py",
   "mimetype": "text/x-python",
   "name": "python",
   "nbconvert_exporter": "python",
   "pygments_lexer": "ipython3",
   "version": "3.7.6"
  }
 },
 "nbformat": 4,
 "nbformat_minor": 4
}
