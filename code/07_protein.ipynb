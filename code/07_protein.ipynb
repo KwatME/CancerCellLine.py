{
 "cells": [
  {
   "cell_type": "code",
   "execution_count": null,
   "metadata": {},
   "outputs": [],
   "source": [
    "from __init__ import *"
   ]
  },
  {
   "cell_type": "code",
   "execution_count": null,
   "metadata": {},
   "outputs": [],
   "source": [
    "directory_path = \"{}protein/\".format(SETTING[\"directory_path\"])\n",
    "\n",
    "kraft.path.make(directory_path)"
   ]
  },
  {
   "cell_type": "code",
   "execution_count": null,
   "metadata": {},
   "outputs": [],
   "source": [
    "for url in (\n",
    "    \"https://gygi.med.harvard.edu/sites/gygi.med.harvard.edu/files/documents/protein_quant_current_normalized.csv.gz\",\n",
    "):\n",
    "\n",
    "    kraft.internet.download(\n",
    "        url,\n",
    "        directory_path,\n",
    "        name=\"protein_quant_current_normalized.csv.gz\",\n",
    "        overwrite=SETTING[\"overwrite\"],\n",
    "    )"
   ]
  },
  {
   "cell_type": "code",
   "execution_count": null,
   "metadata": {},
   "outputs": [],
   "source": [
    "gene_x_sample = pd.read_csv(\n",
    "    \"{}protein_quant_current_normalized.csv.gz\".format(directory_path), index_col=1\n",
    ").drop(\n",
    "    labels=[\"Protein_Id\", \"Description\", \"Group_ID\", \"Uniprot\", \"Uniprot_Acc\"], axis=1\n",
    ")\n",
    "\n",
    "print(gene_x_sample.shape)\n",
    "\n",
    "gene_x_sample = gene_x_sample.loc[np.logical_not(gene_x_sample.index.isna()), :]\n",
    "\n",
    "gene_x_sample.index.name = \"Gene\"\n",
    "\n",
    "gene_x_sample = kraft.pd.collapse(gene_x_sample)\n",
    "\n",
    "gene_x_sample = gene_x_sample.loc[\n",
    "    :,\n",
    "    (not bool(re.match(\"^TenPx\", label)) for label in gene_x_sample.columns.to_numpy()),\n",
    "]\n",
    "\n",
    "gene_x_sample.columns = kraft.name_biology.name_cell_line(\n",
    "    (re.sub(\"_TenPx[0-9]{2}$\", \"\", label) for label in gene_x_sample.columns.to_numpy())\n",
    ")\n",
    "\n",
    "gene_x_sample = kraft.pd.collapse(gene_x_sample.T).T\n",
    "\n",
    "kraft.pd.error_axes(gene_x_sample)\n",
    "\n",
    "gene_x_sample.to_csv(\"{}gene_x_sample.tsv\".format(directory_path), sep=\"\\t\")\n",
    "\n",
    "gene_x_sample"
   ]
  }
 ],
 "metadata": {
  "kernelspec": {
   "display_name": "Python 3",
   "language": "python",
   "name": "python3"
  },
  "language_info": {
   "codemirror_mode": {
    "name": "ipython",
    "version": 3
   },
   "file_extension": ".py",
   "mimetype": "text/x-python",
   "name": "python",
   "nbconvert_exporter": "python",
   "pygments_lexer": "ipython3",
   "version": "3.7.8"
  }
 },
 "nbformat": 4,
 "nbformat_minor": 4
}
