{
 "cells": [
  {
   "cell_type": "code",
   "execution_count": null,
   "metadata": {},
   "outputs": [],
   "source": [
    "%load_ext autoreload\n",
    "%autoreload 2"
   ]
  },
  {
   "cell_type": "code",
   "execution_count": null,
   "metadata": {
    "ExecuteTime": {
     "end_time": "2018-07-08T01:08:15.968617Z",
     "start_time": "2018-07-08T01:08:14.081418Z"
    }
   },
   "outputs": [],
   "source": [
    "import numpy as np\n",
    "import pandas as pd\n",
    "\n",
    "import kraft"
   ]
  },
  {
   "cell_type": "code",
   "execution_count": null,
   "metadata": {},
   "outputs": [],
   "source": [
    "directory_path = \"/home/kwat/garden/data/cancer_cell_line/mutation/\"\n",
    "\n",
    "kraft.path.path(directory_path)"
   ]
  },
  {
   "cell_type": "code",
   "execution_count": null,
   "metadata": {
    "ExecuteTime": {
     "end_time": "2018-07-08T01:08:15.968617Z",
     "start_time": "2018-07-08T01:08:14.081418Z"
    }
   },
   "outputs": [],
   "source": [
    "maf = pd.read_csv(\"{}/CCLE_mutations.csv\".format(directory_path), sep=\"\\t\")\n",
    "\n",
    "maf"
   ]
  },
  {
   "cell_type": "code",
   "execution_count": null,
   "metadata": {},
   "outputs": [],
   "source": [
    "maf = maf.loc[\n",
    "    :,\n",
    "    [\n",
    "        \"Hugo_Symbol\",\n",
    "        \"Variant_Classification\",\n",
    "        \"Genome_Change\",\n",
    "        \"Protein_Change\",\n",
    "        \"Variant_annotation\",\n",
    "        \"DepMap_ID\",\n",
    "    ],\n",
    "]\n",
    "\n",
    "maf = maf.loc[maf.loc[:, \"Variant_annotation\"] == \"damaging\", :]\n",
    "\n",
    "maf.loc[:, \"Cell Line\"] = kraft.cell_line.rename(maf.loc[:, \"DepMap_ID\"].to_numpy())\n",
    "\n",
    "maf"
   ]
  },
  {
   "cell_type": "code",
   "execution_count": null,
   "metadata": {
    "ExecuteTime": {
     "end_time": "2018-07-08T01:08:26.126114Z",
     "start_time": "2018-07-08T01:08:25.926527Z"
    }
   },
   "outputs": [],
   "source": [
    "genes = np.unique(maf.loc[:, \"Hugo_Symbol\"].to_numpy())\n",
    "\n",
    "gene_to_i = kraft.array.map_int(genes)[0]\n",
    "\n",
    "print(genes.size)\n",
    "\n",
    "genes"
   ]
  },
  {
   "cell_type": "code",
   "execution_count": null,
   "metadata": {},
   "outputs": [],
   "source": [
    "def format_(gene_str):\n",
    "\n",
    "    gene, str_ = gene_str\n",
    "\n",
    "    if not isinstance(str_, str):\n",
    "\n",
    "        str_ = \"\"\n",
    "\n",
    "    return np.asarray(\"{}_{}\".format(gene, str_), dtype=\"object\")"
   ]
  },
  {
   "cell_type": "code",
   "execution_count": null,
   "metadata": {},
   "outputs": [],
   "source": [
    "variant_classifications = np.unique(\n",
    "    np.apply_along_axis(\n",
    "        format_, 1, maf.loc[:, [\"Hugo_Symbol\", \"Variant_Classification\"]].to_numpy(),\n",
    "    )\n",
    ")\n",
    "\n",
    "variant_classification_to_i = kraft.array.map_int(variant_classifications)[0]\n",
    "\n",
    "print(variant_classifications.size)\n",
    "\n",
    "variant_classifications"
   ]
  },
  {
   "cell_type": "code",
   "execution_count": null,
   "metadata": {
    "ExecuteTime": {
     "end_time": "2018-07-08T01:08:26.126114Z",
     "start_time": "2018-07-08T01:08:25.926527Z"
    }
   },
   "outputs": [],
   "source": [
    "protein_changes = np.unique(\n",
    "    np.apply_along_axis(\n",
    "        format_, 1, maf.loc[:, [\"Hugo_Symbol\", \"Protein_Change\"]].to_numpy()\n",
    "    )\n",
    ")\n",
    "\n",
    "protein_change_to_i = kraft.array.map_int(protein_changes)[0]\n",
    "\n",
    "print(protein_changes.size)\n",
    "\n",
    "protein_changes"
   ]
  },
  {
   "cell_type": "code",
   "execution_count": null,
   "metadata": {},
   "outputs": [],
   "source": [
    "protein_changes = np.unique(\n",
    "    np.apply_along_axis(\n",
    "        format_, 1, maf.loc[:, [\"Hugo_Symbol\", \"Protein_Change\"]].to_numpy()\n",
    "    )\n",
    ")\n",
    "\n",
    "protein_change_to_i = kraft.array.map_int(protein_changes)[0]\n",
    "\n",
    "print(protein_changes.size)\n",
    "\n",
    "protein_changes"
   ]
  },
  {
   "cell_type": "code",
   "execution_count": null,
   "metadata": {
    "ExecuteTime": {
     "end_time": "2018-07-08T01:08:26.126114Z",
     "start_time": "2018-07-08T01:08:25.926527Z"
    }
   },
   "outputs": [],
   "source": [
    "cell_lines = np.unique(maf.loc[:, \"Cell Line\"].to_numpy())\n",
    "\n",
    "cell_line_to_i = kraft.array.map_int(cell_lines)[0]\n",
    "\n",
    "print(cell_lines.size)\n",
    "\n",
    "cell_lines"
   ]
  },
  {
   "cell_type": "code",
   "execution_count": null,
   "metadata": {
    "ExecuteTime": {
     "end_time": "2018-07-08T01:41:26.363600Z",
     "start_time": "2018-07-08T01:09:27.049774Z"
    }
   },
   "outputs": [],
   "source": [
    "gene_x_cell_line = np.full((genes.size, cell_lines.size), 0)\n",
    "\n",
    "variant_classification_x_cell_line = np.full(\n",
    "    (variant_classifications.size, cell_lines.size), 0\n",
    ")\n",
    "\n",
    "protein_change_x_cell_line = np.full((protein_changes.size, cell_lines.size), 0)"
   ]
  },
  {
   "cell_type": "code",
   "execution_count": null,
   "metadata": {
    "ExecuteTime": {
     "end_time": "2018-07-08T01:41:26.363600Z",
     "start_time": "2018-07-08T01:09:27.049774Z"
    }
   },
   "outputs": [],
   "source": [
    "for gene, variant_classification, protein_change, cell_line in maf.loc[\n",
    "    :, [\"Hugo_Symbol\", \"Variant_Classification\", \"Protein_Change\", \"Cell Line\"]\n",
    "].to_numpy():\n",
    "\n",
    "    gene_i = gene_to_i[gene]\n",
    "\n",
    "    cell_line_i = cell_line_to_i[cell_line]\n",
    "\n",
    "    gene_x_cell_line[gene_i, cell_line_i] += 1\n",
    "\n",
    "    if not isinstance(variant_classification, str):\n",
    "\n",
    "        variant_classification = \"\"\n",
    "\n",
    "    variant_classification_i = variant_classification_to_i[\n",
    "        str(format_((gene, variant_classification)))\n",
    "    ]\n",
    "\n",
    "    variant_classification_x_cell_line[variant_classification_i, cell_line_i] += 1\n",
    "\n",
    "    if not isinstance(protein_change, str):\n",
    "\n",
    "        protein_change = \"\"\n",
    "\n",
    "    protein_change_i = protein_change_to_i[str(format_((gene, protein_change)))]\n",
    "\n",
    "    protein_change_x_cell_line[protein_change_i, cell_line_i] += 1"
   ]
  },
  {
   "cell_type": "code",
   "execution_count": null,
   "metadata": {},
   "outputs": [],
   "source": [
    "gene_x_cell_line = pd.DataFrame(gene_x_cell_line, index=genes, columns=cell_lines)\n",
    "\n",
    "gene_x_cell_line.to_csv(\n",
    "    \"{}/gene_x_cell_line_x_n_mutation.tsv\".format(directory_path), sep=\"\\t\"\n",
    ")\n",
    "\n",
    "gene_x_cell_line"
   ]
  },
  {
   "cell_type": "code",
   "execution_count": null,
   "metadata": {},
   "outputs": [],
   "source": [
    "gene_x_cell_line_x_01 = gene_x_cell_line.clip(upper=1)\n",
    "\n",
    "gene_x_cell_line_x_01.to_csv(\n",
    "    \"{}/gene_x_cell_line_x_mutation_01.tsv\".format(directory_path), sep=\"\\t\"\n",
    ")\n",
    "\n",
    "gene_x_cell_line_x_01"
   ]
  },
  {
   "cell_type": "code",
   "execution_count": null,
   "metadata": {},
   "outputs": [],
   "source": [
    "variant_classification_x_cell_line = pd.DataFrame(\n",
    "    variant_classification_x_cell_line,\n",
    "    index=variant_classifications,\n",
    "    columns=cell_lines,\n",
    ")\n",
    "\n",
    "variant_classification_x_cell_line.to_csv(\n",
    "    \"{}/gene_variant_classification_x_cell_line.tsv\".format(directory_path), sep=\"\\t\"\n",
    ")\n",
    "\n",
    "variant_classification_x_cell_line"
   ]
  },
  {
   "cell_type": "code",
   "execution_count": null,
   "metadata": {},
   "outputs": [],
   "source": [
    "protein_change_x_cell_line = pd.DataFrame(\n",
    "    protein_change_x_cell_line, index=protein_changes, columns=cell_lines\n",
    ")\n",
    "\n",
    "protein_change_x_cell_line.to_csv(\n",
    "    \"{}/gene_protein_change_x_cell_line.tsv\".format(directory_path), sep=\"\\t\"\n",
    ")\n",
    "\n",
    "protein_change_x_cell_line"
   ]
  }
 ],
 "metadata": {
  "kernelspec": {
   "display_name": "Python 3",
   "language": "python",
   "name": "python3"
  },
  "language_info": {
   "codemirror_mode": {
    "name": "ipython",
    "version": 3
   },
   "file_extension": ".py",
   "mimetype": "text/x-python",
   "name": "python",
   "nbconvert_exporter": "python",
   "pygments_lexer": "ipython3",
   "version": "3.7.6"
  }
 },
 "nbformat": 4,
 "nbformat_minor": 4
}
