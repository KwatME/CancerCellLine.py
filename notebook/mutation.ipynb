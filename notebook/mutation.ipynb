{
 "cells": [
  {
   "cell_type": "code",
   "execution_count": null,
   "metadata": {},
   "outputs": [],
   "source": [
    "%load_ext autoreload\n",
    "%autoreload 2"
   ]
  },
  {
   "cell_type": "code",
   "execution_count": null,
   "metadata": {
    "ExecuteTime": {
     "end_time": "2018-07-08T01:08:15.968617Z",
     "start_time": "2018-07-08T01:08:14.081418Z"
    }
   },
   "outputs": [],
   "source": [
    "import numpy as np\n",
    "import pandas as pd\n",
    "\n",
    "import kraft"
   ]
  },
  {
   "cell_type": "code",
   "execution_count": null,
   "metadata": {},
   "outputs": [],
   "source": [
    "SETTING = kraft.json.read(\"setting.json\")"
   ]
  },
  {
   "cell_type": "code",
   "execution_count": null,
   "metadata": {},
   "outputs": [],
   "source": [
    "directory_path = \"{}/mutation/\".format(SETTING[\"directory_path\"])\n",
    "\n",
    "kraft.path.path(directory_path)"
   ]
  },
  {
   "cell_type": "code",
   "execution_count": null,
   "metadata": {},
   "outputs": [],
   "source": [
    "for url in (\"https://ndownloader.figshare.com/files/22629110\",):\n",
    "\n",
    "    print(kraft.internet.download(url, directory_path))"
   ]
  },
  {
   "cell_type": "code",
   "execution_count": null,
   "metadata": {
    "ExecuteTime": {
     "end_time": "2018-07-08T01:08:15.968617Z",
     "start_time": "2018-07-08T01:08:14.081418Z"
    }
   },
   "outputs": [],
   "source": [
    "table = pd.read_csv(\n",
    "    \"{}/CCLE_mutations.csv\".format(directory_path),\n",
    "    sep=\"\\t\",\n",
    "    usecols=(0, 7, 18, 32, 33),\n",
    ").to_numpy()\n",
    "\n",
    "len(table)"
   ]
  },
  {
   "cell_type": "code",
   "execution_count": null,
   "metadata": {
    "ExecuteTime": {
     "end_time": "2018-07-08T01:08:15.968617Z",
     "start_time": "2018-07-08T01:08:14.081418Z"
    }
   },
   "outputs": [],
   "source": [
    "table = table[table[:, 3] == \"damaging\", :]\n",
    "\n",
    "len(table)"
   ]
  },
  {
   "cell_type": "code",
   "execution_count": null,
   "metadata": {},
   "outputs": [],
   "source": [
    "genes, variant_classifications, protein_changes, cell_lines = table[:, (0, 1, 2, 4)].T"
   ]
  },
  {
   "cell_type": "code",
   "execution_count": null,
   "metadata": {
    "ExecuteTime": {
     "end_time": "2018-07-08T01:08:26.126114Z",
     "start_time": "2018-07-08T01:08:25.926527Z"
    }
   },
   "outputs": [],
   "source": [
    "cell_lines = kraft.name_biology.name_cell_lines(cell_lines)\n",
    "\n",
    "cell_line_to_i = kraft.array.map_int(cell_lines)[0]\n",
    "\n",
    "len(cell_line_to_i)"
   ]
  },
  {
   "cell_type": "code",
   "execution_count": null,
   "metadata": {},
   "outputs": [],
   "source": [
    "gene_to_i = kraft.array.map_int(genes)[0]\n",
    "\n",
    "len(gene_to_i)"
   ]
  },
  {
   "cell_type": "code",
   "execution_count": null,
   "metadata": {},
   "outputs": [],
   "source": [
    "def combine(gene, str_):\n",
    "\n",
    "    if not isinstance(str_, str):\n",
    "\n",
    "        str_ = \"\"\n",
    "\n",
    "    return \"{}_{}\".format(gene, str_)"
   ]
  },
  {
   "cell_type": "code",
   "execution_count": null,
   "metadata": {},
   "outputs": [],
   "source": [
    "gene_variant_classifications = np.asarray(\n",
    "    tuple(\n",
    "        combine(gene, variant_classification)\n",
    "        for gene, variant_classification in zip(genes, variant_classifications)\n",
    "    )\n",
    ")\n",
    "\n",
    "gene_variant_classification_to_i = kraft.array.map_int(gene_variant_classifications)[0]\n",
    "\n",
    "len(gene_variant_classification_to_i)"
   ]
  },
  {
   "cell_type": "code",
   "execution_count": null,
   "metadata": {
    "ExecuteTime": {
     "end_time": "2018-07-08T01:08:26.126114Z",
     "start_time": "2018-07-08T01:08:25.926527Z"
    }
   },
   "outputs": [],
   "source": [
    "gene_protein_changes = np.asarray(\n",
    "    tuple(\n",
    "        combine(gene, protein_change)\n",
    "        for gene, protein_change in zip(genes, protein_changes)\n",
    "    )\n",
    ")\n",
    "\n",
    "gene_protein_change_to_i = kraft.array.map_int(gene_protein_changes)[0]\n",
    "\n",
    "len(gene_protein_change_to_i)"
   ]
  },
  {
   "cell_type": "code",
   "execution_count": null,
   "metadata": {
    "ExecuteTime": {
     "end_time": "2018-07-08T01:41:26.363600Z",
     "start_time": "2018-07-08T01:09:27.049774Z"
    }
   },
   "outputs": [],
   "source": [
    "gene_x_cell_line = np.full((len(gene_to_i), len(cell_line_to_i)), 0)\n",
    "\n",
    "gene_variant_classification_x_cell_line = np.full(\n",
    "    (len(gene_variant_classification_to_i), len(cell_line_to_i)), 0\n",
    ")\n",
    "\n",
    "gene_protein_change_x_cell_line = np.full(\n",
    "    (len(gene_protein_change_to_i), len(cell_line_to_i)), 0\n",
    ")"
   ]
  },
  {
   "cell_type": "code",
   "execution_count": null,
   "metadata": {
    "ExecuteTime": {
     "end_time": "2018-07-08T01:41:26.363600Z",
     "start_time": "2018-07-08T01:09:27.049774Z"
    }
   },
   "outputs": [],
   "source": [
    "for gene, gene_variant_classification, gene_protein_change, cell_line in zip(\n",
    "    genes, gene_variant_classifications, gene_protein_changes, cell_lines\n",
    "):\n",
    "\n",
    "    cell_line_i = cell_line_to_i[cell_line]\n",
    "\n",
    "    gene_x_cell_line[gene_to_i[gene], cell_line_i] += 1\n",
    "\n",
    "    if not isinstance(gene_variant_classification, str):\n",
    "\n",
    "        gene_variant_classification = \"\"\n",
    "\n",
    "    gene_variant_classification_x_cell_line[\n",
    "        gene_variant_classification_to_i[gene_variant_classification], cell_line_i,\n",
    "    ] += 1\n",
    "\n",
    "    if not isinstance(gene_protein_change, str):\n",
    "\n",
    "        gene_protein_change = \"\"\n",
    "\n",
    "    gene_protein_change_x_cell_line[\n",
    "        gene_protein_change_to_i[gene_protein_change], cell_line_i\n",
    "    ] += 1"
   ]
  },
  {
   "cell_type": "code",
   "execution_count": null,
   "metadata": {},
   "outputs": [],
   "source": [
    "gene_x_cell_line = pd.DataFrame(\n",
    "    gene_x_cell_line, index=gene_to_i, columns=cell_line_to_i\n",
    ")\n",
    "\n",
    "gene_x_cell_line.index.name = \"Gene\"\n",
    "\n",
    "gene_x_cell_line.columns.name = \"Cell Line\"\n",
    "\n",
    "kraft.dataframe.error_axes(gene_x_cell_line)\n",
    "\n",
    "gene_x_cell_line.to_csv(\"{}/gene_x_cell_line.tsv\".format(directory_path), sep=\"\\t\")\n",
    "\n",
    "gene_x_cell_line"
   ]
  },
  {
   "cell_type": "code",
   "execution_count": null,
   "metadata": {},
   "outputs": [],
   "source": [
    "gene_x_cell_line_x_01 = gene_x_cell_line.clip(upper=1)\n",
    "\n",
    "gene_x_cell_line_x_01.to_csv(\n",
    "    \"{}/gene_x_cell_line_x_01.tsv\".format(directory_path), sep=\"\\t\"\n",
    ")\n",
    "\n",
    "gene_x_cell_line_x_01"
   ]
  },
  {
   "cell_type": "code",
   "execution_count": null,
   "metadata": {},
   "outputs": [],
   "source": [
    "gene_variant_classification_x_cell_line = pd.DataFrame(\n",
    "    gene_variant_classification_x_cell_line,\n",
    "    index=gene_variant_classification_to_i,\n",
    "    columns=cell_line_to_i,\n",
    ")\n",
    "\n",
    "gene_variant_classification_x_cell_line.index.name = \"Gene Variant Classification\"\n",
    "\n",
    "gene_variant_classification_x_cell_line.columns.name = \"Cell Line\"\n",
    "\n",
    "kraft.dataframe.error_axes(gene_variant_classification_x_cell_line)\n",
    "\n",
    "gene_variant_classification_x_cell_line.to_csv(\n",
    "    \"{}/gene_variant_classification_x_cell_line.tsv\".format(directory_path), sep=\"\\t\"\n",
    ")\n",
    "\n",
    "gene_variant_classification_x_cell_line"
   ]
  },
  {
   "cell_type": "code",
   "execution_count": null,
   "metadata": {},
   "outputs": [],
   "source": [
    "gene_protein_change_x_cell_line = pd.DataFrame(\n",
    "    gene_protein_change_x_cell_line,\n",
    "    index=gene_protein_change_to_i,\n",
    "    columns=cell_line_to_i,\n",
    ")\n",
    "\n",
    "gene_protein_change_x_cell_line.index.name = \"Protein Change\"\n",
    "\n",
    "gene_protein_change_x_cell_line.columns.name = \"Cell Line\"\n",
    "\n",
    "kraft.dataframe.error_axes(gene_protein_change_x_cell_line)\n",
    "\n",
    "gene_protein_change_x_cell_line.to_csv(\n",
    "    \"{}/gene_protein_change_x_cell_line.tsv\".format(directory_path), sep=\"\\t\"\n",
    ")\n",
    "\n",
    "gene_protein_change_x_cell_line"
   ]
  }
 ],
 "metadata": {
  "kernelspec": {
   "display_name": "Python 3",
   "language": "python",
   "name": "python3"
  },
  "language_info": {
   "codemirror_mode": {
    "name": "ipython",
    "version": 3
   },
   "file_extension": ".py",
   "mimetype": "text/x-python",
   "name": "python",
   "nbconvert_exporter": "python",
   "pygments_lexer": "ipython3",
   "version": "3.7.6"
  }
 },
 "nbformat": 4,
 "nbformat_minor": 4
}
