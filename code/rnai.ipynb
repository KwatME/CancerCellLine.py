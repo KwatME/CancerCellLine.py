{
 "cells": [
  {
   "cell_type": "code",
   "execution_count": null,
   "metadata": {},
   "outputs": [],
   "source": [
    "%load_ext autoreload\n",
    "%autoreload 2"
   ]
  },
  {
   "cell_type": "code",
   "execution_count": null,
   "metadata": {
    "ExecuteTime": {
     "end_time": "2018-07-08T01:08:15.968617Z",
     "start_time": "2018-07-08T01:08:14.081418Z"
    }
   },
   "outputs": [],
   "source": [
    "import pandas as pd\n",
    "\n",
    "import kraft"
   ]
  },
  {
   "cell_type": "code",
   "execution_count": null,
   "metadata": {},
   "outputs": [],
   "source": [
    "SETTING = kraft.json.read(\"setting.json\")"
   ]
  },
  {
   "cell_type": "code",
   "execution_count": null,
   "metadata": {},
   "outputs": [],
   "source": [
    "directory_path = \"{}/rnai/\".format(SETTING[\"directory_path\"])\n",
    "\n",
    "kraft.path.path(directory_path)"
   ]
  },
  {
   "cell_type": "code",
   "execution_count": null,
   "metadata": {},
   "outputs": [],
   "source": [
    "for url, file_name in (\n",
    "    (\"https://ndownloader.figshare.com/files/11489723\", \"shRNAmapping.csv\"),\n",
    "    (\n",
    "        \"https://ndownloader.figshare.com/files/11489654\",\n",
    "        \"achilles55kbatch1repcollapsedlfc.csv\",\n",
    "    ),\n",
    "    (\n",
    "        \"https://ndownloader.figshare.com/files/11489657\",\n",
    "        \"achilles55kbatch2repcollapsedlfc.csv\",\n",
    "    ),\n",
    "    (\n",
    "        \"https://ndownloader.figshare.com/files/11489660\",\n",
    "        \"achilles98krepcollapsedlfc.csv\",\n",
    "    ),\n",
    "    (\"https://ndownloader.figshare.com/files/11489702\", \"drivepoolalfcmat.csv\"),\n",
    "    (\"https://ndownloader.figshare.com/files/11489705\", \"drivepoolblfcmat.csv\"),\n",
    "    (\"https://ndownloader.figshare.com/files/13515395\", None),\n",
    "):\n",
    "\n",
    "    print(kraft.internet.download(url, directory_path, file_name=file_name))"
   ]
  },
  {
   "cell_type": "markdown",
   "metadata": {},
   "source": [
    "## Log fold change"
   ]
  },
  {
   "cell_type": "code",
   "execution_count": null,
   "metadata": {},
   "outputs": [],
   "source": [
    "barcode_to_combinations = {}\n",
    "\n",
    "for barcode, gene in pd.read_csv(\n",
    "    \"{}/shRNAmapping.csv\".format(directory_path), usecols=(0, 1)\n",
    ").to_numpy():\n",
    "\n",
    "    combination = \"{}_{}\".format(barcode, gene)\n",
    "\n",
    "    if barcode not in barcode_to_combinations:\n",
    "\n",
    "        barcode_to_combinations[barcode] = []\n",
    "\n",
    "    barcode_to_combinations[barcode].append(combination)\n",
    "\n",
    "len(barcode_to_combinations)"
   ]
  },
  {
   "cell_type": "code",
   "execution_count": null,
   "metadata": {},
   "outputs": [],
   "source": [
    "def make_barcode_gene_x_(barcode_x_):\n",
    "\n",
    "    axis_0_labels = []\n",
    "\n",
    "    rows = []\n",
    "\n",
    "    matrix = barcode_x_.to_numpy()\n",
    "\n",
    "    for i, barcode in enumerate(barcode_x_.index.to_numpy()):\n",
    "\n",
    "        for label in barcode_to_combinations.get(barcode, [barcode]):\n",
    "\n",
    "            axis_0_labels.append(label)\n",
    "\n",
    "            rows.append(matrix[i, :])\n",
    "\n",
    "    barcode_gene_x_ = pd.DataFrame(\n",
    "        rows, index=axis_0_labels, columns=barcode_x_.columns\n",
    "    )\n",
    "\n",
    "    barcode_gene_x_.index.name = \"Barcode Gene\"\n",
    "\n",
    "    return barcode_gene_x_"
   ]
  },
  {
   "cell_type": "markdown",
   "metadata": {},
   "source": [
    "### 50K"
   ]
  },
  {
   "cell_type": "code",
   "execution_count": null,
   "metadata": {},
   "outputs": [],
   "source": [
    "dataframe_1 = pd.read_csv(\n",
    "    \"{}/achilles55kbatch1repcollapsedlfc.csv\".format(directory_path), index_col=0\n",
    ")\n",
    "\n",
    "print(dataframe_1.shape)\n",
    "\n",
    "dataframe_2 = pd.read_csv(\n",
    "    \"{}/achilles55kbatch2repcollapsedlfc.csv\".format(directory_path), index_col=0\n",
    ")\n",
    "\n",
    "print(dataframe_2.shape)\n",
    "\n",
    "_50k_x_cell_line = pd.concat((dataframe_1, dataframe_2))\n",
    "\n",
    "print(_50k_x_cell_line.shape)\n",
    "\n",
    "_50k_x_cell_line = _50k_x_cell_line.groupby(level=0).median()\n",
    "\n",
    "print(_50k_x_cell_line.shape)\n",
    "\n",
    "_50k_x_cell_line = make_barcode_gene_x_(_50k_x_cell_line)\n",
    "\n",
    "_50k_x_cell_line.columns = kraft.name_biology.name_cell_lines(\n",
    "    _50k_x_cell_line.columns.to_numpy()\n",
    ")\n",
    "\n",
    "kraft.dataframe.error_axes(_50k_x_cell_line)\n",
    "\n",
    "_50k_x_cell_line"
   ]
  },
  {
   "cell_type": "markdown",
   "metadata": {},
   "source": [
    "### 100K"
   ]
  },
  {
   "cell_type": "code",
   "execution_count": null,
   "metadata": {},
   "outputs": [],
   "source": [
    "_100k_x_cell_line = pd.read_csv(\n",
    "    \"{}/achilles98krepcollapsedlfc.csv\".format(directory_path), index_col=0\n",
    ")\n",
    "\n",
    "print(_100k_x_cell_line.shape)\n",
    "\n",
    "_100k_x_cell_line = make_barcode_gene_x_(_100k_x_cell_line)\n",
    "\n",
    "_100k_x_cell_line.columns = kraft.name_biology.name_cell_lines(\n",
    "    _100k_x_cell_line.columns.to_numpy()\n",
    ")\n",
    "\n",
    "kraft.dataframe.error_axes(_100k_x_cell_line)\n",
    "\n",
    "_100k_x_cell_line"
   ]
  },
  {
   "cell_type": "markdown",
   "metadata": {},
   "source": [
    "### Drive"
   ]
  },
  {
   "cell_type": "code",
   "execution_count": null,
   "metadata": {},
   "outputs": [],
   "source": [
    "dataframe_a = pd.read_csv(\"{}/drivepoolalfcmat.csv\".format(directory_path), index_col=0)\n",
    "\n",
    "print(dataframe_a.shape)\n",
    "\n",
    "dataframe_b = pd.read_csv(\"{}/drivepoolblfcmat.csv\".format(directory_path), index_col=0)\n",
    "\n",
    "print(dataframe_b.shape)\n",
    "\n",
    "drive_x_cell_line = pd.concat((dataframe_a, dataframe_b))\n",
    "\n",
    "print(drive_x_cell_line.shape)\n",
    "\n",
    "drive_x_cell_line = drive_x_cell_line.groupby(level=0).median()\n",
    "\n",
    "print(drive_x_cell_line.shape)\n",
    "\n",
    "drive_gene_x_cell_line = make_barcode_gene_x_(drive_x_cell_line)\n",
    "\n",
    "drive_gene_x_cell_line.columns = kraft.name_biology.name_cell_lines(\n",
    "    drive_gene_x_cell_line.columns.to_numpy()\n",
    ")\n",
    "\n",
    "kraft.dataframe.error_axes(drive_gene_x_cell_line)\n",
    "\n",
    "drive_gene_x_cell_line"
   ]
  },
  {
   "cell_type": "markdown",
   "metadata": {},
   "source": [
    "## Demeter (50K, 100K, and Drive)"
   ]
  },
  {
   "cell_type": "code",
   "execution_count": null,
   "metadata": {
    "ExecuteTime": {
     "end_time": "2018-07-08T01:08:15.968617Z",
     "start_time": "2018-07-08T01:08:14.081418Z"
    }
   },
   "outputs": [],
   "source": [
    "gene_x_cell_line = pd.read_csv(\n",
    "    \"{}/D2_combined_gene_dep_scores.csv\".format(directory_path), index_col=0\n",
    ")\n",
    "\n",
    "gene_x_cell_line.index = (\n",
    "    label.split()[0] for label in gene_x_cell_line.index.to_numpy()\n",
    ")\n",
    "\n",
    "gene_x_cell_line.columns = kraft.name_biology.name_cell_lines(\n",
    "    gene_x_cell_line.columns.to_numpy()\n",
    ")\n",
    "\n",
    "gene_x_cell_line.index.name = \"Gene\"\n",
    "\n",
    "gene_x_cell_line.columns.name = \"Cell Line\"\n",
    "\n",
    "kraft.dataframe.error_axes(gene_x_cell_line)\n",
    "\n",
    "gene_x_cell_line.to_csv(\"{}/gene_x_cell_line.tsv\".format(directory_path), sep=\"\\t\")\n",
    "\n",
    "gene_x_cell_line"
   ]
  }
 ],
 "metadata": {
  "kernelspec": {
   "display_name": "Python 3",
   "language": "python",
   "name": "python3"
  },
  "language_info": {
   "codemirror_mode": {
    "name": "ipython",
    "version": 3
   },
   "file_extension": ".py",
   "mimetype": "text/x-python",
   "name": "python",
   "nbconvert_exporter": "python",
   "pygments_lexer": "ipython3",
   "version": "3.7.8"
  }
 },
 "nbformat": 4,
 "nbformat_minor": 4
}
