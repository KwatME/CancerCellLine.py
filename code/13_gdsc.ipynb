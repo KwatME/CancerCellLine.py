{
 "cells": [
  {
   "cell_type": "code",
   "execution_count": null,
   "metadata": {},
   "outputs": [],
   "source": [
    "from __init__ import *"
   ]
  },
  {
   "cell_type": "code",
   "execution_count": null,
   "metadata": {},
   "outputs": [],
   "source": [
    "directory_path = \"{}/gdsc/\".format(SETTING[\"directory_path\"])\n",
    "\n",
    "kraft.path.make(directory_path)"
   ]
  },
  {
   "cell_type": "code",
   "execution_count": null,
   "metadata": {},
   "outputs": [],
   "source": [
    "for url in (\n",
    "    \"https://depmap.org/portal/download/api/download/external?file_name=processed_portal_downloads%2Fgdsc-drug-set-export-658c.5%2Fsanger-viability.csv\",\n",
    "    \"https://depmap.org/portal/download/api/download/external?file_name=processed_portal_downloads%2Fgdsc-drug-set-export-658c.5%2Fsanger-dose-response.csv\",\n",
    "):\n",
    "\n",
    "    print(kraft.internet.download(url, directory_path))"
   ]
  },
  {
   "cell_type": "markdown",
   "metadata": {},
   "source": [
    "## Compound dose"
   ]
  },
  {
   "cell_type": "code",
   "execution_count": null,
   "metadata": {},
   "outputs": [],
   "source": [
    "doses, viabilities, cell_lines, compounds = (\n",
    "    pd.read_csv(\"{}/sanger-viability.csv\".format(directory_path), usecols=(2, 3, 5, 6))\n",
    "    .to_numpy()\n",
    "    .T\n",
    ")\n",
    "\n",
    "doses = doses.astype(float)\n",
    "\n",
    "compound_doses = np.asarray(\n",
    "    tuple(\n",
    "        \"{}_{:.2f}\".format(compound, dose) for compound, dose in zip(compounds, doses)\n",
    "    )\n",
    ")\n",
    "\n",
    "cell_lines = np.asarray(kraft.name_biology.name_cell_lines(cell_lines))\n",
    "\n",
    "viabilities = viabilities.astype(float)"
   ]
  },
  {
   "cell_type": "code",
   "execution_count": null,
   "metadata": {},
   "outputs": [],
   "source": [
    "compound_dose_x_cell_line = kraft.table.pivot(\n",
    "    compound_doses,\n",
    "    cell_lines,\n",
    "    viabilities,\n",
    "    axis_0_name=\"Compound Dose\",\n",
    "    axis_1_name=\"Cell Line\",\n",
    ")\n",
    "\n",
    "\n",
    "compound_dose_x_cell_line.to_csv(\n",
    "    \"{}/compound_dose_x_cell_line.tsv\".format(directory_path), sep=\"\\t\"\n",
    ")\n",
    "\n",
    "compound_dose_x_cell_line"
   ]
  },
  {
   "cell_type": "markdown",
   "metadata": {},
   "source": [
    "## Compound"
   ]
  },
  {
   "cell_type": "code",
   "execution_count": null,
   "metadata": {},
   "outputs": [],
   "source": [
    "cell_lines, compounds, aucs = (\n",
    "    pd.read_csv(\n",
    "        \"{}/sanger-dose-response.csv\".format(directory_path), usecols=(9, 10, 16)\n",
    "    )\n",
    "    .to_numpy()\n",
    "    .T\n",
    ")\n",
    "\n",
    "cell_lines = np.asarray(kraft.name_biology.name_cell_lines(cell_lines))\n",
    "\n",
    "aucs = aucs.astype(float)"
   ]
  },
  {
   "cell_type": "code",
   "execution_count": null,
   "metadata": {},
   "outputs": [],
   "source": [
    "compound_x_cell_line = kraft.table.pivot(\n",
    "    compounds, cell_lines, aucs, axis_0_name=\"Compound\", axis_1_name=\"Cell Line\"\n",
    ")\n",
    "\n",
    "compound_x_cell_line.to_csv(\n",
    "    \"{}/compound_x_cell_line.tsv\".format(directory_path), sep=\"\\t\"\n",
    ")\n",
    "\n",
    "compound_x_cell_line"
   ]
  }
 ],
 "metadata": {
  "kernelspec": {
   "display_name": "Python 3",
   "language": "python",
   "name": "python3"
  },
  "language_info": {
   "codemirror_mode": {
    "name": "ipython",
    "version": 3
   },
   "file_extension": ".py",
   "mimetype": "text/x-python",
   "name": "python",
   "nbconvert_exporter": "python",
   "pygments_lexer": "ipython3",
   "version": "3.7.8"
  }
 },
 "nbformat": 4,
 "nbformat_minor": 4
}
