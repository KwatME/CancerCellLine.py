{
 "cells": [
  {
   "cell_type": "code",
   "execution_count": null,
   "metadata": {},
   "outputs": [],
   "source": [
    "%load_ext autoreload\n",
    "%autoreload 2"
   ]
  },
  {
   "cell_type": "code",
   "execution_count": null,
   "metadata": {
    "ExecuteTime": {
     "end_time": "2018-07-08T01:08:15.968617Z",
     "start_time": "2018-07-08T01:08:14.081418Z"
    }
   },
   "outputs": [],
   "source": [
    "import pandas as pd\n",
    "\n",
    "import kraft"
   ]
  },
  {
   "cell_type": "code",
   "execution_count": null,
   "metadata": {},
   "outputs": [],
   "source": [
    "rna_gene_x_cell_line = pd.read_csv(\"CCLE_expression_full.csv\", index_col=0).T\n",
    "\n",
    "rna_gene_x_cell_line.index = (str_.split()[0] for str_ in rna_gene_x_cell_line.index)\n",
    "\n",
    "rna_gene_x_cell_line.columns = kraft.normalize_cell_line_names(\n",
    "    rna_gene_x_cell_line.columns\n",
    ")\n",
    "\n",
    "print(rna_gene_x_cell_line.shape)\n",
    "\n",
    "rna_gene_x_cell_line = rna_gene_x_cell_line.groupby(level=0).median()\n",
    "\n",
    "print(rna_gene_x_cell_line.shape)\n",
    "\n",
    "rna_gene_x_cell_line.to_csv(\"rna.gene_x_cell_line.tsv\", sep=\"\\t\")\n",
    "\n",
    "rna_gene_x_cell_line"
   ]
  }
 ],
 "metadata": {
  "kernelspec": {
   "display_name": "Python 3",
   "language": "python",
   "name": "python3"
  },
  "language_info": {
   "codemirror_mode": {
    "name": "ipython",
    "version": 3
   },
   "file_extension": ".py",
   "mimetype": "text/x-python",
   "name": "python",
   "nbconvert_exporter": "python",
   "pygments_lexer": "ipython3",
   "version": "3.7.6"
  }
 },
 "nbformat": 4,
 "nbformat_minor": 4
}
