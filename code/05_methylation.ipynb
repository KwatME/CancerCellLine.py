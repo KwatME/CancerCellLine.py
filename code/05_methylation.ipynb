{
 "cells": [
  {
   "cell_type": "code",
   "execution_count": null,
   "metadata": {},
   "outputs": [],
   "source": [
    "from __init__ import *"
   ]
  },
  {
   "cell_type": "code",
   "execution_count": null,
   "metadata": {},
   "outputs": [],
   "source": [
    "directory_path = \"{}/methylation/\".format(SETTING[\"directory_path\"])\n",
    "\n",
    "kraft.path.path(directory_path)"
   ]
  },
  {
   "cell_type": "code",
   "execution_count": null,
   "metadata": {},
   "outputs": [],
   "source": [
    "for url in (\n",
    "    \"https://depmap.org/portal/download/api/download/external?file_name=ccle%2Fccle_2019%2FCCLE_RRBS_tss_CpG_clusters_20181022.txt.gz\",\n",
    "):\n",
    "\n",
    "    print(kraft.internet.download(url, directory_path))"
   ]
  },
  {
   "cell_type": "code",
   "execution_count": null,
   "metadata": {},
   "outputs": [],
   "source": [
    "gene_x_cell_line = pd.read_csv(\n",
    "    \"{}/CCLE_RRBS_tss_CpG_clusters_20181022.txt.gz\".format(directory_path),\n",
    "    sep=\"\\t\",\n",
    "    na_values=(\"    NaN\",),\n",
    "    index_col=0,\n",
    "    skipfooter=1,\n",
    ").drop(columns=[\"CpG_sites_hg19\", \"avg_coverage\"])\n",
    "\n",
    "gene_x_cell_line.index = (\n",
    "    label.split(sep=\"_\", maxsplit=1)[0] for label in gene_x_cell_line.index.to_numpy()\n",
    ")\n",
    "\n",
    "gene_x_cell_line.index = kraft.name_biology.name_genes(\n",
    "    gene_x_cell_line.index.to_numpy()\n",
    ")\n",
    "\n",
    "gene_x_cell_line.index.name = \"Gene\"\n",
    "\n",
    "gene_x_cell_line = kraft.feature_x_sample.collapse(gene_x_cell_line)\n",
    "\n",
    "gene_x_cell_line.columns = kraft.name_biology.name_cell_lines(\n",
    "    gene_x_cell_line.columns.to_numpy()\n",
    ")\n",
    "\n",
    "gene_x_cell_line.columns.name = \"Cell Line\"\n",
    "\n",
    "kraft.table.error_axes(gene_x_cell_line)\n",
    "\n",
    "gene_x_cell_line.to_csv(\"{}/gene_x_cell_line.tsv\".format(directory_path), sep=\"\\t\")\n",
    "\n",
    "gene_x_cell_line"
   ]
  }
 ],
 "metadata": {
  "kernelspec": {
   "display_name": "Python 3",
   "language": "python",
   "name": "python3"
  },
  "language_info": {
   "codemirror_mode": {
    "name": "ipython",
    "version": 3
   },
   "file_extension": ".py",
   "mimetype": "text/x-python",
   "name": "python",
   "nbconvert_exporter": "python",
   "pygments_lexer": "ipython3",
   "version": "3.7.8"
  }
 },
 "nbformat": 4,
 "nbformat_minor": 4
}
