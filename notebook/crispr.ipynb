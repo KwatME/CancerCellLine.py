{
 "cells": [
  {
   "cell_type": "code",
   "execution_count": null,
   "metadata": {},
   "outputs": [],
   "source": [
    "%load_ext autoreload\n",
    "%autoreload 2"
   ]
  },
  {
   "cell_type": "code",
   "execution_count": null,
   "metadata": {
    "ExecuteTime": {
     "end_time": "2018-07-08T01:08:15.968617Z",
     "start_time": "2018-07-08T01:08:14.081418Z"
    }
   },
   "outputs": [],
   "source": [
    "import pandas as pd\n",
    "\n",
    "import kraft"
   ]
  },
  {
   "cell_type": "code",
   "execution_count": null,
   "metadata": {},
   "outputs": [],
   "source": [
    "directory_path = \"/home/kwat/garden/data/cancer_cell_line/crispr/\"\n",
    "\n",
    "kraft.path(directory_path)"
   ]
  },
  {
   "cell_type": "markdown",
   "metadata": {},
   "source": [
    "## Log fold change"
   ]
  },
  {
   "cell_type": "code",
   "execution_count": null,
   "metadata": {},
   "outputs": [],
   "source": [
    "# TODO"
   ]
  },
  {
   "cell_type": "markdown",
   "metadata": {},
   "source": [
    "## Ceres"
   ]
  },
  {
   "cell_type": "code",
   "execution_count": null,
   "metadata": {
    "ExecuteTime": {
     "end_time": "2018-07-08T01:08:15.968617Z",
     "start_time": "2018-07-08T01:08:14.081418Z"
    }
   },
   "outputs": [],
   "source": [
    "gene_x_cell_line_x_crispr = pd.read_csv(\n",
    "    \"{}Achilles_gene_effect_unscaled.csv\".format(directory_path), index_col=0\n",
    ").T\n",
    "\n",
    "gene_x_cell_line_x_crispr"
   ]
  },
  {
   "cell_type": "code",
   "execution_count": null,
   "metadata": {
    "ExecuteTime": {
     "end_time": "2018-07-08T01:08:15.968617Z",
     "start_time": "2018-07-08T01:08:14.081418Z"
    }
   },
   "outputs": [],
   "source": [
    "gene_x_cell_line_x_crispr.index = tuple(\n",
    "    gene.split()[0] for gene in gene_x_cell_line_x_crispr.index.to_numpy()\n",
    ")"
   ]
  },
  {
   "cell_type": "code",
   "execution_count": null,
   "metadata": {
    "ExecuteTime": {
     "end_time": "2018-07-08T01:08:15.968617Z",
     "start_time": "2018-07-08T01:08:14.081418Z"
    }
   },
   "outputs": [],
   "source": [
    "gene_x_cell_line_x_crispr.columns = kraft.normalize_cell_line_names(\n",
    "    gene_x_cell_line_x_crispr.columns.to_numpy()\n",
    ")"
   ]
  },
  {
   "cell_type": "code",
   "execution_count": null,
   "metadata": {
    "ExecuteTime": {
     "end_time": "2018-07-08T01:08:15.968617Z",
     "start_time": "2018-07-08T01:08:14.081418Z"
    }
   },
   "outputs": [],
   "source": [
    "kraft.error_axis(gene_x_cell_line_x_crispr)\n",
    "\n",
    "gene_x_cell_line_x_crispr.index.name = \"Gene\"\n",
    "\n",
    "gene_x_cell_line_x_crispr.to_csv(\n",
    "    \"{}gene_x_cell_line_x_crispr.tsv\".format(directory_path), sep=\"\\t\"\n",
    ")\n",
    "\n",
    "gene_x_cell_line_x_crispr"
   ]
  }
 ],
 "metadata": {
  "kernelspec": {
   "display_name": "Python 3",
   "language": "python",
   "name": "python3"
  },
  "language_info": {
   "codemirror_mode": {
    "name": "ipython",
    "version": 3
   },
   "file_extension": ".py",
   "mimetype": "text/x-python",
   "name": "python",
   "nbconvert_exporter": "python",
   "pygments_lexer": "ipython3",
   "version": "3.7.6"
  }
 },
 "nbformat": 4,
 "nbformat_minor": 4
}
