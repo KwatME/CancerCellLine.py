{
 "cells": [
  {
   "cell_type": "code",
   "execution_count": 1,
   "metadata": {},
   "outputs": [],
   "source": [
    "from __init__ import *"
   ]
  },
  {
   "cell_type": "code",
   "execution_count": 2,
   "metadata": {},
   "outputs": [],
   "source": [
    "directory_path = \"{}/feature/\".format(SETTING[\"directory_path\"])\n",
    "\n",
    "kraft.path.make(directory_path)"
   ]
  },
  {
   "cell_type": "code",
   "execution_count": 5,
   "metadata": {},
   "outputs": [
    {
     "name": "stdout",
     "output_type": "stream",
     "text": [
      "/media/kwat/CarrotCake/garden/data/cancer_cell_line//feature/22629137 exists.\n",
      "https://ndownloader.figshare.com/files/22629137 => /media/kwat/CarrotCake/garden/data/cancer_cell_line//feature/22629137...\n",
      "/media/kwat/CarrotCake/garden/data/cancer_cell_line//feature/22629137\n"
     ]
    }
   ],
   "source": [
    "for url in (\"https://ndownloader.figshare.com/files/22629137\",):\n",
    "\n",
    "    print(kraft.internet.download(url, directory_path))"
   ]
  },
  {
   "cell_type": "markdown",
   "metadata": {},
   "source": [
    "## Map cell line name"
   ]
  },
  {
   "cell_type": "code",
   "execution_count": 7,
   "metadata": {},
   "outputs": [
    {
     "data": {
      "text/plain": [
       "10448"
      ]
     },
     "execution_count": 7,
     "metadata": {},
     "output_type": "execute_result"
    }
   ],
   "source": [
    "name_to_id = (\n",
    "    pd.read_csv(\n",
    "        \"../input/cell-line-synon-names.txt\",\n",
    "        sep=\"\\t\",\n",
    "        usecols=(0, 1),\n",
    "        index_col=1,\n",
    "        squeeze=True,\n",
    "    )\n",
    "    .dropna()\n",
    "    .to_dict()\n",
    ")\n",
    "\n",
    "id_to_rename = (\n",
    "    pd.read_csv(\n",
    "        \"../input/cell-line-best-names.txt\",\n",
    "        sep=\"\\t\",\n",
    "        usecols=(0, 1),\n",
    "        index_col=0,\n",
    "        squeeze=True,\n",
    "    )\n",
    "    .dropna()\n",
    "    .to_dict()\n",
    ")\n",
    "\n",
    "name_to_rename = {name.lower(): id_to_rename[id_] for name, id_ in name_to_id.items()}\n",
    "\n",
    "len(name_to_rename)"
   ]
  },
  {
   "cell_type": "code",
   "execution_count": 8,
   "metadata": {},
   "outputs": [
    {
     "name": "stdout",
     "output_type": "stream",
     "text": [
      "ACH-001163: PEDS005TPFAD ==> CCLFPEDS0001T\n",
      "ACH-001164: PEDS015T ==> CCLFPEDS0003T\n",
      "ACH-001206: TCC466 ==> TTC466\n",
      "ACH-002124: H2373 ==> NCIH2373\n",
      "ACH-002125: H2461 ==> NCIH2461\n",
      "ACH-002126: H2591 ==> NCIH2591\n"
     ]
    },
    {
     "data": {
      "text/plain": [
       "11489"
      ]
     },
     "execution_count": 8,
     "metadata": {},
     "output_type": "execute_result"
    }
   ],
   "source": [
    "for name, rename in (\n",
    "    pd.read_csv(\n",
    "        \"../input/ice000.cols.cell_line_identity.2777.csv\",\n",
    "        usecols=(2, 3),\n",
    "        index_col=0,\n",
    "        squeeze=True,\n",
    "    )\n",
    "    .dropna()\n",
    "    .items()\n",
    "):\n",
    "\n",
    "    name_lower = name.lower()\n",
    "\n",
    "    if name_lower in name_to_rename:\n",
    "\n",
    "        rename_now = name_to_rename[name_lower]\n",
    "\n",
    "        if rename_now != rename:\n",
    "\n",
    "            print(\"{}: {} ==> {}\".format(name, rename_now, rename))\n",
    "\n",
    "    name_to_rename[name_lower] = rename\n",
    "\n",
    "len(name_to_rename)"
   ]
  },
  {
   "cell_type": "code",
   "execution_count": 11,
   "metadata": {},
   "outputs": [],
   "source": [
    "feature_x_cell_line = pd.read_csv(\n",
    "    \"{}22629137\".format(directory_path), index_col=1\n",
    ").T"
   ]
  },
  {
   "cell_type": "code",
   "execution_count": 13,
   "metadata": {},
   "outputs": [
    {
     "name": "stdout",
     "output_type": "stream",
     "text": [
      "NCI-H1581: NCIH1581 ==> NCIH2077\n",
      "NCI-H2077: NCIH2077 ==> NCIH1581\n",
      "D283: D283 ==> D283MED\n",
      "ACH-000095: D341MED ==> D341\n",
      "D341MED_CENTRAL_NERVOUS_SYSTEM: D341MED ==> D341\n",
      "D341MED: D341MED ==> D341\n",
      "SR: SR ==> SR786\n",
      "ACH-000561: TTOESOPHAGUS ==> TDOTT\n",
      "TT_OESOPHAGUS: TTOESOPHAGUS ==> TDOTT\n",
      "ACH-000815: KMH2HAEMATOPOIETICANDLYMPHOIDTISSUE ==> KMH2\n",
      "KMH2_HAEMATOPOIETIC_AND_LYMPHOID_TISSUE: KMH2HAEMATOPOIETICANDLYMPHOIDTISSUE ==> KMH2\n",
      "CHL-1: CHL1 ==> HMCB\n",
      "ACH-001007: A673STAG2KO16_ENGINEERED ==> A673STAG2KO16\n",
      "ACH-001008: A673STAG2KO45_ENGINEERED ==> A673STAG2KO45\n",
      "ACH-001009: A673STAG2NT14_ENGINEERED ==> A673STAG2NT14\n",
      "ACH-001010: A673STAG2NT23_ENGINEERED ==> A673STAG2NT23\n",
      "HMCB: HMCB ==> CHL1\n",
      "PSN1: PSN1 ==> GRM\n",
      "LC-1F: LC1F ==> LC1SQSF\n",
      "ACH-001131: MS1SKIN ==> MSDASH1\n",
      "MS1_SKIN: MS1SKIN ==> MSDASH1\n",
      "MS-1: MS1LUNG ==> MSDASH1\n",
      "R256_CENTRAL_NERVOUS_SYSTEM: R256_CENTRAL_NERVOUS_SYSTEM ==> R256\n",
      "TCC466_BONE: TCC466 ==> TTC466\n",
      "ACH-001225: UMRC6 ==> UMRC6NEO\n",
      "UMRC6_KIDNEY: UMRC6 ==> UMRC6NEO\n",
      "UPCISCC090_UPPER_AERODIGESTIVE_TRACT: UPCISCC090_UPPER_AERODIGESTIVE_TRACT ==> UPCISCC090\n",
      "UPCISCC154_UPPER_AERODIGESTIVE_TRACT: UPCISCC154_UPPER_AERODIGESTIVE_TRACT ==> UPCISCC154\n",
      "ACH-001321: TTTHYROID ==> TT\n",
      "TT_THYROID: TTTHYROID ==> TT\n",
      "KOSC-2: KOSC2 ==> KOSC2CL343\n",
      "ACH-001958: MS1LUNG ==> MS1\n",
      "MS1_LUNG: MS1LUNG ==> MS1\n",
      "ACH-002001: A375_SKIN_CJ1_RESISTANT ==> A375SKINCJ1\n",
      "ACH-002002: A375_SKIN_CJ2_RESISTANT ==> A375SKINCJ2\n",
      "ACH-002003: A375_SKIN_CJ3_RESISTANT ==> A375SKINCJ3\n",
      "ACH-002004: UACC62_SKIN_CJ1_RESISTANT ==> UACC62SKINCJ1\n",
      "ACH-002124: NCIH2373 ==> H2373\n",
      "ACH-002125: NCIH2461 ==> H2461\n",
      "ACH-002126: NCIH2591 ==> H2591\n",
      "ACH-002138: NCIH513 ==> H513\n",
      "H513_LUNG: NCIH513 ==> H513\n",
      "ACH-002342: BB30PBL_MATCHED_NORMAL_TISSUE ==> BB30PBL\n",
      "BB30PBL_MATCHED_NORMAL_TISSUE: BB30PBL_MATCHED_NORMAL_TISSUE ==> BB30PBL\n",
      "ACH-002343: BB49EBV_MATCHED_NORMAL_TISSUE ==> BB49EBV\n",
      "BB49EBV_MATCHED_NORMAL_TISSUE: BB49EBV_MATCHED_NORMAL_TISSUE ==> BB49EBV\n",
      "ACH-002344: BB65EBV_MATCHED_NORMAL_TISSUE ==> BB65EBV\n",
      "BB65EBV_MATCHED_NORMAL_TISSUE: BB65EBV_MATCHED_NORMAL_TISSUE ==> BB65EBV\n",
      "ACH-002346: CP50EBV_MATCHED_NORMAL_TISSUE ==> CP50EBV\n",
      "CP50EBV_MATCHED_NORMAL_TISSUE: CP50EBV_MATCHED_NORMAL_TISSUE ==> CP50EBV\n",
      "ACH-002347: CP66EBV_MATCHED_NORMAL_TISSUE ==> CP66EBV\n",
      "CP66EBV_MATCHED_NORMAL_TISSUE: CP66EBV_MATCHED_NORMAL_TISSUE ==> CP66EBV\n",
      "ACH-002350: HA7EBV_MATCHED_NORMAL_TISSUE ==> HA7EBV\n",
      "HA7EBV_MATCHED_NORMAL_TISSUE: HA7EBV_MATCHED_NORMAL_TISSUE ==> HA7EBV\n",
      "ACH-002351: L542_MATCHED_NORMAL_TISSUE ==> L542\n",
      "L542_MATCHED_NORMAL_TISSUE: L542_MATCHED_NORMAL_TISSUE ==> L542\n",
      "ACH-002352: LB1047EBV_MATCHED_NORMAL_TISSUE ==> LB1047EBV\n",
      "LB1047EBV_MATCHED_NORMAL_TISSUE: LB1047EBV_MATCHED_NORMAL_TISSUE ==> LB1047EBV\n",
      "ACH-002353: LB2241EBV_MATCHED_NORMAL_TISSUE ==> LB2241EBV\n",
      "LB2241EBV_MATCHED_NORMAL_TISSUE: LB2241EBV_MATCHED_NORMAL_TISSUE ==> LB2241EBV\n",
      "ACH-002354: LB2518EBV_MATCHED_NORMAL_TISSUE ==> LB2518EBV\n",
      "LB2518EBV_MATCHED_NORMAL_TISSUE: LB2518EBV_MATCHED_NORMAL_TISSUE ==> LB2518EBV\n",
      "ACH-002355: LB373EBV_MATCHED_NORMAL_TISSUE ==> LB373EBV\n",
      "LB373EBV_MATCHED_NORMAL_TISSUE: LB373EBV_MATCHED_NORMAL_TISSUE ==> LB373EBV\n",
      "ACH-002356: LB647PBL_MATCHED_NORMAL_TISSUE ==> LB647PBL\n",
      "LB647PBL_MATCHED_NORMAL_TISSUE: LB647PBL_MATCHED_NORMAL_TISSUE ==> LB647PBL\n",
      "ACH-002357: LB771PBL_MATCHED_NORMAL_TISSUE ==> LB771PBL\n",
      "LB771PBL_MATCHED_NORMAL_TISSUE: LB771PBL_MATCHED_NORMAL_TISSUE ==> LB771PBL\n",
      "ACH-002358: LB831EBV_MATCHED_NORMAL_TISSUE ==> LB831EBV\n",
      "LB831EBV_MATCHED_NORMAL_TISSUE: LB831EBV_MATCHED_NORMAL_TISSUE ==> LB831EBV\n",
      "ACH-002359: LB996EBV_MATCHED_NORMAL_TISSUE ==> LB996EBV\n",
      "LB996EBV_MATCHED_NORMAL_TISSUE: LB996EBV_MATCHED_NORMAL_TISSUE ==> LB996EBV\n",
      "ACH-002360: MZ1B_MATCHED_NORMAL_TISSUE ==> MZ1B\n",
      "MZ1B_MATCHED_NORMAL_TISSUE: MZ1B_MATCHED_NORMAL_TISSUE ==> MZ1B\n",
      "ACH-002361: MZ7B_MATCHED_NORMAL_TISSUE ==> MZ7B\n",
      "MZ7B_MATCHED_NORMAL_TISSUE: MZ7B_MATCHED_NORMAL_TISSUE ==> MZ7B\n",
      "ACH-002362: NCIBL128_MATCHED_NORMAL_TISSUE ==> NCIBL128\n",
      "NCIBL128_MATCHED_NORMAL_TISSUE: NCIBL128_MATCHED_NORMAL_TISSUE ==> NCIBL128\n",
      "ACH-002363: NCIBL1395_MATCHED_NORMAL_TISSUE ==> NCIBL1395\n",
      "NCIBL1395_MATCHED_NORMAL_TISSUE: NCIBL1395_MATCHED_NORMAL_TISSUE ==> NCIBL1395\n",
      "ACH-002364: NCIBL1437_MATCHED_NORMAL_TISSUE ==> NCIBL1437\n",
      "NCIBL1437_MATCHED_NORMAL_TISSUE: NCIBL1437_MATCHED_NORMAL_TISSUE ==> NCIBL1437\n",
      "ACH-002365: NCIBL1770_MATCHED_NORMAL_TISSUE ==> NCIBL1770\n",
      "NCIBL1770_MATCHED_NORMAL_TISSUE: NCIBL1770_MATCHED_NORMAL_TISSUE ==> NCIBL1770\n",
      "ACH-002366: NCIBL2009_MATCHED_NORMAL_TISSUE ==> NCIBL2009\n",
      "NCIBL2009_MATCHED_NORMAL_TISSUE: NCIBL2009_MATCHED_NORMAL_TISSUE ==> NCIBL2009\n",
      "ACH-002367: NCIBL2052_MATCHED_NORMAL_TISSUE ==> NCIBL2052\n",
      "NCIBL2052_MATCHED_NORMAL_TISSUE: NCIBL2052_MATCHED_NORMAL_TISSUE ==> NCIBL2052\n",
      "ACH-002368: NCIBL2087_MATCHED_NORMAL_TISSUE ==> NCIBL2087\n",
      "NCIBL2087_MATCHED_NORMAL_TISSUE: NCIBL2087_MATCHED_NORMAL_TISSUE ==> NCIBL2087\n",
      "ACH-002369: NCIBL209_MATCHED_NORMAL_TISSUE ==> NCIBL209\n",
      "NCIBL209_MATCHED_NORMAL_TISSUE: NCIBL209_MATCHED_NORMAL_TISSUE ==> NCIBL209\n",
      "ACH-002370: NCIBL2122_MATCHED_NORMAL_TISSUE ==> NCIBL2122\n",
      "NCIBL2122_MATCHED_NORMAL_TISSUE: NCIBL2122_MATCHED_NORMAL_TISSUE ==> NCIBL2122\n",
      "ACH-002371: NCIBL2126_MATCHED_NORMAL_TISSUE ==> NCIBL2126\n",
      "NCIBL2126_MATCHED_NORMAL_TISSUE: NCIBL2126_MATCHED_NORMAL_TISSUE ==> NCIBL2126\n",
      "ACH-002372: NCIBL2171_MATCHED_NORMAL_TISSUE ==> NCIBL2171\n",
      "NCIBL2171_MATCHED_NORMAL_TISSUE: NCIBL2171_MATCHED_NORMAL_TISSUE ==> NCIBL2171\n",
      "ACH-002373: HCC1187_MATCHED_NORMAL_TISSUE ==> HCC1187BL\n",
      "HCC1187_MATCHED_NORMAL_TISSUE: HCC1187_MATCHED_NORMAL_TISSUE ==> HCC1187BL\n",
      "ACH-002374: HCC1599_MATCHED_NORMAL_TISSUE ==> HCC1599BL\n",
      "HCC1599_MATCHED_NORMAL_TISSUE: HCC1599_MATCHED_NORMAL_TISSUE ==> HCC1599BL\n",
      "ACH-002375: HCC1937_MATCHED_NORMAL_TISSUE ==> HCC1937BL\n",
      "HCC1937_MATCHED_NORMAL_TISSUE: HCC1937_MATCHED_NORMAL_TISSUE ==> HCC1937BL\n",
      "ACH-002376: LS1034_MATCHED_NORMAL_TISSUE ==> LS1034PBL\n",
      "LS1034_MATCHED_NORMAL_TISSUE: LS1034_MATCHED_NORMAL_TISSUE ==> LS1034PBL\n",
      "ACH-002377: HCC38_MATCHED_NORMAL_TISSUE ==> HCC38BL\n",
      "HCC38_MATCHED_NORMAL_TISSUE: HCC38_MATCHED_NORMAL_TISSUE ==> HCC38BL\n",
      "ACH-002378: HCC1143_MATCHED_NORMAL_TISSUE ==> HCC1143BL\n",
      "HCC1143_MATCHED_NORMAL_TISSUE: HCC1143_MATCHED_NORMAL_TISSUE ==> HCC1143BL\n",
      "ACH-002379: J82_MATCHED_NORMAL_TISSUE ==> J82EBV\n",
      "J82_MATCHED_NORMAL_TISSUE: J82_MATCHED_NORMAL_TISSUE ==> J82EBV\n",
      "ACH-002380: COLO829_MATCHED_NORMAL_TISSUE ==> COLO829BL\n",
      "COLO829_MATCHED_NORMAL_TISSUE: COLO829_MATCHED_NORMAL_TISSUE ==> COLO829BL\n",
      "ACH-002381: HCC2157_MATCHED_NORMAL_TISSUE ==> HCC2157BL\n",
      "HCC2157_MATCHED_NORMAL_TISSUE: HCC2157_MATCHED_NORMAL_TISSUE ==> HCC2157BL\n",
      "ACH-002382: HCC1395_MATCHED_NORMAL_TISSUE ==> HCC1395BL\n",
      "HCC1395_MATCHED_NORMAL_TISSUE: HCC1395_MATCHED_NORMAL_TISSUE ==> HCC1395BL\n",
      "ACH-002383: HCC2218_MATCHED_NORMAL_TISSUE ==> HCC2218BL\n",
      "HCC2218_MATCHED_NORMAL_TISSUE: HCC2218_MATCHED_NORMAL_TISSUE ==> HCC2218BL\n",
      "ACH-002384: HCC1954_MATCHED_NORMAL_TISSUE ==> HCC1954BL\n",
      "HCC1954_MATCHED_NORMAL_TISSUE: HCC1954_MATCHED_NORMAL_TISSUE ==> HCC1954BL\n",
      "ACH-002397: KMH2THYROID ==> KMHDASH2\n",
      "KMH2_THYROID: KMH2THYROID ==> KMHDASH2\n",
      "ACH-002458: HT144_SKIN_FV1_RESISTANT ==> HT144SKINFV1\n",
      "ACH-002459: HT144_SKIN_FV3_RESISTANT ==> HT144SKINFV3\n",
      "ACH-002460: HT144_SKIN_FV2_RESISTANT ==> HT144SKINFV2\n",
      "ACH-002461: RVH421_SKIN_FV1_RESISTANT ==> RVH421SKINFV1\n",
      "ACH-002475: HAP1_ENGINEERED ==> HAP1\n"
     ]
    },
    {
     "data": {
      "text/plain": [
       "11824"
      ]
     },
     "execution_count": 13,
     "metadata": {},
     "output_type": "execute_result"
    }
   ],
   "source": [
    "for rename, names in feature_x_cell_line.iloc[:3, :].items():\n",
    "\n",
    "    for name in names.dropna():\n",
    "\n",
    "        name_lower = name.lower()\n",
    "\n",
    "        if name_lower in name_to_rename:\n",
    "\n",
    "            rename_now = name_to_rename[name_lower]\n",
    "\n",
    "            if rename_now != rename:\n",
    "\n",
    "                print(\"{}: {} ==> {}\".format(name, rename_now, rename))\n",
    "\n",
    "        name_to_rename[name_lower] = rename\n",
    "\n",
    "len(name_to_rename)"
   ]
  },
  {
   "cell_type": "code",
   "execution_count": 14,
   "metadata": {},
   "outputs": [
    {
     "data": {
      "text/plain": [
       "12805"
      ]
     },
     "execution_count": 14,
     "metadata": {},
     "output_type": "execute_result"
    }
   ],
   "source": [
    "for rename in tuple(name_to_rename.values()):\n",
    "\n",
    "    name_to_rename[rename.lower()] = rename\n",
    "\n",
    "len(name_to_rename)"
   ]
  },
  {
   "cell_type": "code",
   "execution_count": 15,
   "metadata": {},
   "outputs": [
    {
     "data": {
      "text/plain": [
       "Name\n",
       "ach-001435       1156QE8\n",
       "1156qe8          1156QE8\n",
       "1205lu            1205LU\n",
       "ach-002633        1205LU\n",
       "127399            127399\n",
       "                 ...    \n",
       "idcell:933    idCell:933\n",
       "cddb:867      idCell:934\n",
       "idcell:934    idCell:934\n",
       "idcell:935    idCell:935\n",
       "cddb:868      idCell:935\n",
       "Name: Rename, Length: 12805, dtype: object"
      ]
     },
     "execution_count": 15,
     "metadata": {},
     "output_type": "execute_result"
    }
   ],
   "source": [
    "name_to_rename = pd.Series(name_to_rename).sort_values()\n",
    "\n",
    "name_to_rename.index.name = \"Name\"\n",
    "\n",
    "name_to_rename.name = \"Rename\"\n",
    "\n",
    "name_to_rename.to_csv(\n",
    "    \"{}cell_line_name_rename.tsv\".format(directory_path), sep=\"\\t\", header=True\n",
    ")\n",
    "\n",
    "name_to_rename"
   ]
  },
  {
   "cell_type": "markdown",
   "metadata": {},
   "source": [
    "## Make feature_x_cell_line"
   ]
  },
  {
   "cell_type": "markdown",
   "metadata": {},
   "source": [
    "### All"
   ]
  },
  {
   "cell_type": "code",
   "execution_count": 16,
   "metadata": {},
   "outputs": [
    {
     "ename": "AttributeError",
     "evalue": "module 'kraft' has no attribute 'table'",
     "output_type": "error",
     "traceback": [
      "\u001b[0;31m---------------------------------------------------------------------------\u001b[0m",
      "\u001b[0;31mAttributeError\u001b[0m                            Traceback (most recent call last)",
      "\u001b[0;32m<ipython-input-16-9074a7a5fabb>\u001b[0m in \u001b[0;36m<module>\u001b[0;34m\u001b[0m\n\u001b[1;32m      8\u001b[0m \u001b[0mfeature_x_cell_line\u001b[0m\u001b[0;34m.\u001b[0m\u001b[0mcolumns\u001b[0m\u001b[0;34m.\u001b[0m\u001b[0mname\u001b[0m \u001b[0;34m=\u001b[0m \u001b[0;34m\"Cell Line\"\u001b[0m\u001b[0;34m\u001b[0m\u001b[0;34m\u001b[0m\u001b[0m\n\u001b[1;32m      9\u001b[0m \u001b[0;34m\u001b[0m\u001b[0m\n\u001b[0;32m---> 10\u001b[0;31m \u001b[0mkraft\u001b[0m\u001b[0;34m.\u001b[0m\u001b[0mtable\u001b[0m\u001b[0;34m.\u001b[0m\u001b[0merror_axes\u001b[0m\u001b[0;34m(\u001b[0m\u001b[0mfeature_x_cell_line\u001b[0m\u001b[0;34m)\u001b[0m\u001b[0;34m\u001b[0m\u001b[0;34m\u001b[0m\u001b[0m\n\u001b[0m\u001b[1;32m     11\u001b[0m \u001b[0;34m\u001b[0m\u001b[0m\n\u001b[1;32m     12\u001b[0m feature_x_cell_line.to_csv(\n",
      "\u001b[0;31mAttributeError\u001b[0m: module 'kraft' has no attribute 'table'"
     ]
    }
   ],
   "source": [
    "feature_x_cell_line.loc[\"Is Fibroblast\", :] = tuple(\n",
    "    int(bool(re.match(\".*FIBROBLAST$\", name)))\n",
    "    for name in feature_x_cell_line.loc[\"CCLE_Name\", :].to_numpy()\n",
    ")\n",
    "\n",
    "feature_x_cell_line.index.name = \"Feature\"\n",
    "\n",
    "feature_x_cell_line.columns.name = \"Cell Line\"\n",
    "\n",
    "kraft.table.error_axes(feature_x_cell_line)\n",
    "\n",
    "feature_x_cell_line.to_csv(\n",
    "    \"{}feature_x_cell_line.tsv\".format(directory_path), sep=\"\\t\"\n",
    ")\n",
    "\n",
    "feature_x_cell_line"
   ]
  },
  {
   "cell_type": "markdown",
   "metadata": {},
   "source": [
    "### Continuous"
   ]
  },
  {
   "cell_type": "code",
   "execution_count": 17,
   "metadata": {},
   "outputs": [
    {
     "data": {
      "text/html": [
       "<div>\n",
       "<style scoped>\n",
       "    .dataframe tbody tr th:only-of-type {\n",
       "        vertical-align: middle;\n",
       "    }\n",
       "\n",
       "    .dataframe tbody tr th {\n",
       "        vertical-align: top;\n",
       "    }\n",
       "\n",
       "    .dataframe thead th {\n",
       "        text-align: right;\n",
       "    }\n",
       "</style>\n",
       "<table border=\"1\" class=\"dataframe\">\n",
       "  <thead>\n",
       "    <tr style=\"text-align: right;\">\n",
       "      <th>Cell Line</th>\n",
       "      <th>NIHOVCAR3</th>\n",
       "      <th>HL60</th>\n",
       "      <th>CACO2</th>\n",
       "      <th>HEL</th>\n",
       "      <th>HEL9217</th>\n",
       "      <th>MONOMAC6</th>\n",
       "      <th>LS513</th>\n",
       "      <th>A101D</th>\n",
       "      <th>C2BBE1</th>\n",
       "      <th>NCIH2077</th>\n",
       "      <th>...</th>\n",
       "      <th>CCLFUPGI0005T</th>\n",
       "      <th>HT144SKINFV1</th>\n",
       "      <th>HT144SKINFV3</th>\n",
       "      <th>HT144SKINFV2</th>\n",
       "      <th>RVH421SKINFV1</th>\n",
       "      <th>HAP1</th>\n",
       "      <th>WM3211</th>\n",
       "      <th>WM4235</th>\n",
       "      <th>M040416</th>\n",
       "      <th>M140325</th>\n",
       "    </tr>\n",
       "    <tr>\n",
       "      <th>Feature</th>\n",
       "      <th></th>\n",
       "      <th></th>\n",
       "      <th></th>\n",
       "      <th></th>\n",
       "      <th></th>\n",
       "      <th></th>\n",
       "      <th></th>\n",
       "      <th></th>\n",
       "      <th></th>\n",
       "      <th></th>\n",
       "      <th></th>\n",
       "      <th></th>\n",
       "      <th></th>\n",
       "      <th></th>\n",
       "      <th></th>\n",
       "      <th></th>\n",
       "      <th></th>\n",
       "      <th></th>\n",
       "      <th></th>\n",
       "      <th></th>\n",
       "      <th></th>\n",
       "    </tr>\n",
       "  </thead>\n",
       "  <tbody>\n",
       "    <tr>\n",
       "      <th>age</th>\n",
       "      <td>60</td>\n",
       "      <td>35</td>\n",
       "      <td>NaN</td>\n",
       "      <td>30</td>\n",
       "      <td>30</td>\n",
       "      <td>64</td>\n",
       "      <td>63</td>\n",
       "      <td>56</td>\n",
       "      <td>72</td>\n",
       "      <td>NaN</td>\n",
       "      <td>...</td>\n",
       "      <td>NaN</td>\n",
       "      <td>29</td>\n",
       "      <td>29</td>\n",
       "      <td>29</td>\n",
       "      <td>NaN</td>\n",
       "      <td>40</td>\n",
       "      <td>34</td>\n",
       "      <td>NaN</td>\n",
       "      <td>54</td>\n",
       "      <td>64</td>\n",
       "    </tr>\n",
       "  </tbody>\n",
       "</table>\n",
       "<p>1 rows × 1804 columns</p>\n",
       "</div>"
      ],
      "text/plain": [
       "Cell Line NIHOVCAR3 HL60 CACO2 HEL HEL9217 MONOMAC6 LS513 A101D C2BBE1  \\\n",
       "Feature                                                                  \n",
       "age              60   35   NaN  30      30       64    63    56     72   \n",
       "\n",
       "Cell Line NCIH2077  ... CCLFUPGI0005T HT144SKINFV1 HT144SKINFV3 HT144SKINFV2  \\\n",
       "Feature             ...                                                        \n",
       "age            NaN  ...           NaN           29           29           29   \n",
       "\n",
       "Cell Line RVH421SKINFV1 HAP1 WM3211 WM4235 M040416 M140325  \n",
       "Feature                                                     \n",
       "age                 NaN   40     34    NaN      54      64  \n",
       "\n",
       "[1 rows x 1804 columns]"
      ]
     },
     "execution_count": 17,
     "metadata": {},
     "output_type": "execute_result"
    }
   ],
   "source": [
    "feature_x_cell_line_x_continuous = pd.concat((feature_x_cell_line.loc[[\"age\"], :],))\n",
    "\n",
    "feature_x_cell_line_x_continuous.to_csv(\n",
    "    \"{}feature_x_cell_line_x_continuous.tsv\".format(directory_path), sep=\"\\t\"\n",
    ")\n",
    "\n",
    "feature_x_cell_line_x_continuous"
   ]
  },
  {
   "cell_type": "markdown",
   "metadata": {},
   "source": [
    "### Binary"
   ]
  },
  {
   "cell_type": "code",
   "execution_count": 18,
   "metadata": {},
   "outputs": [
    {
     "ename": "AttributeError",
     "evalue": "module 'kraft' has no attribute 'table'",
     "output_type": "error",
     "traceback": [
      "\u001b[0;31m---------------------------------------------------------------------------\u001b[0m",
      "\u001b[0;31mAttributeError\u001b[0m                            Traceback (most recent call last)",
      "\u001b[0;32m<ipython-input-18-1658354d8823>\u001b[0m in \u001b[0;36m<module>\u001b[0;34m\u001b[0m\n\u001b[1;32m     13\u001b[0m ):\n\u001b[1;32m     14\u001b[0m \u001b[0;34m\u001b[0m\u001b[0m\n\u001b[0;32m---> 15\u001b[0;31m     \u001b[0mdataframe\u001b[0m \u001b[0;34m=\u001b[0m \u001b[0mkraft\u001b[0m\u001b[0;34m.\u001b[0m\u001b[0mtable\u001b[0m\u001b[0;34m.\u001b[0m\u001b[0mbinarize\u001b[0m\u001b[0;34m(\u001b[0m\u001b[0mfeature_x_cell_line\u001b[0m\u001b[0;34m.\u001b[0m\u001b[0mloc\u001b[0m\u001b[0;34m[\u001b[0m\u001b[0mlabel\u001b[0m\u001b[0;34m,\u001b[0m \u001b[0;34m:\u001b[0m\u001b[0;34m]\u001b[0m\u001b[0;34m)\u001b[0m\u001b[0;34m\u001b[0m\u001b[0;34m\u001b[0m\u001b[0m\n\u001b[0m\u001b[1;32m     16\u001b[0m \u001b[0;34m\u001b[0m\u001b[0m\n\u001b[1;32m     17\u001b[0m     dataframe.index = (\n",
      "\u001b[0;31mAttributeError\u001b[0m: module 'kraft' has no attribute 'table'"
     ]
    }
   ],
   "source": [
    "dataframes = [feature_x_cell_line.loc[[\"Is Fibroblast\"], :]]\n",
    "\n",
    "for label in (\n",
    "    \"sex\",\n",
    "    \"sample_collection_site\",\n",
    "    \"primary_or_metastasis\",\n",
    "    \"primary_disease\",\n",
    "    \"Subtype\",\n",
    "    \"lineage\",\n",
    "    \"lineage_subtype\",\n",
    "    \"lineage_sub_subtype\",\n",
    "    \"lineage_molecular_subtype\",\n",
    "):\n",
    "\n",
    "    dataframe = kraft.table.binarize(feature_x_cell_line.loc[label, :])\n",
    "\n",
    "    dataframe.index = (\n",
    "        \"({}) {}\".format(label, label_) for label_ in dataframe.index.to_numpy()\n",
    "    )\n",
    "\n",
    "    dataframes.append(dataframe)\n",
    "\n",
    "feature_x_cell_line_x_01 = pd.concat(dataframes)\n",
    "\n",
    "feature_x_cell_line_x_01.index.name = \"Feature\"\n",
    "\n",
    "feature_x_cell_line_x_01.to_csv(\n",
    "    \"{}feature_x_cell_line_x_01.tsv\".format(directory_path), sep=\"\\t\"\n",
    ")\n",
    "\n",
    "feature_x_cell_line_x_01"
   ]
  }
 ],
 "metadata": {
  "kernelspec": {
   "display_name": "Python 3",
   "language": "python",
   "name": "python3"
  },
  "language_info": {
   "codemirror_mode": {
    "name": "ipython",
    "version": 3
   },
   "file_extension": ".py",
   "mimetype": "text/x-python",
   "name": "python",
   "nbconvert_exporter": "python",
   "pygments_lexer": "ipython3",
   "version": "3.7.8"
  }
 },
 "nbformat": 4,
 "nbformat_minor": 4
}
