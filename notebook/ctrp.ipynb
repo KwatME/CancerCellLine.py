{
 "cells": [
  {
   "cell_type": "code",
   "execution_count": null,
   "metadata": {},
   "outputs": [],
   "source": [
    "%load_ext autoreload\n",
    "%autoreload 2"
   ]
  },
  {
   "cell_type": "code",
   "execution_count": null,
   "metadata": {},
   "outputs": [],
   "source": [
    "import numpy as np\n",
    "import pandas as pd\n",
    "\n",
    "import kraft"
   ]
  },
  {
   "cell_type": "code",
   "execution_count": null,
   "metadata": {},
   "outputs": [],
   "source": [
    "compound_x_information = pd.read_csv(\n",
    "    \"v2/v20.meta.per_compound.txt\", sep=\"\\t\", index_col=1\n",
    ")\n",
    "\n",
    "assert not compound_x_information.index.has_duplicates\n",
    "\n",
    "assert kraft.is_sorted(compound_x_information[\"master_cpd_id\"])\n",
    "\n",
    "compound_x_information.index.name = \"Compound\"\n",
    "\n",
    "compound_x_information"
   ]
  },
  {
   "cell_type": "code",
   "execution_count": null,
   "metadata": {},
   "outputs": [],
   "source": [
    "target_gene_x_compound = kraft.binarize(\n",
    "    compound_x_information[\"gene_symbol_of_protein_target\"]\n",
    ")\n",
    "\n",
    "target_gene_x_compound.index.name = \"Target Gene\"\n",
    "\n",
    "target_gene_x_compound.to_csv(\"target_gene_x_compound.tsv\", sep=\"\\t\")\n",
    "\n",
    "target_gene_x_compound"
   ]
  },
  {
   "cell_type": "code",
   "execution_count": null,
   "metadata": {},
   "outputs": [],
   "source": [
    "target_activity_x_compound = kraft.binarize(\n",
    "    compound_x_information[\"target_or_activity_of_compound\"]\n",
    ")\n",
    "\n",
    "target_activity_x_compound.index.name = \"Target Activity\"\n",
    "\n",
    "target_activity_x_compound.to_csv(\"target_activity_x_compound.tsv\", sep=\"\\t\")\n",
    "\n",
    "target_activity_x_compound"
   ]
  },
  {
   "cell_type": "code",
   "execution_count": null,
   "metadata": {},
   "outputs": [],
   "source": [
    "cell_line_x_information = pd.read_csv(\n",
    "    \"v2/v20.meta.per_cell_line.txt\", sep=\"\\t\", index_col=1\n",
    ")\n",
    "\n",
    "assert not cell_line_x_information.index.has_duplicates\n",
    "\n",
    "assert kraft.is_sorted(cell_line_x_information[\"master_ccl_id\"])\n",
    "\n",
    "cell_line_x_information.index.name = \"Cell Line\"\n",
    "\n",
    "cell_line_x_information"
   ]
  },
  {
   "cell_type": "code",
   "execution_count": null,
   "metadata": {},
   "outputs": [],
   "source": [
    "viability_after_exposure = pd.read_csv(\"new-abs-auc-with-qc.txt\", sep=\"\\t\")\n",
    "\n",
    "viability_after_exposure"
   ]
  },
  {
   "cell_type": "code",
   "execution_count": null,
   "metadata": {},
   "outputs": [],
   "source": [
    "ctrp_2_compound_x_cell_line = np.full(\n",
    "    (compound_x_information.shape[0], cell_line_x_information.shape[0]), np.nan\n",
    ")\n",
    "\n",
    "compound_id_i = {\n",
    "    id_: i for i, id_ in enumerate(compound_x_information[\"master_cpd_id\"])\n",
    "}\n",
    "\n",
    "cell_line_id_i = {\n",
    "    id_: i for i, id_ in enumerate(cell_line_x_information[\"master_ccl_id\"])\n",
    "}\n",
    "\n",
    "for compound_id, cell_line_id, auc in viability_after_exposure[\n",
    "    [\"master_cpd_id\", \"master_ccl_id\", \"area_under_curve\"]\n",
    "].values:\n",
    "\n",
    "    ctrp_2_compound_x_cell_line[\n",
    "        compound_id_i[compound_id], cell_line_id_i[cell_line_id]\n",
    "    ] = auc\n",
    "\n",
    "ctrp_2_compound_x_cell_line = pd.DataFrame(\n",
    "    ctrp_2_compound_x_cell_line,\n",
    "    index=compound_x_information.index,\n",
    "    columns=cell_line_x_information.index,\n",
    ")\n",
    "\n",
    "ctrp_2_compound_x_cell_line.dropna(axis=1, how=\"all\", inplace=True)\n",
    "\n",
    "ctrp_2_compound_x_cell_line.to_csv(\"ctrp_2.compound_x_cell_line.tsv\", sep=\"\\t\")\n",
    "\n",
    "ctrp_2_compound_x_cell_line"
   ]
  },
  {
   "cell_type": "code",
   "execution_count": null,
   "metadata": {},
   "outputs": [],
   "source": [
    "ctrp_2_compound_x_cell_line_no_combination = ctrp_2_compound_x_cell_line.loc[\n",
    "    ~ctrp_2_compound_x_cell_line.index.str.contains(\":\")\n",
    "]\n",
    "\n",
    "ctrp_2_compound_x_cell_line_no_combination.to_csv(\n",
    "    \"ctrp_2.compound_x_cell_line.no_combination.tsv\", sep=\"\\t\"\n",
    ")\n",
    "\n",
    "ctrp_2_compound_x_cell_line_no_combination"
   ]
  }
 ],
 "metadata": {
  "kernelspec": {
   "display_name": "Python 3",
   "language": "python",
   "name": "python3"
  },
  "language_info": {
   "codemirror_mode": {
    "name": "ipython",
    "version": 3
   },
   "file_extension": ".py",
   "mimetype": "text/x-python",
   "name": "python",
   "nbconvert_exporter": "python",
   "pygments_lexer": "ipython3",
   "version": "3.7.6"
  }
 },
 "nbformat": 4,
 "nbformat_minor": 4
}
