{
 "cells": [
  {
   "cell_type": "code",
   "execution_count": null,
   "metadata": {},
   "outputs": [],
   "source": [
    "%load_ext autoreload\n",
    "%autoreload 2"
   ]
  },
  {
   "cell_type": "code",
   "execution_count": null,
   "metadata": {
    "ExecuteTime": {
     "end_time": "2018-07-08T01:08:15.968617Z",
     "start_time": "2018-07-08T01:08:14.081418Z"
    }
   },
   "outputs": [],
   "source": [
    "import numpy as np\n",
    "import pandas as pd\n",
    "\n",
    "import kraft"
   ]
  },
  {
   "cell_type": "code",
   "execution_count": null,
   "metadata": {
    "ExecuteTime": {
     "end_time": "2018-07-08T01:08:15.968617Z",
     "start_time": "2018-07-08T01:08:14.081418Z"
    }
   },
   "outputs": [],
   "source": [
    "cell_line_compound_interaction = pd.read_csv(\"CCLE_NP24.2009_Drug_data_2015.02.24.csv\")\n",
    "\n",
    "cell_line_compound_interaction[\"Cell Line\"] = kraft.normalize_cell_line_names(\n",
    "    cell_line_compound_interaction[\"CCLE Cell Line Name\"]\n",
    ")"
   ]
  },
  {
   "cell_type": "code",
   "execution_count": null,
   "metadata": {},
   "outputs": [],
   "source": [
    "compounds = np.unique(cell_line_compound_interaction[\"Compound\"])\n",
    "\n",
    "dict_compound_i = kraft.make_dict_object_i(compounds)\n",
    "\n",
    "cell_lines = np.unique(cell_line_compound_interaction[\"Cell Line\"])\n",
    "\n",
    "dict_cell_line_i = kraft.make_dict_object_i(cell_lines)"
   ]
  },
  {
   "cell_type": "code",
   "execution_count": null,
   "metadata": {
    "ExecuteTime": {
     "end_time": "2018-07-08T01:08:15.968617Z",
     "start_time": "2018-07-08T01:08:14.081418Z"
    }
   },
   "outputs": [],
   "source": [
    "np24_compound_x_cell_line = np.full((compounds.size, cell_lines.size), np.nan)\n",
    "\n",
    "for cell_line, compound, score in cell_line_compound_interaction[\n",
    "    [\"Cell Line\", \"Compound\", \"IC50 (uM)\"]\n",
    "].values:\n",
    "\n",
    "    compound_i = dict_compound_i[compound]\n",
    "\n",
    "    cell_line_i = dict_cell_line_i[cell_line]\n",
    "\n",
    "    current_score = np24_compound_x_cell_line[compound_i, cell_line_i]\n",
    "\n",
    "    if np.isnan(current_score) or score < current_score:\n",
    "\n",
    "        np24_compound_x_cell_line[compound_i, cell_line_i] = score\n",
    "\n",
    "np24_compound_x_cell_line = pd.DataFrame(\n",
    "    np24_compound_x_cell_line, index=compounds, columns=cell_lines,\n",
    ")\n",
    "\n",
    "np24_compound_x_cell_line.to_csv(\"np24.compound_x_cell_line.tsv\", sep=\"\\t\")\n",
    "\n",
    "np24_compound_x_cell_line"
   ]
  }
 ],
 "metadata": {
  "kernelspec": {
   "display_name": "Python 3",
   "language": "python",
   "name": "python3"
  },
  "language_info": {
   "codemirror_mode": {
    "name": "ipython",
    "version": 3
   },
   "file_extension": ".py",
   "mimetype": "text/x-python",
   "name": "python",
   "nbconvert_exporter": "python",
   "pygments_lexer": "ipython3",
   "version": "3.7.6"
  }
 },
 "nbformat": 4,
 "nbformat_minor": 4
}
