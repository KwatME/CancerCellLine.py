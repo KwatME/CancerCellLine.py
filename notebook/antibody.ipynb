{
 "cells": [
  {
   "cell_type": "code",
   "execution_count": null,
   "metadata": {},
   "outputs": [],
   "source": [
    "%load_ext autoreload\n",
    "%autoreload 2"
   ]
  },
  {
   "cell_type": "code",
   "execution_count": null,
   "metadata": {
    "ExecuteTime": {
     "end_time": "2018-07-08T02:54:01.910768Z",
     "start_time": "2018-07-08T02:54:01.314357Z"
    }
   },
   "outputs": [],
   "source": [
    "import pandas as pd\n",
    "\n",
    "import kraft"
   ]
  },
  {
   "cell_type": "code",
   "execution_count": null,
   "metadata": {},
   "outputs": [],
   "source": [
    "directory_path = \"/home/kwat/Downloads/antibody/\"\n",
    "\n",
    "kraft.path.path(directory_path)"
   ]
  },
  {
   "cell_type": "code",
   "execution_count": null,
   "metadata": {},
   "outputs": [],
   "source": [
    "for url in (\n",
    "    \"https://depmap.org/portal/download/api/download/external?file_name=ccle%2Fccle_2019%2FCCLE_RPPA_20181003.csv\",\n",
    "):\n",
    "\n",
    "    print(kraft.internet.download(url, directory_path))"
   ]
  },
  {
   "cell_type": "code",
   "execution_count": null,
   "metadata": {},
   "outputs": [],
   "source": [
    "antibody_x_cell_line = pd.read_csv(\n",
    "    \"{}/CCLE_RPPA_20181003.csv\".format(directory_path), index_col=0\n",
    ").T\n",
    "\n",
    "antibody_x_cell_line.columns = kraft.cell_line.rename(\n",
    "    antibody_x_cell_line.columns.to_numpy()\n",
    ")\n",
    "\n",
    "antibody_x_cell_line.index.name = \"Antibody\"\n",
    "\n",
    "antibody_x_cell_line.columns.name = \"Cell Line\"\n",
    "\n",
    "kraft.dataframe.error_axes(antibody_x_cell_line)\n",
    "\n",
    "antibody_x_cell_line.to_csv(\"{}/antibody_x_cell.tsv\".format(directory_path), sep=\"\\t\")\n",
    "\n",
    "antibody_x_cell_line"
   ]
  }
 ],
 "metadata": {
  "kernelspec": {
   "display_name": "Python 3",
   "language": "python",
   "name": "python3"
  },
  "language_info": {
   "codemirror_mode": {
    "name": "ipython",
    "version": 3
   },
   "file_extension": ".py",
   "mimetype": "text/x-python",
   "name": "python",
   "nbconvert_exporter": "python",
   "pygments_lexer": "ipython3",
   "version": "3.7.6"
  }
 },
 "nbformat": 4,
 "nbformat_minor": 4
}
