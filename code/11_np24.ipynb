{
 "cells": [
  {
   "cell_type": "code",
   "execution_count": null,
   "metadata": {},
   "outputs": [],
   "source": [
    "from __init__ import *"
   ]
  },
  {
   "cell_type": "code",
   "execution_count": null,
   "metadata": {},
   "outputs": [],
   "source": [
    "directory_path = \"{}/np24/\".format(SETTING[\"directory_path\"])\n",
    "\n",
    "kraft.path.path(directory_path)"
   ]
  },
  {
   "cell_type": "code",
   "execution_count": null,
   "metadata": {},
   "outputs": [],
   "source": [
    "for url in (\n",
    "    \"https://depmap.org/portal/download/api/download/external?file_name=ccle_legacy_data%2Fpharmacological_profiling%2FCCLE_NP24.2009_Drug_data_2015.02.24.csv\",\n",
    "):\n",
    "\n",
    "    print(kraft.internet.download(url, directory_path))"
   ]
  },
  {
   "cell_type": "code",
   "execution_count": null,
   "metadata": {},
   "outputs": [],
   "source": [
    "cell_lines, compounds, ic50s = (\n",
    "    pd.read_csv(\n",
    "        \"{}/CCLE_NP24.2009_Drug_data_2015.02.24.csv\".format(directory_path),\n",
    "        usecols=(0, 2, 10),\n",
    "    )\n",
    "    .to_numpy()\n",
    "    .T\n",
    ")\n",
    "\n",
    "cell_lines = np.asarray(kraft.name_biology.name_cell_lines(cell_lines))\n",
    "\n",
    "ic50s = ic50s.astype(float)"
   ]
  },
  {
   "cell_type": "code",
   "execution_count": null,
   "metadata": {
    "ExecuteTime": {
     "end_time": "2018-07-08T01:08:15.968617Z",
     "start_time": "2018-07-08T01:08:14.081418Z"
    }
   },
   "outputs": [],
   "source": [
    "compound_x_cell_line = kraft.dataframe.pivot(\n",
    "    compounds,\n",
    "    cell_lines,\n",
    "    ic50s,\n",
    "    function=min,\n",
    "    axis_0_name=\"Compound\",\n",
    "    axis_1_name=\"Cell Line\",\n",
    ")\n",
    "\n",
    "compound_x_cell_line.to_csv(\n",
    "    \"{}/compound_x_cell_line.tsv\".format(directory_path), sep=\"\\t\"\n",
    ")\n",
    "\n",
    "compound_x_cell_line"
   ]
  }
 ],
 "metadata": {
  "kernelspec": {
   "display_name": "Python 3",
   "language": "python",
   "name": "python3"
  },
  "language_info": {
   "codemirror_mode": {
    "name": "ipython",
    "version": 3
   },
   "file_extension": ".py",
   "mimetype": "text/x-python",
   "name": "python",
   "nbconvert_exporter": "python",
   "pygments_lexer": "ipython3",
   "version": "3.7.8"
  }
 },
 "nbformat": 4,
 "nbformat_minor": 4
}
