{
 "cells": [
  {
   "cell_type": "code",
   "execution_count": null,
   "metadata": {},
   "outputs": [],
   "source": [
    "%load_ext autoreload\n",
    "%autoreload 2"
   ]
  },
  {
   "cell_type": "code",
   "execution_count": null,
   "metadata": {},
   "outputs": [],
   "source": [
    "import numpy as np\n",
    "import pandas as pd\n",
    "\n",
    "import kraft"
   ]
  },
  {
   "cell_type": "code",
   "execution_count": null,
   "metadata": {},
   "outputs": [],
   "source": [
    "copy_number_gene_x_cell_line = pd.read_csv(\"CCLE_gene_cn.csv\", index_col=0).T\n",
    "\n",
    "copy_number_gene_x_cell_line.index = (\n",
    "    str_.split()[0] for str_ in copy_number_gene_x_cell_line.index\n",
    ")\n",
    "\n",
    "assert not copy_number_gene_x_cell_line.index.has_duplicates\n",
    "\n",
    "copy_number_gene_x_cell_line.index.name = \"Gene\"\n",
    "\n",
    "copy_number_gene_x_cell_line.columns = kraft.normalize_cell_line_names(\n",
    "    copy_number_gene_x_cell_line.columns\n",
    ")\n",
    "\n",
    "assert not copy_number_gene_x_cell_line.columns.has_duplicates\n",
    "\n",
    "copy_number_gene_x_cell_line.to_csv(\"copy_number.gene_x_cell_line.tsv\", sep=\"\\t\")\n",
    "\n",
    "copy_number_gene_x_cell_line"
   ]
  },
  {
   "cell_type": "code",
   "execution_count": null,
   "metadata": {
    "ExecuteTime": {
     "end_time": "2018-07-08T02:50:46.292892Z",
     "start_time": "2018-07-08T02:33:15.986392Z"
    }
   },
   "outputs": [],
   "source": [
    "def split_copy_numbers(copy_numbers, threshold_loss, threshold_gain):\n",
    "\n",
    "    vector = np.full(copy_numbers.size, np.nan)\n",
    "\n",
    "    vector[copy_numbers.values < threshold_loss] = -1\n",
    "\n",
    "    vector[threshold_gain < copy_numbers.values] = 1\n",
    "\n",
    "    gene = copy_numbers.name\n",
    "\n",
    "    dataframe = kraft.binarize(pd.Series(vector, index=copy_numbers.index, name=gene))\n",
    "\n",
    "    dataframe = dataframe.loc[dataframe.index.dropna()]\n",
    "\n",
    "    dataframe.index = dataframe.index.map(\n",
    "        {-1: \"{} -\".format(gene), 1: \"{} +\".format(gene)}\n",
    "    )\n",
    "\n",
    "    return dataframe"
   ]
  },
  {
   "cell_type": "code",
   "execution_count": null,
   "metadata": {
    "ExecuteTime": {
     "end_time": "2018-07-08T02:50:46.292892Z",
     "start_time": "2018-07-08T02:33:15.986392Z"
    }
   },
   "outputs": [],
   "source": [
    "mean = np.nanmean(copy_number_gene_x_cell_line.values)\n",
    "\n",
    "std = np.nanstd(copy_number_gene_x_cell_line.values)\n",
    "\n",
    "threshold_loss = mean - 3 * std\n",
    "\n",
    "threshold_gain = mean + 3 * std\n",
    "\n",
    "threshold_loss, threshold_gain"
   ]
  },
  {
   "cell_type": "code",
   "execution_count": null,
   "metadata": {
    "ExecuteTime": {
     "end_time": "2018-07-08T02:50:46.292892Z",
     "start_time": "2018-07-08T02:33:15.986392Z"
    }
   },
   "outputs": [],
   "source": [
    "file_path = \"gene_loss_gain_x_cell_line.tsv\"\n",
    "\n",
    "n = copy_number_gene_x_cell_line.shape[0]\n",
    "\n",
    "n_per_print = n // 100\n",
    "\n",
    "with open(file_path, mode=\"w\") as io:\n",
    "\n",
    "    for i, (gene, copy_numbers) in enumerate(copy_number_gene_x_cell_line.iterrows()):\n",
    "\n",
    "        if i % n_per_print == 0:\n",
    "\n",
    "            print(\"{}/{} ...\".format(i + 1, n))\n",
    "\n",
    "        split_copy_numbers(copy_numbers, threshold_loss, threshold_gain).to_csv(\n",
    "            io, sep=\"\\t\", header=i == 0, mode=\"a\"\n",
    "        )\n",
    "\n",
    "gene_gain_loss_x_cell_line = pd.read_csv(file_path, sep=\"\\t\", index_col=0)\n",
    "\n",
    "gene_gain_loss_x_cell_line"
   ]
  },
  {
   "cell_type": "code",
   "execution_count": null,
   "metadata": {},
   "outputs": [],
   "source": [
    "gene_gain_loss_x_cell_line.sum(axis=1).sort_values(ascending=False)"
   ]
  }
 ],
 "metadata": {
  "kernelspec": {
   "display_name": "Python 3",
   "language": "python",
   "name": "python3"
  },
  "language_info": {
   "codemirror_mode": {
    "name": "ipython",
    "version": 3
   },
   "file_extension": ".py",
   "mimetype": "text/x-python",
   "name": "python",
   "nbconvert_exporter": "python",
   "pygments_lexer": "ipython3",
   "version": "3.7.6"
  }
 },
 "nbformat": 4,
 "nbformat_minor": 4
}
