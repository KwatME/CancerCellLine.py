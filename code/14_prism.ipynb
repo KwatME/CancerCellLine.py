{
 "cells": [
  {
   "cell_type": "code",
   "execution_count": null,
   "metadata": {},
   "outputs": [],
   "source": [
    "from __init__ import *"
   ]
  },
  {
   "cell_type": "code",
   "execution_count": null,
   "metadata": {},
   "outputs": [],
   "source": [
    "directory_path = \"{}/prism/\".format(SETTING[\"directory_path\"])\n",
    "\n",
    "kraft.path.path(directory_path)"
   ]
  },
  {
   "cell_type": "code",
   "execution_count": null,
   "metadata": {},
   "outputs": [],
   "source": [
    "for url in (\n",
    "    \"https://ndownloader.figshare.com/files/20237712\",\n",
    "    \"https://ndownloader.figshare.com/files/20237709\",\n",
    "    \"https://ndownloader.figshare.com/files/20237760\",\n",
    "    \"https://ndownloader.figshare.com/files/20237757\",\n",
    "    \"https://ndownloader.figshare.com/files/20237739\",\n",
    "):\n",
    "\n",
    "    print(kraft.internet.download(url, directory_path))"
   ]
  },
  {
   "cell_type": "markdown",
   "metadata": {},
   "source": [
    "## Compound dose (1 and 2)"
   ]
  },
  {
   "cell_type": "code",
   "execution_count": null,
   "metadata": {},
   "outputs": [],
   "source": [
    "def name_compound_dose(id_dose, id_to_compound):\n",
    "\n",
    "    id_, dose = id_dose.split(\"::\")[:2]\n",
    "\n",
    "    return \"{}_{:.2f}\".format(id_to_compound[id_], float(dose))"
   ]
  },
  {
   "cell_type": "code",
   "execution_count": null,
   "metadata": {},
   "outputs": [],
   "source": [
    "for version in (\n",
    "    \"primary\",\n",
    "    \"secondary\",\n",
    "):\n",
    "\n",
    "    print(\"=\" * 80)\n",
    "\n",
    "    print(version)\n",
    "\n",
    "    id_to_compound = (\n",
    "        pd.read_csv(\n",
    "            \"{}/{}-screen-replicate-treatment-info.csv\".format(directory_path, version),\n",
    "            index_col=1,\n",
    "        )\n",
    "        .loc[:, \"name\"]\n",
    "        .to_dict()\n",
    "    )\n",
    "\n",
    "    compound_dose_x_cell_line = pd.read_csv(\n",
    "        \"{}/{}-screen-replicate-collapsed-logfold-change.csv\".format(\n",
    "            directory_path, version\n",
    "        ),\n",
    "        index_col=0,\n",
    "    ).T\n",
    "\n",
    "    compound_dose_x_cell_line.index = (\n",
    "        name_compound_dose(compound_dose, id_to_compound)\n",
    "        for compound_dose in compound_dose_x_cell_line.index.to_numpy()\n",
    "    )\n",
    "\n",
    "    print(compound_dose_x_cell_line.shape)\n",
    "\n",
    "    compound_dose_x_cell_line = compound_dose_x_cell_line.groupby(level=0).median()\n",
    "\n",
    "    print(compound_dose_x_cell_line.shape)\n",
    "\n",
    "    compound_dose_x_cell_line.columns = kraft.name_biology.name_cell_lines(\n",
    "        compound_dose_x_cell_line.columns.to_numpy()\n",
    "    )\n",
    "\n",
    "    compound_dose_x_cell_line.index.name = \"Compound Dose\"\n",
    "\n",
    "    compound_dose_x_cell_line.columns.name = \"Cell Line\"\n",
    "\n",
    "    kraft.pandas.error_axes(compound_dose_x_cell_line)\n",
    "\n",
    "    compound_dose_x_cell_line.to_csv(\n",
    "        \"{}/compound_dose_x_cell_line_x_{}.tsv\".format(directory_path, version),\n",
    "        sep=\"\\t\",\n",
    "    )\n",
    "\n",
    "    print(compound_dose_x_cell_line.head(n=2))"
   ]
  },
  {
   "cell_type": "markdown",
   "metadata": {},
   "source": [
    "## Response curve (2)"
   ]
  },
  {
   "cell_type": "code",
   "execution_count": null,
   "metadata": {},
   "outputs": [],
   "source": [
    "cell_lines, aucs, compounds = (\n",
    "    pd.read_csv(\n",
    "        \"{}/secondary-screen-dose-response-curve-parameters.csv\".format(directory_path),\n",
    "        usecols=(1, 8, 11),\n",
    "    )\n",
    "    .to_numpy()\n",
    "    .T\n",
    ")\n",
    "\n",
    "cell_lines = np.asarray(kraft.name_biology.name_cell_lines(cell_lines))\n",
    "\n",
    "aucs = aucs.astype(float)"
   ]
  },
  {
   "cell_type": "code",
   "execution_count": null,
   "metadata": {
    "ExecuteTime": {
     "end_time": "2018-07-08T01:08:15.968617Z",
     "start_time": "2018-07-08T01:08:14.081418Z"
    }
   },
   "outputs": [],
   "source": [
    "compound_x_cell_line = kraft.pandas.pivot(\n",
    "    compounds,\n",
    "    cell_lines,\n",
    "    aucs,\n",
    "    function=min,\n",
    "    axis_0_name=\"Compound\",\n",
    "    axis_1_name=\"Cell Line\",\n",
    ")\n",
    "\n",
    "compound_x_cell_line.to_csv(\n",
    "    \"{}/compound_x_cell_line_x_secondary.tsv\".format(directory_path), sep=\"\\t\"\n",
    ")\n",
    "\n",
    "compound_x_cell_line"
   ]
  }
 ],
 "metadata": {
  "kernelspec": {
   "display_name": "Python 3",
   "language": "python",
   "name": "python3"
  },
  "language_info": {
   "codemirror_mode": {
    "name": "ipython",
    "version": 3
   },
   "file_extension": ".py",
   "mimetype": "text/x-python",
   "name": "python",
   "nbconvert_exporter": "python",
   "pygments_lexer": "ipython3",
   "version": "3.7.8"
  }
 },
 "nbformat": 4,
 "nbformat_minor": 4
}
