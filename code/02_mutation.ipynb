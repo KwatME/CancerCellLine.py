{
 "cells": [
  {
   "cell_type": "code",
   "execution_count": null,
   "metadata": {},
   "outputs": [],
   "source": [
    "from __init__ import *"
   ]
  },
  {
   "cell_type": "code",
   "execution_count": null,
   "metadata": {},
   "outputs": [],
   "source": [
    "directory_path = \"{}mutation/\".format(SETTING[\"directory_path\"])\n",
    "\n",
    "kraft.path.make(directory_path)"
   ]
  },
  {
   "cell_type": "code",
   "execution_count": null,
   "metadata": {},
   "outputs": [],
   "source": [
    "for url in (\"https://ndownloader.figshare.com/files/22629110\",):\n",
    "\n",
    "    kraft.internet.download(\n",
    "        url, directory_path, name=\"CCLE_mutations.csv\", overwrite=SETTING[\"overwrite\"]\n",
    "    )"
   ]
  },
  {
   "cell_type": "code",
   "execution_count": null,
   "metadata": {
    "ExecuteTime": {
     "end_time": "2018-07-08T01:08:15.968617Z",
     "start_time": "2018-07-08T01:08:14.081418Z"
    }
   },
   "outputs": [],
   "source": [
    "_2d_array = pd.read_csv(\n",
    "    \"{}CCLE_mutations.csv\".format(directory_path),\n",
    "    sep=\"\\t\",\n",
    "    usecols=(0, 7, 18, 32, 33),\n",
    ").to_numpy()\n",
    "\n",
    "len(_2d_array)"
   ]
  },
  {
   "cell_type": "code",
   "execution_count": null,
   "metadata": {
    "ExecuteTime": {
     "end_time": "2018-07-08T01:08:15.968617Z",
     "start_time": "2018-07-08T01:08:14.081418Z"
    }
   },
   "outputs": [],
   "source": [
    "_2d_array = _2d_array[_2d_array[:, 3] == \"damaging\", :]\n",
    "\n",
    "len(_2d_array)"
   ]
  },
  {
   "cell_type": "code",
   "execution_count": null,
   "metadata": {},
   "outputs": [],
   "source": [
    "gene_, variant_classification_, protein_change_, sample_ = _2d_array[:, (0, 1, 2, 4)].T"
   ]
  },
  {
   "cell_type": "code",
   "execution_count": null,
   "metadata": {
    "ExecuteTime": {
     "end_time": "2018-07-08T01:08:26.126114Z",
     "start_time": "2018-07-08T01:08:25.926527Z"
    }
   },
   "outputs": [],
   "source": [
    "sample_ = kraft.name_biology.name_cell_line(sample_)\n",
    "\n",
    "sample_to_index = kraft.array.map_int(sample_)[0]\n",
    "\n",
    "len(sample_to_index)"
   ]
  },
  {
   "cell_type": "code",
   "execution_count": null,
   "metadata": {},
   "outputs": [],
   "source": [
    "gene_to_index = kraft.array.map_int(gene_)[0]\n",
    "\n",
    "len(gene_to_index)"
   ]
  },
  {
   "cell_type": "code",
   "execution_count": null,
   "metadata": {},
   "outputs": [],
   "source": [
    "def combine(gene, feature):\n",
    "\n",
    "    if not isinstance(feature, str):\n",
    "\n",
    "        feature = \"\"\n",
    "\n",
    "    return \"{}_{}\".format(gene, feature)"
   ]
  },
  {
   "cell_type": "code",
   "execution_count": null,
   "metadata": {},
   "outputs": [],
   "source": [
    "variant_classification_ = np.asarray(\n",
    "    tuple(\n",
    "        combine(gene, variant_classification)\n",
    "        for gene, variant_classification in zip(gene_, variant_classification_)\n",
    "    )\n",
    ")\n",
    "\n",
    "variant_classification_to_index = kraft.array.map_int(variant_classification_)[0]\n",
    "\n",
    "len(variant_classification_to_index)"
   ]
  },
  {
   "cell_type": "code",
   "execution_count": null,
   "metadata": {
    "ExecuteTime": {
     "end_time": "2018-07-08T01:08:26.126114Z",
     "start_time": "2018-07-08T01:08:25.926527Z"
    }
   },
   "outputs": [],
   "source": [
    "protein_change_ = np.asarray(\n",
    "    tuple(\n",
    "        combine(gene, protein_change)\n",
    "        for gene, protein_change in zip(gene_, protein_change_)\n",
    "    )\n",
    ")\n",
    "\n",
    "protein_change_to_index = kraft.array.map_int(protein_change_)[0]\n",
    "\n",
    "len(protein_change_to_index)"
   ]
  },
  {
   "cell_type": "code",
   "execution_count": null,
   "metadata": {
    "ExecuteTime": {
     "end_time": "2018-07-08T01:41:26.363600Z",
     "start_time": "2018-07-08T01:09:27.049774Z"
    }
   },
   "outputs": [],
   "source": [
    "sample_n = len(sample_to_index)\n",
    "\n",
    "gene_x_sample = np.full((len(gene_to_index), sample_n), 0)\n",
    "\n",
    "variant_classification_x_sample = np.full(\n",
    "    (len(variant_classification_to_index), sample_n), 0\n",
    ")\n",
    "\n",
    "protein_change_x_sample = np.full((len(protein_change_to_index), sample_n), 0)"
   ]
  },
  {
   "cell_type": "code",
   "execution_count": null,
   "metadata": {},
   "outputs": [],
   "source": [
    "kraft.dict.summarize(sample_to_index)"
   ]
  },
  {
   "cell_type": "code",
   "execution_count": null,
   "metadata": {
    "ExecuteTime": {
     "end_time": "2018-07-08T01:41:26.363600Z",
     "start_time": "2018-07-08T01:09:27.049774Z"
    }
   },
   "outputs": [],
   "source": [
    "for gene, variant_classification, protein_change, sample in zip(\n",
    "    gene_, variant_classification_, protein_change_, sample_\n",
    "):\n",
    "\n",
    "    sample_index = sample_to_index[sample]\n",
    "\n",
    "    gene_x_sample[gene_to_index[gene], sample_index] += 1\n",
    "\n",
    "    if not isinstance(variant_classification, str):\n",
    "\n",
    "        variant_classification_ = \"\"\n",
    "\n",
    "    variant_classification_x_sample[\n",
    "        variant_classification_to_index[variant_classification],\n",
    "        sample_index,\n",
    "    ] += 1\n",
    "\n",
    "    if not isinstance(protein_change, str):\n",
    "\n",
    "        protein_change_ = \"\"\n",
    "\n",
    "    protein_change_x_sample[protein_change_to_index[protein_change], sample_index] += 1"
   ]
  },
  {
   "cell_type": "code",
   "execution_count": null,
   "metadata": {},
   "outputs": [],
   "source": [
    "columns = pd.Index(data=sample_to_index, name=\"Cell Line\")"
   ]
  },
  {
   "cell_type": "code",
   "execution_count": null,
   "metadata": {},
   "outputs": [],
   "source": [
    "gene_x_sample = pd.DataFrame(data=gene_x_sample, index=gene_to_index, columns=columns)\n",
    "\n",
    "gene_x_sample.index.name = \"Gene\"\n",
    "\n",
    "gene_x_sample.to_csv(\"{}gene_x_sample.tsv\".format(directory_path), sep=\"\\t\")\n",
    "\n",
    "gene_x_sample"
   ]
  },
  {
   "cell_type": "code",
   "execution_count": null,
   "metadata": {},
   "outputs": [],
   "source": [
    "gene_x_sample_x_01 = gene_x_sample.clip(upper=1)\n",
    "\n",
    "gene_x_sample_x_01.to_csv(\"{}gene_x_sample_x_01.tsv\".format(directory_path), sep=\"\\t\")\n",
    "\n",
    "gene_x_sample_x_01"
   ]
  },
  {
   "cell_type": "code",
   "execution_count": null,
   "metadata": {},
   "outputs": [],
   "source": [
    "variant_classification_x_sample = pd.DataFrame(\n",
    "    data=variant_classification_x_sample,\n",
    "    index=variant_classification_to_index,\n",
    "    columns=columns,\n",
    ")\n",
    "\n",
    "variant_classification_x_sample.index.name = \"Gene Variant Classification\"\n",
    "\n",
    "variant_classification_x_sample.to_csv(\n",
    "    \"{}variant_classification_x_sample.tsv\".format(directory_path), sep=\"\\t\"\n",
    ")\n",
    "\n",
    "variant_classification_x_sample"
   ]
  },
  {
   "cell_type": "code",
   "execution_count": null,
   "metadata": {},
   "outputs": [],
   "source": [
    "protein_change_x_sample = pd.DataFrame(\n",
    "    data=protein_change_x_sample,\n",
    "    index=protein_change_to_index,\n",
    "    columns=columns,\n",
    ")\n",
    "\n",
    "protein_change_x_sample.index.name = \"Protein Change\"\n",
    "\n",
    "protein_change_x_sample.to_csv(\n",
    "    \"{}protein_change_x_sample.tsv\".format(directory_path), sep=\"\\t\"\n",
    ")\n",
    "\n",
    "protein_change_x_sample"
   ]
  }
 ],
 "metadata": {
  "kernelspec": {
   "display_name": "Python 3",
   "language": "python",
   "name": "python3"
  },
  "language_info": {
   "codemirror_mode": {
    "name": "ipython",
    "version": 3
   },
   "file_extension": ".py",
   "mimetype": "text/x-python",
   "name": "python",
   "nbconvert_exporter": "python",
   "pygments_lexer": "ipython3",
   "version": "3.7.8"
  }
 },
 "nbformat": 4,
 "nbformat_minor": 4
}
