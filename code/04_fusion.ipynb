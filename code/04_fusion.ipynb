{
 "cells": [
  {
   "cell_type": "code",
   "execution_count": null,
   "metadata": {},
   "outputs": [],
   "source": [
    "from __init__ import *"
   ]
  },
  {
   "cell_type": "code",
   "execution_count": null,
   "metadata": {},
   "outputs": [],
   "source": [
    "directory_path = \"{}/fusion/\".format(SETTING[\"directory_path\"])\n",
    "\n",
    "kraft.path.make(directory_path)"
   ]
  },
  {
   "cell_type": "code",
   "execution_count": null,
   "metadata": {},
   "outputs": [],
   "source": [
    "for url in (\"https://ndownloader.figshare.com/files/22629104\",):\n",
    "\n",
    "    print(kraft.internet.download(url, directory_path))"
   ]
  },
  {
   "cell_type": "code",
   "execution_count": null,
   "metadata": {},
   "outputs": [],
   "source": [
    "cell_lines, gene_genes = (\n",
    "    pd.read_csv(\n",
    "        \"{}/CCLE_fusions_unfiltered.csv\".format(directory_path),\n",
    "        sep=\"\\t\",\n",
    "        usecols=(0, 1),\n",
    "    )\n",
    "    .to_numpy()\n",
    "    .T\n",
    ")"
   ]
  },
  {
   "cell_type": "code",
   "execution_count": null,
   "metadata": {},
   "outputs": [],
   "source": [
    "genes = []\n",
    "\n",
    "for gene_gene in gene_genes:\n",
    "\n",
    "    for gene in gene_gene.split(sep=\"--\"):\n",
    "\n",
    "        genes.append(gene)\n",
    "\n",
    "genes = np.asarray(genes)"
   ]
  },
  {
   "cell_type": "code",
   "execution_count": null,
   "metadata": {},
   "outputs": [],
   "source": [
    "cell_lines = kraft.name_biology.name_cell_lines(cell_lines)"
   ]
  },
  {
   "cell_type": "code",
   "execution_count": null,
   "metadata": {},
   "outputs": [],
   "source": [
    "gene_to_i = kraft.array.map_int(genes)[0]\n",
    "\n",
    "cell_line_to_i = kraft.array.map_int(cell_lines)[0]"
   ]
  },
  {
   "cell_type": "code",
   "execution_count": null,
   "metadata": {},
   "outputs": [],
   "source": [
    "gene_x_cell_line = np.full((len(gene_to_i), len(cell_line_to_i)), 0)\n",
    "\n",
    "for cell_line, gene_gene in zip(cell_lines, gene_genes):\n",
    "\n",
    "    for gene in gene_gene.split(sep=\"--\"):\n",
    "\n",
    "        gene_x_cell_line[gene_to_i[gene], cell_line_to_i[cell_line]] = 1\n",
    "\n",
    "gene_x_cell_line = pd.DataFrame(\n",
    "    gene_x_cell_line, index=gene_to_i, columns=cell_line_to_i,\n",
    ")\n",
    "\n",
    "gene_x_cell_line.index.name = \"Gene\"\n",
    "\n",
    "gene_x_cell_line.columns.name = \"Cell Line\"\n",
    "\n",
    "kraft.table.error_axes(gene_x_cell_line)\n",
    "\n",
    "gene_x_cell_line.to_csv(\"{}/gene_x_cell_line.tsv\".format(directory_path), sep=\"\\t\")\n",
    "\n",
    "gene_x_cell_line"
   ]
  }
 ],
 "metadata": {
  "kernelspec": {
   "display_name": "Python 3",
   "language": "python",
   "name": "python3"
  },
  "language_info": {
   "codemirror_mode": {
    "name": "ipython",
    "version": 3
   },
   "file_extension": ".py",
   "mimetype": "text/x-python",
   "name": "python",
   "nbconvert_exporter": "python",
   "pygments_lexer": "ipython3",
   "version": "3.7.8"
  }
 },
 "nbformat": 4,
 "nbformat_minor": 4
}
