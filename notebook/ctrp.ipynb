{
 "cells": [
  {
   "cell_type": "code",
   "execution_count": null,
   "metadata": {},
   "outputs": [],
   "source": [
    "%load_ext autoreload\n",
    "%autoreload 2"
   ]
  },
  {
   "cell_type": "code",
   "execution_count": null,
   "metadata": {},
   "outputs": [],
   "source": [
    "import numpy as np\n",
    "import pandas as pd\n",
    "\n",
    "import kraft"
   ]
  },
  {
   "cell_type": "code",
   "execution_count": null,
   "metadata": {},
   "outputs": [],
   "source": [
    "directory_path = \"/home/kwat/garden/data/cancer_cell_line/ctrp/\"\n",
    "\n",
    "kraft.path(directory_path)"
   ]
  },
  {
   "cell_type": "code",
   "execution_count": null,
   "metadata": {},
   "outputs": [],
   "source": [
    "compound_table = pd.read_csv(\n",
    "    \"{}/v2/v20.meta.per_compound.txt\".format(directory_path), sep=\"\\t\", index_col=1\n",
    ")\n",
    "\n",
    "kraft.error_axis(compound_table)\n",
    "\n",
    "compound_table.index.name = \"Compound\"\n",
    "\n",
    "compound_table"
   ]
  },
  {
   "cell_type": "code",
   "execution_count": null,
   "metadata": {},
   "outputs": [],
   "source": [
    "gene_x_compound = kraft.binarize(compound_table[\"gene_symbol_of_protein_target\"])\n",
    "\n",
    "gene_x_compound.index.name = \"Gene\"\n",
    "\n",
    "gene_x_compound.to_csv(\"{}gene_x_compound_x_01.tsv\".format(directory_path), sep=\"\\t\")\n",
    "\n",
    "gene_x_compound"
   ]
  },
  {
   "cell_type": "code",
   "execution_count": null,
   "metadata": {},
   "outputs": [],
   "source": [
    "activity_x_compound = kraft.binarize(compound_table[\"target_or_activity_of_compound\"])\n",
    "\n",
    "activity_x_compound.index.name = \"Activity\"\n",
    "\n",
    "activity_x_compound.to_csv(\n",
    "    \"{}/activity_x_compound_x_01.tsv\".format(directory_path), sep=\"\\t\"\n",
    ")\n",
    "\n",
    "activity_x_compound"
   ]
  },
  {
   "cell_type": "code",
   "execution_count": null,
   "metadata": {},
   "outputs": [],
   "source": [
    "cell_line_table = pd.read_csv(\n",
    "    \"{}v2/v20.meta.per_cell_line.txt\".format(directory_path), sep=\"\\t\", index_col=1\n",
    ")\n",
    "\n",
    "kraft.error_axis(cell_line_table)\n",
    "\n",
    "cell_line_table.index.name = \"Cell Line\"\n",
    "\n",
    "cell_line_table"
   ]
  },
  {
   "cell_type": "code",
   "execution_count": null,
   "metadata": {},
   "outputs": [],
   "source": [
    "mapping = pd.read_csv(\"{}new-abs-auc-with-qc.txt\".format(directory_path), sep=\"\\t\")\n",
    "\n",
    "mapping"
   ]
  },
  {
   "cell_type": "code",
   "execution_count": 31,
   "metadata": {},
   "outputs": [],
   "source": [
    "def pivot(df, axis_0, axis_1, axis_2):\n",
    "    \n",
    "    axis_0_label_to_i = kraft.map_objects_to_ints(np.unique(df[axis_0].to_numpy()))[0]\n",
    "    \n",
    "    axis_1_label_to_i = kraft.map_objects_to_ints(np.unique(df[axis_1].to_numpy()))[0]\n",
    "    \n",
    "    matrix = np.full((len(axis_0_label_to_i), len(axis_1_label_to_i)), np.nan)\n",
    "    \n",
    "    for axis_0_label, axis_1_label, value in df[[axis_0, axis_1, axis_2]].to_numpy():\n",
    "        \n",
    "        matrix[axis_0_label_to_i[axis_0_label],axis_1_label_to_i[axis_1_label]] = value\n",
    "    \n",
    "    return pd.DataFrame(matrix, index=axis_0_label_to_i.keys(),columns=axis_1_label_to_i.keys())"
   ]
  },
  {
   "cell_type": "code",
   "execution_count": 33,
   "metadata": {},
   "outputs": [
    {
     "data": {
      "text/html": [
       "<div>\n",
       "<style scoped>\n",
       "    .dataframe tbody tr th:only-of-type {\n",
       "        vertical-align: middle;\n",
       "    }\n",
       "\n",
       "    .dataframe tbody tr th {\n",
       "        vertical-align: top;\n",
       "    }\n",
       "\n",
       "    .dataframe thead th {\n",
       "        text-align: right;\n",
       "    }\n",
       "</style>\n",
       "<table border=\"1\" class=\"dataframe\">\n",
       "  <thead>\n",
       "    <tr style=\"text-align: right;\">\n",
       "      <th>Cell Line</th>\n",
       "    </tr>\n",
       "    <tr>\n",
       "      <th>Compound</th>\n",
       "    </tr>\n",
       "  </thead>\n",
       "  <tbody>\n",
       "    <tr>\n",
       "      <th>CIL55</th>\n",
       "    </tr>\n",
       "    <tr>\n",
       "      <th>BRD4132</th>\n",
       "    </tr>\n",
       "    <tr>\n",
       "      <th>BRD6340</th>\n",
       "    </tr>\n",
       "    <tr>\n",
       "      <th>ML006</th>\n",
       "    </tr>\n",
       "    <tr>\n",
       "      <th>Bax channel blocker</th>\n",
       "    </tr>\n",
       "    <tr>\n",
       "      <th>...</th>\n",
       "    </tr>\n",
       "    <tr>\n",
       "      <th>avicin D</th>\n",
       "    </tr>\n",
       "    <tr>\n",
       "      <th>BRD9876:MK-1775 (4:1 mol/mol)</th>\n",
       "    </tr>\n",
       "    <tr>\n",
       "      <th>BRD-K30748066</th>\n",
       "    </tr>\n",
       "    <tr>\n",
       "      <th>linsitinib</th>\n",
       "    </tr>\n",
       "    <tr>\n",
       "      <th>AT-406</th>\n",
       "    </tr>\n",
       "  </tbody>\n",
       "</table>\n",
       "<p>545 rows × 0 columns</p>\n",
       "</div>"
      ],
      "text/plain": [
       "Empty DataFrame\n",
       "Columns: []\n",
       "Index: [CIL55, BRD4132, BRD6340, ML006, Bax channel blocker, BRD9876, tretinoin, betulinic acid, phloretin, thalidomide, gossypol, chlorambucil, fluorouracil, isoliquiritigenin, cimetidine, azacitidine, trifluoperazine, paclitaxel, tamoxifen, carboplatin, teniposide, sildenafil, simvastatin, parbendazole, procarbazine, curcumin, ciclopirox, epigallocatechin-3-monogallate, myricetin, methotrexate, lovastatin, valdecoxib, cyclophosphamide, dacarbazine, niclosamide, prochlorperazine, ifosfamide, doxorubicin, ouabain, BRD9647, piperlongumine, BRD-K26531177, NSC23766, pyrazolanthrone, C6-ceramide, topotecan, N9-isopropylolomoucine, importazole, etoposide, PRIMA-1, tanespimycin, blebbistatin, cytochalasin B, NSC95397, manumycin A, mitomycin, tacrolimus, pifithrin-alpha, SB-431542, staurosporine, SB-225002, PD 153035, cerulenin, purmorphamine, GSK-3 inhibitor IX, dasatinib, gefitinib, erlotinib, BRD-K94991378, BIX-01294, tacedinaline, LBH-589, IC-87114, ciclosporin, vorinostat, sirolimus, KU-55933, sitagliptin, AM-580, PDMP, BRD-K71935468, MG-132, entinostat, belinostat, BEC, apicidin, Merck60, BRD-A94377914, FGIN-1-27, compound 1B, vincristine, cytarabine hydrochloride, itraconazole, erastin, ML031, CIL56, FQI-1, BRD-K92856060, B02, BRD-K45681478, ...]\n",
       "\n",
       "[545 rows x 0 columns]"
      ]
     },
     "execution_count": 33,
     "metadata": {},
     "output_type": "execute_result"
    }
   ],
   "source": [
    "compound_x_cell_line = pivot(mapping, \"master_cpd_id\", \"master_ccl_id\", \"area_under_curve\")\n",
    "\n",
    "compound_x_cell_line = pd.DataFrame(\n",
    "    compound_x_cell_line, index=compound_table.index, columns=cell_line_table.index,\n",
    ")\n",
    "\n",
    "compound_x_cell_line = compound_x_cell_line.dropna(axis=1, how=\"all\")\n",
    "\n",
    "compound_x_cell_line.to_csv(\n",
    "    \"{}ctrp_2.compound_x_cell_line.tsv\".format(directory_path), sep=\"\\t\"\n",
    ")\n",
    "\n",
    "compound_x_cell_line"
   ]
  }
 ],
 "metadata": {
  "kernelspec": {
   "display_name": "Python 3",
   "language": "python",
   "name": "python3"
  },
  "language_info": {
   "codemirror_mode": {
    "name": "ipython",
    "version": 3
   },
   "file_extension": ".py",
   "mimetype": "text/x-python",
   "name": "python",
   "nbconvert_exporter": "python",
   "pygments_lexer": "ipython3",
   "version": "3.7.6"
  }
 },
 "nbformat": 4,
 "nbformat_minor": 4
}
