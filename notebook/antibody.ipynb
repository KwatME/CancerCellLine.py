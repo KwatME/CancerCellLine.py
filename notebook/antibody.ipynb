{
 "cells": [
  {
   "cell_type": "code",
   "execution_count": null,
   "metadata": {},
   "outputs": [],
   "source": [
    "%load_ext autoreload\n",
    "%autoreload 2"
   ]
  },
  {
   "cell_type": "code",
   "execution_count": null,
   "metadata": {
    "ExecuteTime": {
     "end_time": "2018-07-08T02:54:01.910768Z",
     "start_time": "2018-07-08T02:54:01.314357Z"
    }
   },
   "outputs": [],
   "source": [
    "import pandas as pd\n",
    "\n",
    "import kraft"
   ]
  },
  {
   "cell_type": "code",
   "execution_count": null,
   "metadata": {},
   "outputs": [],
   "source": [
    "antibody_x_cell_line = pd.read_csv(\"CCLE_RPPA_20181003.csv\", index_col=0).T\n",
    "\n",
    "antibody_x_cell_line.index = (str_.split()[0] for str_ in antibody_x_cell_line.index)\n",
    "\n",
    "assert not antibody_x_cell_line.index.has_duplicates\n",
    "\n",
    "antibody_x_cell_line.index.name = \"Antibody\"\n",
    "\n",
    "antibody_x_cell_line.columns = kraft.normalize_cell_line_names(\n",
    "    antibody_x_cell_line.columns\n",
    ")\n",
    "\n",
    "assert not antibody_x_cell_line.columns.has_duplicates\n",
    "\n",
    "antibody_x_cell_line.to_csv(\"antibody_x_cell_line.tsv\", sep=\"\\t\")\n",
    "\n",
    "antibody_x_cell_line"
   ]
  }
 ],
 "metadata": {
  "kernelspec": {
   "display_name": "Python 3",
   "language": "python",
   "name": "python3"
  },
  "language_info": {
   "codemirror_mode": {
    "name": "ipython",
    "version": 3
   },
   "file_extension": ".py",
   "mimetype": "text/x-python",
   "name": "python",
   "nbconvert_exporter": "python",
   "pygments_lexer": "ipython3",
   "version": "3.7.6"
  }
 },
 "nbformat": 4,
 "nbformat_minor": 4
}
