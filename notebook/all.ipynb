{
 "cells": [
  {
   "cell_type": "code",
   "execution_count": null,
   "metadata": {},
   "outputs": [],
   "source": [
    "%load_ext autoreload\n",
    "%autoreload 2"
   ]
  },
  {
   "cell_type": "code",
   "execution_count": null,
   "metadata": {},
   "outputs": [],
   "source": [
    "import itertools\n",
    "import os\n",
    "import re\n",
    "\n",
    "import pandas as pd\n",
    "\n",
    "import kraft"
   ]
  },
  {
   "cell_type": "markdown",
   "metadata": {},
   "source": [
    "## Get all data"
   ]
  },
  {
   "cell_type": "code",
   "execution_count": null,
   "metadata": {},
   "outputs": [],
   "source": [
    "notebooks = sorted(\n",
    "    (notebook for notebook in os.listdir() if re.match(r\"^[^._].*.ipynb$\", notebook))\n",
    ")\n",
    "\n",
    "notebooks.remove(\"all.ipynb\")\n",
    "\n",
    "notebooks.remove(\"gene_set.ipynb\")\n",
    "\n",
    "notebooks.remove(\"feature.ipynb\")\n",
    "\n",
    "notebooks = (\"feature.ipynb\",) + tuple(notebooks)"
   ]
  },
  {
   "cell_type": "code",
   "execution_count": null,
   "metadata": {},
   "outputs": [],
   "source": [
    "for notebook in notebooks:\n",
    "\n",
    "    kraft.shell.command(\n",
    "        \"jupyter nbconvert --execute --ExecutePreprocessor.timeout=-1 --inplace {}\".format(\n",
    "            notebook\n",
    "        )\n",
    "    )"
   ]
  },
  {
   "cell_type": "markdown",
   "metadata": {},
   "source": [
    "## Count common samples"
   ]
  },
  {
   "cell_type": "code",
   "execution_count": null,
   "metadata": {},
   "outputs": [],
   "source": [
    "feature_x_sample_file_paths = (\n",
    "    #\n",
    "    \"/home/kwat/garden/data/cancer_cell_line/feature/feature_x_cell_line.tsv\",\n",
    "    \"/home/kwat/garden/data/cancer_cell_line/feature/feature_x_cell_line_x_01.tsv\",\n",
    "    \"/home/kwat/garden/data/cancer_cell_line/feature/feature_x_cell_line_x_continuous.tsv\",\n",
    "    #\n",
    "    \"/home/kwat/garden/data/cancer_cell_line/antibody/antibody_x_cell.tsv\",\n",
    "    #\n",
    "    \"/home/kwat/garden/data/cancer_cell_line/copy_number/gene_x_cell_line.tsv\",\n",
    "    \"/home/kwat/garden/data/cancer_cell_line/copy_number/gene_loss_gain_x_cell_line.tsv\",\n",
    "    #\n",
    "    \"/home/kwat/garden/data/cancer_cell_line/crispr/gene_x_cell_line.tsv\",\n",
    "    #\n",
    "    \"/home/kwat/garden/data/cancer_cell_line/ctrp/compound_x_cell_line.tsv\",\n",
    "    #\n",
    "    \"/home/kwat/garden/data/cancer_cell_line/fusion/gene_x_cell_line.tsv\",\n",
    "    #\n",
    "    \"/home/kwat/garden/data/cancer_cell_line/gdsc/compound_dose_x_cell_line.tsv\",\n",
    "    \"/home/kwat/garden/data/cancer_cell_line/gdsc/compound_x_cell_line.tsv\",\n",
    "    #\n",
    "    \"/home/kwat/garden/data/cancer_cell_line/methylation/gene_x_cell_line.tsv\",\n",
    "    #\n",
    "    \"/home/kwat/garden/data/cancer_cell_line/mutation/gene_x_cell_line.tsv\",\n",
    "    \"/home/kwat/garden/data/cancer_cell_line/mutation/gene_x_cell_line_x_01.tsv\",\n",
    "    \"/home/kwat/garden/data/cancer_cell_line/mutation/gene_variant_classification_x_cell_line.tsv\",\n",
    "    \"/home/kwat/garden/data/cancer_cell_line/mutation/gene_protein_change_x_cell_line.tsv\",\n",
    "    #\n",
    "    \"/home/kwat/garden/data/cancer_cell_line/np24/compound_x_cell_line.tsv\",\n",
    "    #\n",
    "    \"/home/kwat/garden/data/cancer_cell_line/prism/compound_dose_x_cell_line_x_primary.tsv\",\n",
    "    \"/home/kwat/garden/data/cancer_cell_line/prism/compound_dose_x_cell_line_x_secondary.tsv\",\n",
    "    \"/home/kwat/garden/data/cancer_cell_line/prism/compound_x_cell_line_x_secondary.tsv\",\n",
    "    #\n",
    "    \"/home/kwat/garden/data/cancer_cell_line/protein/gene_x_cell_line.tsv\",\n",
    "    #\n",
    "    \"/home/kwat/garden/data/cancer_cell_line/rna/gene_x_cell_line.tsv\",\n",
    "    #\n",
    "    \"/home/kwat/garden/data/cancer_cell_line/rnai/gene_x_cell_line.tsv\",\n",
    "    #\n",
    "    \"/home/kwat/garden/data/cancer_cell_line/gene_set/gene_set_x_sample_x_classic.tsv\",\n",
    ")"
   ]
  },
  {
   "cell_type": "code",
   "execution_count": null,
   "metadata": {},
   "outputs": [],
   "source": [
    "for file_path in feature_x_sample_file_paths:\n",
    "\n",
    "    print(\"=\" * 80)\n",
    "\n",
    "    print(file_path)\n",
    "\n",
    "    assert os.path.isfile(file_path)"
   ]
  },
  {
   "cell_type": "code",
   "execution_count": null,
   "metadata": {},
   "outputs": [],
   "source": [
    "file_path_to_data = {}\n",
    "\n",
    "for file_path in feature_x_sample_file_paths:\n",
    "\n",
    "    print(\"=\" * 80)\n",
    "\n",
    "    print(file_path)\n",
    "\n",
    "    df = pd.read_csv(file_path, sep=\"\\t\", nrows=1)\n",
    "\n",
    "    print(df.shape[1])\n",
    "\n",
    "    file_path_to_data[file_path] = df"
   ]
  },
  {
   "cell_type": "code",
   "execution_count": null,
   "metadata": {},
   "outputs": [],
   "source": [
    "for file_path_0, file_path_1 in itertools.combinations(file_path_to_data, 2):\n",
    "\n",
    "    print(\"=\" * 80)\n",
    "\n",
    "    print(file_path_0)\n",
    "\n",
    "    print(file_path_1)\n",
    "\n",
    "    print(\n",
    "        len(\n",
    "            file_path_to_data[file_path_0].columns\n",
    "            & file_path_to_data[file_path_1].columns\n",
    "        )\n",
    "    )"
   ]
  }
 ],
 "metadata": {
  "@webio": {
   "lastCommId": null,
   "lastKernelId": null
  },
  "kernelspec": {
   "display_name": "Python 3",
   "language": "python",
   "name": "python3"
  },
  "language_info": {
   "codemirror_mode": {
    "name": "ipython",
    "version": 3
   },
   "file_extension": ".py",
   "mimetype": "text/x-python",
   "name": "python",
   "nbconvert_exporter": "python",
   "pygments_lexer": "ipython3",
   "version": "3.7.6"
  }
 },
 "nbformat": 4,
 "nbformat_minor": 4
}
