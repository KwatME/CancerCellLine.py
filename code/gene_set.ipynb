{
 "cells": [
  {
   "cell_type": "code",
   "execution_count": null,
   "metadata": {},
   "outputs": [],
   "source": [
    "%load_ext autoreload\n",
    "%autoreload 2"
   ]
  },
  {
   "cell_type": "code",
   "execution_count": null,
   "metadata": {},
   "outputs": [],
   "source": [
    "from multiprocessing import Pool\n",
    "\n",
    "import numpy as np\n",
    "import pandas as pd\n",
    "\n",
    "import kraft"
   ]
  },
  {
   "cell_type": "code",
   "execution_count": null,
   "metadata": {},
   "outputs": [],
   "source": [
    "SETTING = kraft.json.read(\"setting.json\")"
   ]
  },
  {
   "cell_type": "code",
   "execution_count": null,
   "metadata": {},
   "outputs": [],
   "source": [
    "directory_path = \"{}/gene_set/\".format(SETTING[\"directory_path\"])\n",
    "\n",
    "kraft.path.path(directory_path)"
   ]
  },
  {
   "cell_type": "code",
   "execution_count": null,
   "metadata": {},
   "outputs": [],
   "source": [
    "gene_x_sample = pd.read_csv(\n",
    "    \"{}/../rna/gene_x_cell_line.tsv\".format(directory_path), sep=\"\\t\", index_col=0\n",
    ")\n",
    "\n",
    "gene_x_sample = gene_x_sample.loc[\n",
    "    gene_x_sample.index & kraft.name_biology.select_genes(), :\n",
    "]"
   ]
  },
  {
   "cell_type": "code",
   "execution_count": null,
   "metadata": {},
   "outputs": [],
   "source": [
    "gene_set_to_genes = kraft.gmt.read_many(\n",
    "    tuple(\n",
    "        \"data/gene_set/{}\".format(file_name)\n",
    "        for file_name in (\n",
    "            \"h.all.v7.1.symbols.gmt\",\n",
    "            \"c1.all.v7.1.symbols.gmt\",\n",
    "            \"c2.all.v7.1.symbols.gmt\",\n",
    "            \"c3.all.v7.1.symbols.gmt\",\n",
    "            \"c5.all.v7.1.symbols.gmt\",\n",
    "            \"c6.all.v7.1.symbols.gmt\",\n",
    "            \"c7.all.v7.1.symbols.gmt\",\n",
    "            \"ipa.gmt\",\n",
    "        )\n",
    "    )\n",
    ")"
   ]
  },
  {
   "cell_type": "code",
   "execution_count": null,
   "metadata": {},
   "outputs": [],
   "source": [
    "gene_set_x_sample = kraft.sea.score_samples_and_sets(\n",
    "    gene_x_sample, gene_set_to_genes, n_job=8, directory_path=directory_path\n",
    ")\n",
    "\n",
    "gene_set_x_sample"
   ]
  }
 ],
 "metadata": {
  "kernelspec": {
   "display_name": "Python 3",
   "language": "python",
   "name": "python3"
  },
  "language_info": {
   "codemirror_mode": {
    "name": "ipython",
    "version": 3
   },
   "file_extension": ".py",
   "mimetype": "text/x-python",
   "name": "python",
   "nbconvert_exporter": "python",
   "pygments_lexer": "ipython3",
   "version": "3.7.8"
  }
 },
 "nbformat": 4,
 "nbformat_minor": 4
}
