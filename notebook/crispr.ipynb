{
 "cells": [
  {
   "cell_type": "code",
   "execution_count": null,
   "metadata": {},
   "outputs": [],
   "source": [
    "%load_ext autoreload\n",
    "%autoreload 2"
   ]
  },
  {
   "cell_type": "code",
   "execution_count": null,
   "metadata": {
    "ExecuteTime": {
     "end_time": "2018-07-08T01:08:15.968617Z",
     "start_time": "2018-07-08T01:08:14.081418Z"
    }
   },
   "outputs": [],
   "source": [
    "import pandas as pd\n",
    "\n",
    "import kraft"
   ]
  },
  {
   "cell_type": "markdown",
   "metadata": {},
   "source": [
    "## Log fold change"
   ]
  },
  {
   "cell_type": "code",
   "execution_count": null,
   "metadata": {},
   "outputs": [],
   "source": [
    "# TODO"
   ]
  },
  {
   "cell_type": "markdown",
   "metadata": {},
   "source": [
    "## Ceres"
   ]
  },
  {
   "cell_type": "code",
   "execution_count": null,
   "metadata": {
    "ExecuteTime": {
     "end_time": "2018-07-08T01:08:15.968617Z",
     "start_time": "2018-07-08T01:08:14.081418Z"
    }
   },
   "outputs": [],
   "source": [
    "crispr_gene_x_cell_line = pd.read_csv(\n",
    "    \"Achilles_gene_effect_unscaled.csv\", index_col=0\n",
    ").T\n",
    "\n",
    "crispr_gene_x_cell_line.index = (\n",
    "    str_.split()[0] for str_ in crispr_gene_x_cell_line.index\n",
    ")\n",
    "\n",
    "assert not crispr_gene_x_cell_line.index.has_duplicates\n",
    "\n",
    "crispr_gene_x_cell_line.index.name = \"Gene\"\n",
    "\n",
    "crispr_gene_x_cell_line.columns = kraft.normalize_cell_line_names(\n",
    "    crispr_gene_x_cell_line.columns\n",
    ")\n",
    "\n",
    "assert not crispr_gene_x_cell_line.columns.has_duplicates\n",
    "\n",
    "crispr_gene_x_cell_line.to_csv(\"crispr.gene_x_cell_line.tsv\", sep=\"\\t\")\n",
    "\n",
    "crispr_gene_x_cell_line"
   ]
  }
 ],
 "metadata": {
  "kernelspec": {
   "display_name": "Python 3",
   "language": "python",
   "name": "python3"
  },
  "language_info": {
   "codemirror_mode": {
    "name": "ipython",
    "version": 3
   },
   "file_extension": ".py",
   "mimetype": "text/x-python",
   "name": "python",
   "nbconvert_exporter": "python",
   "pygments_lexer": "ipython3",
   "version": "3.7.6"
  }
 },
 "nbformat": 4,
 "nbformat_minor": 4
}
