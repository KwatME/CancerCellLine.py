{
 "cells": [
  {
   "cell_type": "code",
   "execution_count": null,
   "metadata": {},
   "outputs": [],
   "source": [
    "from __init__ import *"
   ]
  },
  {
   "cell_type": "code",
   "execution_count": null,
   "metadata": {},
   "outputs": [],
   "source": [
    "notebook_name_ = sorted(\n",
    "    (name for name in os.listdir() if re.match(r\"^[^._].+\\.ipynb$\", name))\n",
    ")\n",
    "\n",
    "notebook_name_.remove(\"00_all.ipynb\")\n",
    "\n",
    "notebook_name_.remove(\"15_gene_set.ipynb\")"
   ]
  },
  {
   "cell_type": "code",
   "execution_count": null,
   "metadata": {},
   "outputs": [],
   "source": [
    "for name in notebook_name_:\n",
    "\n",
    "    kraft.shell.command(\n",
    "        \"jupyter nbconvert --execute --ExecutePreprocessor.timeout=-1 --inplace {}\".format(\n",
    "           name \n",
    "        )\n",
    "    )"
   ]
  },
  {
   "cell_type": "code",
   "execution_count": null,
   "metadata": {},
   "outputs": [],
   "source": [
    "path_ = tuple(\n",
    "    \"{}{}\".format(SETTING[\"directory_path\"], path)\n",
    "    for path in (\n",
    "        \"feature/feature_x_cell_line.tsv\",\n",
    "        \"mutation/gene_x_cell_line.tsv\",\n",
    "        \"copy_number/gene_x_cell_line.tsv\",\n",
    "        \"fusion/gene_x_cell_line.tsv\",\n",
    "        \"methylation/gene_x_cell_line.tsv\",\n",
    "        \"rna/gene_x_cell_line.tsv\",\n",
    "        \"protein/gene_x_cell_line.tsv\",\n",
    "        \"antibody/antibody_x_cell.tsv\",\n",
    "        \"rnai/gene_x_cell_line.tsv\",\n",
    "        \"crispr/gene_x_cell_line.tsv\",\n",
    "        \"np24/compound_x_cell_line.tsv\",\n",
    "        \"ctrp/compound_x_cell_line.tsv\",\n",
    "        \"gdsc/compound_dose_x_cell_line.tsv\",\n",
    "        \"prism/compound_dose_x_cell_line_x_primary.tsv\",\n",
    "        \"prism/compound_dose_x_cell_line_x_secondary.tsv\",\n",
    "        \"prism/compound_x_cell_line_x_secondary.tsv\",\n",
    "    )\n",
    ")"
   ]
  },
  {
   "cell_type": "code",
   "execution_count": null,
   "metadata": {},
   "outputs": [],
   "source": [
    "path_to_df = {}\n",
    "\n",
    "for path in path_:\n",
    "\n",
    "    print(\"=\" * 80)\n",
    "\n",
    "    print(path)\n",
    "\n",
    "    df = pd.read_csv(path, sep=\"\\t\", index_col=0, nrows=1)\n",
    "\n",
    "    print(df.shape[1])\n",
    "\n",
    "    path_to_df[path] = df"
   ]
  },
  {
   "cell_type": "code",
   "execution_count": null,
   "metadata": {},
   "outputs": [],
   "source": [
    "for path_0, path_1 in itertools.combinations(path_to_df, 2):\n",
    "\n",
    "    print(\"=\" * 80)\n",
    "\n",
    "    df_0 = path_to_df[path_0]\n",
    "\n",
    "    df_1 = path_to_df[path_1]\n",
    "\n",
    "    print(df_0.columns.size, path_0)\n",
    "\n",
    "    print(df_1.columns.size, path_1)\n",
    "\n",
    "    print((df_0.columns & df_1.columns).size)"
   ]
  }
 ],
 "metadata": {
  "@webio": {
   "lastCommId": null,
   "lastKernelId": null
  },
  "kernelspec": {
   "display_name": "Python 3",
   "language": "python",
   "name": "python3"
  },
  "language_info": {
   "codemirror_mode": {
    "name": "ipython",
    "version": 3
   },
   "file_extension": ".py",
   "mimetype": "text/x-python",
   "name": "python",
   "nbconvert_exporter": "python",
   "pygments_lexer": "ipython3",
   "version": "3.7.8"
  }
 },
 "nbformat": 4,
 "nbformat_minor": 4
}
