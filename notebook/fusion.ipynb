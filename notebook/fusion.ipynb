{
 "cells": [
  {
   "cell_type": "code",
   "execution_count": null,
   "metadata": {},
   "outputs": [],
   "source": [
    "%load_ext autoreload\n",
    "%autoreload 2"
   ]
  },
  {
   "cell_type": "code",
   "execution_count": null,
   "metadata": {},
   "outputs": [],
   "source": [
    "import numpy as np\n",
    "import pandas as pd\n",
    "\n",
    "import kraft"
   ]
  },
  {
   "cell_type": "code",
   "execution_count": null,
   "metadata": {},
   "outputs": [],
   "source": [
    "directory_path = \"/home/kwat/garden/data/cancer_cell_line/fusion/\"\n",
    "\n",
    "kraft.path.path(directory_path)"
   ]
  },
  {
   "cell_type": "code",
   "execution_count": null,
   "metadata": {},
   "outputs": [],
   "source": [
    "table = pd.read_csv(\"{}/CCLE_fusions_unfiltered.csv\".format(directory_path), sep=\"\\t\")\n",
    "\n",
    "table"
   ]
  },
  {
   "cell_type": "code",
   "execution_count": null,
   "metadata": {},
   "outputs": [],
   "source": [
    "genes = []\n",
    "\n",
    "for gene_gene in table.loc[:, \"#FusionName\"]:\n",
    "\n",
    "    for gene in gene_gene.split(\"--\"):\n",
    "\n",
    "        genes.append(gene)\n",
    "\n",
    "genes = np.unique(genes)\n",
    "\n",
    "# TODO: use kraft\n",
    "gene_to_i = {gene: i for i, gene in enumerate(genes)}"
   ]
  },
  {
   "cell_type": "code",
   "execution_count": null,
   "metadata": {},
   "outputs": [],
   "source": [
    "cell_lines = table[\"DepMap_ID\"].unique()\n",
    "\n",
    "# TODO: use kraft\n",
    "cell_line_to_i = {cell_line: i for i, cell_line in enumerate(cell_lines)}"
   ]
  },
  {
   "cell_type": "code",
   "execution_count": null,
   "metadata": {},
   "outputs": [],
   "source": [
    "gene_x_cell_line = np.full((len(gene_to_i), len(cell_line_to_i)), 0)\n",
    "\n",
    "for cell_line, gene_gene in table.loc[:, [\"DepMap_ID\", \"#FusionName\"]].to_numpy():\n",
    "\n",
    "    for gene in gene_gene.split(\"--\"):\n",
    "\n",
    "        gene_x_cell_line[gene_to_i[gene], cell_line_to_i[cell_line]] = 1\n",
    "\n",
    "gene_x_cell_line = pd.DataFrame(\n",
    "    gene_x_cell_line, index=gene_to_i, columns=cell_line_to_i,\n",
    ")\n",
    "\n",
    "gene_x_cell_line"
   ]
  },
  {
   "cell_type": "code",
   "execution_count": null,
   "metadata": {},
   "outputs": [],
   "source": [
    "gene_x_cell_line.index.name = \"Gene\"\n",
    "\n",
    "gene_x_cell_line.columns = kraft.cell_line.rename(gene_x_cell_line.columns.to_numpy())\n",
    "\n",
    "gene_x_cell_line.to_csv(\n",
    "    \"{}/fusion.gene_x_cell_line.tsv\".format(directory_path), sep=\"\\t\"\n",
    ")\n",
    "\n",
    "gene_x_cell_line"
   ]
  }
 ],
 "metadata": {
  "kernelspec": {
   "display_name": "Python 3",
   "language": "python",
   "name": "python3"
  },
  "language_info": {
   "codemirror_mode": {
    "name": "ipython",
    "version": 3
   },
   "file_extension": ".py",
   "mimetype": "text/x-python",
   "name": "python",
   "nbconvert_exporter": "python",
   "pygments_lexer": "ipython3",
   "version": "3.7.6"
  }
 },
 "nbformat": 4,
 "nbformat_minor": 4
}
