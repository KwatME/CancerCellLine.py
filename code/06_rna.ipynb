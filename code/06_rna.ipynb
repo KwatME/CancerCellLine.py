{
 "cells": [
  {
   "cell_type": "code",
   "execution_count": null,
   "metadata": {},
   "outputs": [],
   "source": [
    "from __init__ import *"
   ]
  },
  {
   "cell_type": "code",
   "execution_count": null,
   "metadata": {},
   "outputs": [],
   "source": [
    "directory_path = \"{}rna/\".format(SETTING[\"directory_path\"])\n",
    "\n",
    "kraft.path.make(directory_path)"
   ]
  },
  {
   "cell_type": "code",
   "execution_count": null,
   "metadata": {},
   "outputs": [],
   "source": [
    "for url in (\"https://ndownloader.figshare.com/files/22897979\",):\n",
    "\n",
    "    kraft.internet.download(\n",
    "        url,\n",
    "        directory_path,\n",
    "        name=\"CCLE_expression_full.csv\",\n",
    "        overwrite=SETTING[\"overwrite\"],\n",
    "    )"
   ]
  },
  {
   "cell_type": "code",
   "execution_count": null,
   "metadata": {},
   "outputs": [],
   "source": [
    "gene_x_sample = pd.read_csv(\n",
    "    \"{}CCLE_expression_full.csv\".format(directory_path), index_col=0\n",
    ").T\n",
    "\n",
    "gene_x_sample.index = (label.split()[0] for label in gene_x_sample.index.to_numpy())\n",
    "\n",
    "gene_x_sample.index.name = \"Gene\"\n",
    "\n",
    "gene_x_sample = kraft.pd.collapse(gene_x_sample)\n",
    "\n",
    "gene_x_saname_cell_lineumns = kraft.name_biology.name_cell_line(\n",
    "    gene_x_sample.columns.to_numpy()\n",
    ")\n",
    "\n",
    "kraft.pd.error_axes(gene_x_sample)\n",
    "\n",
    "gene_x_sample.to_csv(\"{}gene_x_sample.tsv\".format(directory_path), sep=\"\\t\")\n",
    "\n",
    "gene_x_sample"
   ]
  }
 ],
 "metadata": {
  "kernelspec": {
   "display_name": "Python 3",
   "language": "python",
   "name": "python3"
  },
  "language_info": {
   "codemirror_mode": {
    "name": "ipython",
    "version": 3
   },
   "file_extension": ".py",
   "mimetype": "text/x-python",
   "name": "python",
   "nbconvert_exporter": "python",
   "pygments_lexer": "ipython3",
   "version": "3.7.8"
  }
 },
 "nbformat": 4,
 "nbformat_minor": 4
}
