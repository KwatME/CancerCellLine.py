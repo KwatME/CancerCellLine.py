{
 "cells": [
  {
   "cell_type": "code",
   "execution_count": null,
   "metadata": {},
   "outputs": [],
   "source": [
    "from __init__ import *"
   ]
  },
  {
   "cell_type": "code",
   "execution_count": null,
   "metadata": {},
   "outputs": [],
   "source": [
    "directory_path = \"{}fusion/\".format(SETTING[\"directory_path\"])\n",
    "\n",
    "kraft.path.make(directory_path)"
   ]
  },
  {
   "cell_type": "code",
   "execution_count": null,
   "metadata": {},
   "outputs": [],
   "source": [
    "for url in (\"https://ndownloader.figshare.com/files/22629104\",):\n",
    "\n",
    "    kraft.internet.download(\n",
    "        url,\n",
    "        directory_path,\n",
    "        name=\"CCLE_fusions_unfiltered.csv\",\n",
    "        overwrite=SETTING[\"overwrite\"],\n",
    "    )"
   ]
  },
  {
   "cell_type": "code",
   "execution_count": null,
   "metadata": {},
   "outputs": [],
   "source": [
    "sample_, gene_gene_ = (\n",
    "    pd.read_csv(\n",
    "        \"{}/CCLE_fusions_unfiltered.csv\".format(directory_path),\n",
    "        sep=\"\\t\",\n",
    "        usecols=(0, 1),\n",
    "    )\n",
    "    .to_numpy()\n",
    "    .T\n",
    ")"
   ]
  },
  {
   "cell_type": "code",
   "execution_count": null,
   "metadata": {},
   "outputs": [],
   "source": [
    "def get_fused_gene(gene_gene):\n",
    "\n",
    "    return gene_gene.split(sep=\"--\", maxsplit=1)"
   ]
  },
  {
   "cell_type": "code",
   "execution_count": null,
   "metadata": {},
   "outputs": [],
   "source": [
    "gene_ = []\n",
    "\n",
    "for gene_gene in gene_gene_:\n",
    "\n",
    "    for gene in get_fused_gene(gene_gene):\n",
    "\n",
    "        gene_.append(gene)\n",
    "\n",
    "gene_ = np.asarray(gene_)"
   ]
  },
  {
   "cell_type": "code",
   "execution_count": null,
   "metadata": {},
   "outputs": [],
   "source": [
    "sample_ = kraft.name_biology.name_cell_line(sample_)"
   ]
  },
  {
   "cell_type": "code",
   "execution_count": null,
   "metadata": {},
   "outputs": [],
   "source": [
    "gene_to_index = kraft.array.map_int(gene_)[0]\n",
    "\n",
    "sample_to_index = kraft.array.map_int(sample_)[0]"
   ]
  },
  {
   "cell_type": "code",
   "execution_count": null,
   "metadata": {},
   "outputs": [],
   "source": [
    "gene_x_sample = np.full((len(gene_to_index), len(sample_to_index)), 0)\n",
    "\n",
    "for sample, gene_gene in zip(sample_, gene_gene_):\n",
    "\n",
    "    for gene in get_fused_gene(gene_gene):\n",
    "\n",
    "        gene_x_sample[gene_to_index[gene], sample_to_index[sample]] = 1\n",
    "\n",
    "gene_x_sample = pd.DataFrame(\n",
    "    data=gene_x_sample,\n",
    "    index=gene_to_index,\n",
    "    columns=sample_to_index,\n",
    ")\n",
    "\n",
    "gene_x_sample.index.name = \"Gene\"\n",
    "\n",
    "kraft.pd.error_axes(gene_x_sample)\n",
    "\n",
    "gene_x_sample.to_csv(\"{}gene_x_sample.tsv\".format(directory_path), sep=\"\\t\")\n",
    "\n",
    "gene_x_sample"
   ]
  }
 ],
 "metadata": {
  "kernelspec": {
   "display_name": "Python 3",
   "language": "python",
   "name": "python3"
  },
  "language_info": {
   "codemirror_mode": {
    "name": "ipython",
    "version": 3
   },
   "file_extension": ".py",
   "mimetype": "text/x-python",
   "name": "python",
   "nbconvert_exporter": "python",
   "pygments_lexer": "ipython3",
   "version": "3.7.8"
  }
 },
 "nbformat": 4,
 "nbformat_minor": 4
}
