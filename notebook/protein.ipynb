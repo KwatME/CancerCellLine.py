{
 "cells": [
  {
   "cell_type": "code",
   "execution_count": null,
   "metadata": {},
   "outputs": [],
   "source": [
    "%load_ext autoreload\n",
    "%autoreload 2"
   ]
  },
  {
   "cell_type": "code",
   "execution_count": null,
   "metadata": {},
   "outputs": [],
   "source": [
    "import re\n",
    "\n",
    "import pandas as pd\n",
    "\n",
    "import kraft"
   ]
  },
  {
   "cell_type": "code",
   "execution_count": null,
   "metadata": {},
   "outputs": [],
   "source": [
    "gene_x_cell_line = pd.read_csv(\n",
    "    \"protein_quant_current_normalized.csv.gz\", index_col=1\n",
    ").drop(columns=[\"Protein_Id\", \"Description\", \"Group_ID\", \"Uniprot\", \"Uniprot_Acc\",])\n",
    "\n",
    "gene_x_cell_line"
   ]
  },
  {
   "cell_type": "code",
   "execution_count": null,
   "metadata": {},
   "outputs": [],
   "source": [
    "gene_x_cell_line = gene_x_cell_line.loc[~gene_x_cell_line.index.isna()]\n",
    "\n",
    "gene_x_cell_line = gene_x_cell_line.groupby(level=0).median()"
   ]
  },
  {
   "cell_type": "code",
   "execution_count": null,
   "metadata": {},
   "outputs": [],
   "source": [
    "gene_x_cell_line = gene_x_cell_line.loc[\n",
    "    :, ~gene_x_cell_line.columns.str.startswith(\"TenPx\")\n",
    "]\n",
    "\n",
    "gene_x_cell_line.columns = kraft.normalize_cell_line_names(\n",
    "    (re.sub(\"_TenPx[0-9][0-9]\", \"\", str_) for str_ in gene_x_cell_line.columns)\n",
    ")"
   ]
  },
  {
   "cell_type": "code",
   "execution_count": null,
   "metadata": {},
   "outputs": [],
   "source": [
    "kraft.error_index(gene_x_cell_line, index_name=\"Gene\", column_name=\"Cell Line\")\n",
    "\n",
    "gene_x_cell_line.to_csv(\"protein.gene_x_cell_line.tsv\", sep=\"\\t\")\n",
    "\n",
    "gene_x_cell_line"
   ]
  }
 ],
 "metadata": {
  "kernelspec": {
   "display_name": "Python 3",
   "language": "python",
   "name": "python3"
  },
  "language_info": {
   "codemirror_mode": {
    "name": "ipython",
    "version": 3
   },
   "file_extension": ".py",
   "mimetype": "text/x-python",
   "name": "python",
   "nbconvert_exporter": "python",
   "pygments_lexer": "ipython3",
   "version": "3.7.6"
  }
 },
 "nbformat": 4,
 "nbformat_minor": 4
}
