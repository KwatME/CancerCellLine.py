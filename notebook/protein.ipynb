{
 "cells": [
  {
   "cell_type": "code",
   "execution_count": null,
   "metadata": {},
   "outputs": [],
   "source": [
    "%load_ext autoreload\n",
    "%autoreload 2"
   ]
  },
  {
   "cell_type": "code",
   "execution_count": null,
   "metadata": {},
   "outputs": [],
   "source": [
    "import re\n",
    "\n",
    "import pandas as pd\n",
    "\n",
    "import kraft"
   ]
  },
  {
   "cell_type": "code",
   "execution_count": null,
   "metadata": {},
   "outputs": [],
   "source": [
    "SETTING = kraft.json.read(\"setting.json\")"
   ]
  },
  {
   "cell_type": "code",
   "execution_count": null,
   "metadata": {},
   "outputs": [],
   "source": [
    "directory_path = \"{}/protein/\".format(SETTING[\"directory_path\"])\n",
    "\n",
    "kraft.path.path(directory_path)"
   ]
  },
  {
   "cell_type": "code",
   "execution_count": null,
   "metadata": {},
   "outputs": [],
   "source": [
    "for url in (\n",
    "    \"https://gygi.med.harvard.edu/sites/gygi.med.harvard.edu/files/documents/protein_quant_current_normalized.csv.gz\",\n",
    "):\n",
    "\n",
    "    print(kraft.internet.download(url, directory_path))"
   ]
  },
  {
   "cell_type": "code",
   "execution_count": null,
   "metadata": {},
   "outputs": [],
   "source": [
    "gene_x_cell_line = pd.read_csv(\n",
    "    \"{}/protein_quant_current_normalized.csv.gz\".format(directory_path), index_col=1\n",
    ").drop(columns=[\"Protein_Id\", \"Description\", \"Group_ID\", \"Uniprot\", \"Uniprot_Acc\"])\n",
    "\n",
    "print(gene_x_cell_line.shape)\n",
    "\n",
    "gene_x_cell_line = gene_x_cell_line.loc[~gene_x_cell_line.index.isna(), :]\n",
    "\n",
    "print(gene_x_cell_line.shape)\n",
    "\n",
    "gene_x_cell_line = gene_x_cell_line.groupby(level=0).median()\n",
    "\n",
    "print(gene_x_cell_line.shape)\n",
    "\n",
    "gene_x_cell_line = gene_x_cell_line.loc[\n",
    "    :,\n",
    "    (\n",
    "        not bool(re.match(\"^TenPx\", label))\n",
    "        for label in gene_x_cell_line.columns.to_numpy()\n",
    "    ),\n",
    "]\n",
    "\n",
    "gene_x_cell_line.columns = kraft.cell_line.rename(\n",
    "    (\n",
    "        re.sub(\"_TenPx[0-9]{2}$\", \"\", label)\n",
    "        for label in gene_x_cell_line.columns.to_numpy()\n",
    "    )\n",
    ")\n",
    "\n",
    "print(gene_x_cell_line.shape)\n",
    "\n",
    "gene_x_cell_line = gene_x_cell_line.groupby(axis=1, level=0).median()\n",
    "\n",
    "print(gene_x_cell_line.shape)\n",
    "\n",
    "gene_x_cell_line.index.name = \"Gene\"\n",
    "\n",
    "gene_x_cell_line.columns.name = \"Cell Line\"\n",
    "\n",
    "kraft.dataframe.error_axes(gene_x_cell_line)\n",
    "\n",
    "gene_x_cell_line.to_csv(\"{}/gene_x_cell_line.tsv\".format(directory_path), sep=\"\\t\")\n",
    "\n",
    "gene_x_cell_line"
   ]
  }
 ],
 "metadata": {
  "kernelspec": {
   "display_name": "Python 3",
   "language": "python",
   "name": "python3"
  },
  "language_info": {
   "codemirror_mode": {
    "name": "ipython",
    "version": 3
   },
   "file_extension": ".py",
   "mimetype": "text/x-python",
   "name": "python",
   "nbconvert_exporter": "python",
   "pygments_lexer": "ipython3",
   "version": "3.7.6"
  }
 },
 "nbformat": 4,
 "nbformat_minor": 4
}
