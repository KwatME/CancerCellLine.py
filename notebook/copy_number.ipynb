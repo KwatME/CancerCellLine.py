{
 "cells": [
  {
   "cell_type": "code",
   "execution_count": null,
   "metadata": {},
   "outputs": [],
   "source": [
    "%load_ext autoreload\n",
    "%autoreload 2"
   ]
  },
  {
   "cell_type": "code",
   "execution_count": null,
   "metadata": {},
   "outputs": [],
   "source": [
    "import numpy as np\n",
    "import pandas as pd\n",
    "\n",
    "import kraft"
   ]
  },
  {
   "cell_type": "code",
   "execution_count": null,
   "metadata": {},
   "outputs": [],
   "source": [
    "directory_path = \"/home/kwat/garden/data/cancer_cell_line/copy_number/\"\n",
    "\n",
    "kraft.path(directory_path)"
   ]
  },
  {
   "cell_type": "code",
   "execution_count": null,
   "metadata": {},
   "outputs": [],
   "source": [
    "gene_x_cell_line_x_copy_number = pd.read_csv(\n",
    "    \"{}CCLE_gene_cn.csv\".format(directory_path), index_col=0\n",
    ").T\n",
    "\n",
    "gene_x_cell_line_x_copy_number"
   ]
  },
  {
   "cell_type": "code",
   "execution_count": null,
   "metadata": {},
   "outputs": [],
   "source": [
    "gene_x_cell_line_x_copy_number.index = tuple(\n",
    "    gene.split()[0] for gene in gene_x_cell_line_x_copy_number.index.to_numpy()\n",
    ")"
   ]
  },
  {
   "cell_type": "code",
   "execution_count": null,
   "metadata": {},
   "outputs": [],
   "source": [
    "gene_x_cell_line_x_copy_number.columns = kraft.normalize_cell_line_names(\n",
    "    gene_x_cell_line_x_copy_number.columns.to_numpy()\n",
    ")"
   ]
  },
  {
   "cell_type": "code",
   "execution_count": null,
   "metadata": {},
   "outputs": [],
   "source": [
    "kraft.error_axis(gene_x_cell_line_x_copy_number)\n",
    "\n",
    "gene_x_cell_line_x_copy_number.index.name = \"Gene\"\n",
    "\n",
    "gene_x_cell_line_x_copy_number.to_csv(\n",
    "    \"{}gene_x_cell_line_x_copy_number_x_copy_number.tsv\".format(directory_path),\n",
    "    sep=\"\\t\",\n",
    ")\n",
    "\n",
    "gene_x_cell_line_x_copy_number"
   ]
  },
  {
   "cell_type": "code",
   "execution_count": null,
   "metadata": {
    "ExecuteTime": {
     "end_time": "2018-07-08T02:50:46.292892Z",
     "start_time": "2018-07-08T02:33:15.986392Z"
    }
   },
   "outputs": [],
   "source": [
    "mean = np.nanmean(gene_x_cell_line_x_copy_number.to_numpy())\n",
    "\n",
    "std = np.nanstd(gene_x_cell_line_x_copy_number.to_numpy())\n",
    "\n",
    "loss = mean - std * 3\n",
    "\n",
    "gain = mean + std * 3\n",
    "\n",
    "loss, gain"
   ]
  },
  {
   "cell_type": "code",
   "execution_count": null,
   "metadata": {},
   "outputs": [],
   "source": [
    "def split_gene_loss_gain(copy_numbers, copy_number_loss, copy_number_gain):\n",
    "\n",
    "    gene_loss_gain_x_ = np.full((2, copy_numbers.size), np.nan)\n",
    "\n",
    "    for i, copy_number in enumerate(copy_numbers.to_numpy()):\n",
    "\n",
    "        if copy_number < copy_number_loss:\n",
    "\n",
    "            gene_loss_gain_x_[0, i] = 1\n",
    "\n",
    "        elif copy_number_gain < copy_number:\n",
    "\n",
    "            gene_loss_gain_x_[1, i] = 1\n",
    "\n",
    "    axis_0_has_value = ~np.isnan(gene_loss_gain_x_).all(axis=1)\n",
    "\n",
    "    format_ = \"{} {{}}\".format(copy_numbers.name)\n",
    "\n",
    "    return pd.DataFrame(\n",
    "        gene_loss_gain_x_[axis_0_has_value],\n",
    "        index=np.asarray((format_.format(\"loss\"), format_.format(\"gain\")))[\n",
    "            axis_0_has_value\n",
    "        ],\n",
    "        columns=copy_numbers.index,\n",
    "    )"
   ]
  },
  {
   "cell_type": "code",
   "execution_count": null,
   "metadata": {
    "ExecuteTime": {
     "end_time": "2018-07-08T02:50:46.292892Z",
     "start_time": "2018-07-08T02:33:15.986392Z"
    }
   },
   "outputs": [],
   "source": [
    "file_path = \"{}gene_loss_gain_x_cell_line_x_01.tsv\".format(directory_path)\n",
    "\n",
    "n = gene_x_cell_line_x_copy_number.shape[0]\n",
    "\n",
    "n_per_print = n // 100\n",
    "\n",
    "with open(file_path, mode=\"w\") as io:\n",
    "\n",
    "    for i, (_, copy_numbers) in enumerate(gene_x_cell_line_x_copy_number.iterrows()):\n",
    "\n",
    "        if i % n_per_print == 0:\n",
    "\n",
    "            print(\"{}/{} ...\".format(i + 1, n))\n",
    "\n",
    "        split_gene_loss_gain(copy_numbers, loss, gain).to_csv(\n",
    "            io, sep=\"\\t\", header=i == 0, mode=\"a\"\n",
    "        )\n",
    "\n",
    "gene_loss_gain_x_cell_line = pd.read_csv(file_path, sep=\"\\t\", index_col=0)\n",
    "\n",
    "gene_loss_gain_x_cell_line"
   ]
  },
  {
   "cell_type": "code",
   "execution_count": null,
   "metadata": {},
   "outputs": [],
   "source": [
    "gene_loss_gain_x_cell_line.sum(axis=1).sort_values()"
   ]
  }
 ],
 "metadata": {
  "kernelspec": {
   "display_name": "Python 3",
   "language": "python",
   "name": "python3"
  },
  "language_info": {
   "codemirror_mode": {
    "name": "ipython",
    "version": 3
   },
   "file_extension": ".py",
   "mimetype": "text/x-python",
   "name": "python",
   "nbconvert_exporter": "python",
   "pygments_lexer": "ipython3",
   "version": "3.7.6"
  }
 },
 "nbformat": 4,
 "nbformat_minor": 4
}
