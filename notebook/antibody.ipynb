{
 "cells": [
  {
   "cell_type": "code",
   "execution_count": null,
   "metadata": {},
   "outputs": [],
   "source": [
    "%load_ext autoreload\n",
    "%autoreload 2"
   ]
  },
  {
   "cell_type": "code",
   "execution_count": null,
   "metadata": {
    "ExecuteTime": {
     "end_time": "2018-07-08T02:54:01.910768Z",
     "start_time": "2018-07-08T02:54:01.314357Z"
    }
   },
   "outputs": [],
   "source": [
    "import pandas as pd\n",
    "\n",
    "import kraft"
   ]
  },
  {
   "cell_type": "code",
   "execution_count": null,
   "metadata": {},
   "outputs": [],
   "source": [
    "directory_path = \"/home/kwat/garden/data/cancer_cell_line/antibody/\"\n",
    "\n",
    "kraft.path.path(directory_path)"
   ]
  },
  {
   "cell_type": "code",
   "execution_count": null,
   "metadata": {},
   "outputs": [],
   "source": [
    "antibody_x_cell_line_x_rppa = pd.read_csv(\n",
    "    \"{}CCLE_RPPA_20181003.csv\".format(directory_path), index_col=0\n",
    ").T\n",
    "\n",
    "antibody_x_cell_line_x_rppa"
   ]
  },
  {
   "cell_type": "code",
   "execution_count": null,
   "metadata": {},
   "outputs": [],
   "source": [
    "antibody_x_cell_line_x_rppa.index.name = \"Antibody\""
   ]
  },
  {
   "cell_type": "code",
   "execution_count": null,
   "metadata": {},
   "outputs": [],
   "source": [
    "antibody_x_cell_line_x_rppa.columns = kraft.cell_line.rename(\n",
    "    antibody_x_cell_line_x_rppa.columns.to_numpy()\n",
    ")"
   ]
  },
  {
   "cell_type": "code",
   "execution_count": null,
   "metadata": {},
   "outputs": [],
   "source": [
    "kraft.dataframe.check_axes(antibody_x_cell_line_x_rppa)\n",
    "\n",
    "antibody_x_cell_line_x_rppa.to_csv(\n",
    "    \"{}antibody_x_cell_line_x_rppa.tsv\".format(directory_path), sep=\"\\t\"\n",
    ")\n",
    "\n",
    "antibody_x_cell_line_x_rppa"
   ]
  }
 ],
 "metadata": {
  "kernelspec": {
   "display_name": "Python 3",
   "language": "python",
   "name": "python3"
  },
  "language_info": {
   "codemirror_mode": {
    "name": "ipython",
    "version": 3
   },
   "file_extension": ".py",
   "mimetype": "text/x-python",
   "name": "python",
   "nbconvert_exporter": "python",
   "pygments_lexer": "ipython3",
   "version": "3.7.6"
  }
 },
 "nbformat": 4,
 "nbformat_minor": 4
}
