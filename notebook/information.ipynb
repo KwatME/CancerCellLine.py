{
 "cells": [
  {
   "cell_type": "code",
   "execution_count": null,
   "metadata": {},
   "outputs": [],
   "source": [
    "%load_ext autoreload\n",
    "%autoreload 2"
   ]
  },
  {
   "cell_type": "code",
   "execution_count": null,
   "metadata": {},
   "outputs": [],
   "source": [
    "import pandas as pd\n",
    "\n",
    "import kraft"
   ]
  },
  {
   "cell_type": "code",
   "execution_count": null,
   "metadata": {},
   "outputs": [],
   "source": [
    "name_id = pd.read_csv(\"cell-line-synon-names.txt\", sep=\"\\t\", index_col=1)[\n",
    "    \"CELL_SAMPLE_ID\"\n",
    "]\n",
    "\n",
    "id_aht = pd.read_csv(\"cell-line-best-names.txt\", sep=\"\\t\", index_col=0)[\n",
    "    \"CELL_SAMPLE_NAME\"\n",
    "]\n",
    "\n",
    "name_aht = {name: id_aht[id_] for name, id_ in name_id.items()}\n",
    "\n",
    "len(name_aht)"
   ]
  },
  {
   "cell_type": "code",
   "execution_count": null,
   "metadata": {},
   "outputs": [],
   "source": [
    "name_aht_ = pd.read_csv(\n",
    "    \"../../../project/ctd2/label/ice000.cols.cell_line_identity.2777.csv\",\n",
    "    usecols=(2, 3),\n",
    "    index_col=0,\n",
    "    squeeze=True,\n",
    ").to_dict()\n",
    "\n",
    "name_aht.update(name_aht_)\n",
    "\n",
    "len(name_aht)"
   ]
  },
  {
   "cell_type": "code",
   "execution_count": null,
   "metadata": {},
   "outputs": [],
   "source": [
    "for aht in tuple(name_aht.values()):\n",
    "\n",
    "    name_aht[aht] = aht\n",
    "\n",
    "len(name_aht)"
   ]
  },
  {
   "cell_type": "code",
   "execution_count": null,
   "metadata": {},
   "outputs": [],
   "source": [
    "depmap_information_x_cell_line = pd.read_csv(\"sample_info.csv\", index_col=1).T\n",
    "\n",
    "depmap_information_x_cell_line"
   ]
  },
  {
   "cell_type": "code",
   "execution_count": null,
   "metadata": {},
   "outputs": [],
   "source": [
    "for aht, names in depmap_information_x_cell_line.loc[\n",
    "    [\"DepMap_ID\", \"CCLE_Name\", \"Alias\"]\n",
    "].items():\n",
    "\n",
    "    for name in names.dropna():\n",
    "\n",
    "        aht_ = name_aht.get(name)\n",
    "\n",
    "        if aht_ != aht:\n",
    "\n",
    "            if aht_ is None:\n",
    "\n",
    "                print(\"{}: {}\".format(name, aht))\n",
    "\n",
    "            else:\n",
    "\n",
    "                print(\"{}: {} ==> {}\".format(name, aht_, aht))\n",
    "\n",
    "            name_aht[name] = aht"
   ]
  },
  {
   "cell_type": "code",
   "execution_count": null,
   "metadata": {},
   "outputs": [],
   "source": [
    "name_aht = pd.Series(name_aht, name=\"Aht\").sort_values()\n",
    "\n",
    "name_aht.index.name = \"Name\"\n",
    "\n",
    "name_aht.to_csv(\"cell_line_name_aht.tsv\", sep=\"\\t\", header=True)\n",
    "\n",
    "name_aht"
   ]
  },
  {
   "cell_type": "code",
   "execution_count": null,
   "metadata": {},
   "outputs": [],
   "source": [
    "depmap_information_x_cell_line.loc[\"Is Fibroblast\"] = (\n",
    "    depmap_information_x_cell_line.loc[\"CCLE_Name\"]\n",
    "    .str.endswith(\"FIBROBLAST\")\n",
    "    .astype(int)\n",
    ")"
   ]
  },
  {
   "cell_type": "code",
   "execution_count": null,
   "metadata": {},
   "outputs": [],
   "source": [
    "information_x_cell_line = pd.concat((depmap_information_x_cell_line,))\n",
    "\n",
    "information_x_cell_line.index.name = \"Information\"\n",
    "\n",
    "information_x_cell_line.to_csv(\"information_x_cell_line.tsv\", sep=\"\\t\")\n",
    "\n",
    "information_x_cell_line"
   ]
  },
  {
   "cell_type": "code",
   "execution_count": null,
   "metadata": {},
   "outputs": [],
   "source": [
    "dataframes = [information_x_cell_line.loc[[\"age\"]]]\n",
    "\n",
    "continuous_information_x_cell_line = pd.concat(dataframes)\n",
    "\n",
    "continuous_information_x_cell_line.index.name = \"Information\"\n",
    "\n",
    "continuous_information_x_cell_line.to_csv(\n",
    "    \"continuous_information_x_cell_line.tsv\", sep=\"\\t\"\n",
    ")\n",
    "\n",
    "continuous_information_x_cell_line"
   ]
  },
  {
   "cell_type": "code",
   "execution_count": null,
   "metadata": {},
   "outputs": [],
   "source": [
    "dataframes = [information_x_cell_line.loc[[\"Is Fibroblast\"]]]\n",
    "\n",
    "for index in (\n",
    "    \"sex\",\n",
    "    \"sample_collection_site\",\n",
    "    \"primary_or_metastasis\",\n",
    "    \"primary_disease\",\n",
    "    \"Subtype\",\n",
    "    \"lineage\",\n",
    "    \"lineage_subtype\",\n",
    "    \"lineage_sub_subtype\",\n",
    "    \"lineage_molecular_subtype\",\n",
    "):\n",
    "\n",
    "    dataframe = kraft.binarize(information_x_cell_line.loc[index])\n",
    "\n",
    "    dataframe.index = (\"({}) {}\".format(index, index_) for index_ in dataframe.index)\n",
    "\n",
    "    dataframes.append(dataframe)\n",
    "\n",
    "binary_information_x_cell_line = pd.concat(dataframes)\n",
    "\n",
    "binary_information_x_cell_line.index.name = \"Information\"\n",
    "\n",
    "binary_information_x_cell_line.to_csv(\"binary_information_x_cell_line.tsv\", sep=\"\\t\")\n",
    "\n",
    "binary_information_x_cell_line"
   ]
  }
 ],
 "metadata": {
  "kernelspec": {
   "display_name": "Python 3",
   "language": "python",
   "name": "python3"
  },
  "language_info": {
   "codemirror_mode": {
    "name": "ipython",
    "version": 3
   },
   "file_extension": ".py",
   "mimetype": "text/x-python",
   "name": "python",
   "nbconvert_exporter": "python",
   "pygments_lexer": "ipython3",
   "version": "3.7.6"
  }
 },
 "nbformat": 4,
 "nbformat_minor": 4
}
