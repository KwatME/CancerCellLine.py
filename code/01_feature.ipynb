{
 "cells": [
  {
   "cell_type": "code",
   "execution_count": null,
   "metadata": {},
   "outputs": [],
   "source": [
    "from __init__ import *"
   ]
  },
  {
   "cell_type": "code",
   "execution_count": null,
   "metadata": {},
   "outputs": [],
   "source": [
    "directory_path = \"{}feature/\".format(SETTING[\"directory_path\"])\n",
    "\n",
    "kraft.path.make(directory_path)"
   ]
  },
  {
   "cell_type": "code",
   "execution_count": null,
   "metadata": {},
   "outputs": [],
   "source": [
    "for url in (\"https://ndownloader.figshare.com/files/22629137\",):\n",
    "\n",
    "    kraft.internet.download(\n",
    "        url, directory_path, name=\"sample_info.csv\", overwrite=SETTING[\"overwrite\"]\n",
    "    )"
   ]
  },
  {
   "cell_type": "markdown",
   "metadata": {},
   "source": [
    "## Map cell line name"
   ]
  },
  {
   "cell_type": "code",
   "execution_count": null,
   "metadata": {},
   "outputs": [],
   "source": [
    "name_to_rename = {}"
   ]
  },
  {
   "cell_type": "code",
   "execution_count": null,
   "metadata": {},
   "outputs": [],
   "source": [
    "name_to_id = (\n",
    "    pd.read_csv(\n",
    "        \"../input/cell-line-synon-names.txt\",\n",
    "        sep=\"\\t\",\n",
    "        usecols=(0, 1),\n",
    "        index_col=1,\n",
    "        squeeze=True,\n",
    "    )\n",
    "    .dropna()\n",
    "    .to_dict()\n",
    ")\n",
    "\n",
    "id_to_rename = (\n",
    "    pd.read_csv(\n",
    "        \"../input/cell-line-best-names.txt\",\n",
    "        sep=\"\\t\",\n",
    "        usecols=(0, 1),\n",
    "        index_col=0,\n",
    "        squeeze=True,\n",
    "    )\n",
    "    .dropna()\n",
    "    .to_dict()\n",
    ")\n",
    "\n",
    "for name, id_ in name_to_id.items():\n",
    "\n",
    "    name_to_rename[name.lower()] = id_to_rename[id_]\n",
    "\n",
    "len(name_to_rename)"
   ]
  },
  {
   "cell_type": "code",
   "execution_count": null,
   "metadata": {},
   "outputs": [],
   "source": [
    "for name, rename in (\n",
    "    pd.read_csv(\n",
    "        \"../input/ice000.cols.cell_line_identity.2777.csv\",\n",
    "        usecols=(2, 3),\n",
    "        index_col=0,\n",
    "        squeeze=True,\n",
    "    )\n",
    "    .dropna()\n",
    "    .items()\n",
    "):\n",
    "\n",
    "    name_lower = name.lower()\n",
    "\n",
    "    if name_lower in name_to_rename:\n",
    "\n",
    "        rename_now = name_to_rename[name_lower]\n",
    "\n",
    "        if rename_now != rename:\n",
    "\n",
    "            print(\"{}: {} => {}\".format(name, rename_now, rename))\n",
    "\n",
    "    name_to_rename[name_lower] = rename\n",
    "\n",
    "len(name_to_rename)"
   ]
  },
  {
   "cell_type": "code",
   "execution_count": null,
   "metadata": {},
   "outputs": [],
   "source": [
    "feature_x_sample = pd.read_csv(\n",
    "    \"{}sample_info.csv\".format(directory_path), index_col=1\n",
    ").T"
   ]
  },
  {
   "cell_type": "code",
   "execution_count": null,
   "metadata": {},
   "outputs": [],
   "source": [
    "for rename, names in feature_x_sample.iloc[:3, :].items():\n",
    "\n",
    "    for name in names.dropna():\n",
    "\n",
    "        name_lower = name.lower()\n",
    "\n",
    "        if name_lower in name_to_rename:\n",
    "\n",
    "            rename_now = name_to_rename[name_lower]\n",
    "\n",
    "            if rename_now != rename:\n",
    "\n",
    "                print(\"{}: {} => {}\".format(name, rename_now, rename))\n",
    "\n",
    "        name_to_rename[name_lower] = rename\n",
    "\n",
    "len(name_to_rename)"
   ]
  },
  {
   "cell_type": "code",
   "execution_count": null,
   "metadata": {},
   "outputs": [],
   "source": [
    "for rename in tuple(name_to_rename.values()):\n",
    "\n",
    "    name_to_rename[rename.lower()] = rename\n",
    "\n",
    "len(name_to_rename)"
   ]
  },
  {
   "cell_type": "code",
   "execution_count": null,
   "metadata": {},
   "outputs": [],
   "source": [
    "name_to_rename = pd.Series(data=name_to_rename).sort_values()\n",
    "\n",
    "name_to_rename.index.name = \"Name\"\n",
    "\n",
    "name_to_rename.name = \"Rename\"\n",
    "\n",
    "name_to_rename.to_csv(\n",
    "    \"{}cell_line_name_rename.tsv\".format(directory_path), sep=\"\\t\", header=True\n",
    ")\n",
    "\n",
    "name_to_rename"
   ]
  },
  {
   "cell_type": "markdown",
   "metadata": {},
   "source": [
    "## Make feature_x_sample"
   ]
  },
  {
   "cell_type": "markdown",
   "metadata": {},
   "source": [
    "### All"
   ]
  },
  {
   "cell_type": "code",
   "execution_count": null,
   "metadata": {},
   "outputs": [],
   "source": [
    "feature_x_sample.loc[\"Is Fibroblast\", :] = tuple(\n",
    "    int(bool(re.match(\".*FIBROBLAST$\", name)))\n",
    "    for name in feature_x_sample.loc[\"CCLE_Name\", :].to_numpy()\n",
    ")\n",
    "\n",
    "feature_x_sample.index.name = \"Feature\"\n",
    "\n",
    "feature_x_sample.columns.name = \"Cell Line\"\n",
    "\n",
    "kraft.pd.error_axes(feature_x_sample)\n",
    "\n",
    "feature_x_sample.to_csv(\"{}feature_x_sample.tsv\".format(directory_path), sep=\"\\t\")\n",
    "\n",
    "kraft.pd.count_value(feature_x_sample.T)\n",
    "\n",
    "feature_x_sample"
   ]
  },
  {
   "cell_type": "markdown",
   "metadata": {},
   "source": [
    "### Continuous"
   ]
  },
  {
   "cell_type": "code",
   "execution_count": null,
   "metadata": {},
   "outputs": [],
   "source": [
    "continuous_feature_x_sample = feature_x_sample.loc[[\"age\"]]\n",
    "\n",
    "continuous_feature_x_sample.to_csv(\n",
    "    \"{}continuous_feature_x_sample.tsv\".format(directory_path), sep=\"\\t\"\n",
    ")\n",
    "\n",
    "continuous_feature_x_sample"
   ]
  },
  {
   "cell_type": "markdown",
   "metadata": {},
   "source": [
    "### Binary"
   ]
  },
  {
   "cell_type": "code",
   "execution_count": null,
   "metadata": {},
   "outputs": [],
   "source": [
    "df_ = [feature_x_sample.loc[[\"Is Fibroblast\"], :]]\n",
    "\n",
    "for label in (\n",
    "    \"sex\",\n",
    "    \"sample_collection_site\",\n",
    "    \"primary_or_metastasis\",\n",
    "    \"primary_disease\",\n",
    "    \"Subtype\",\n",
    "    \"lineage\",\n",
    "    \"lineage_subtype\",\n",
    "    \"lineage_sub_subtype\",\n",
    "    \"lineage_molecular_subtype\",\n",
    "):\n",
    "\n",
    "    df = kraft.pd.binarize(feature_x_sample.loc[label, :])\n",
    "\n",
    "    df.index = (\"({}) {}\".format(label, label_) for label_ in df.index.to_numpy())\n",
    "\n",
    "    df_.append(df)\n",
    "\n",
    "binary_feature_x_sample = pd.concat(df_)\n",
    "\n",
    "binary_feature_x_sample.index.name = \"Feature\"\n",
    "\n",
    "binary_feature_x_sample.to_csv(\n",
    "    \"{}binary_feature_x_sample.tsv\".format(directory_path), sep=\"\\t\"\n",
    ")\n",
    "\n",
    "binary_feature_x_sample"
   ]
  }
 ],
 "metadata": {
  "kernelspec": {
   "display_name": "Python 3",
   "language": "python",
   "name": "python3"
  },
  "language_info": {
   "codemirror_mode": {
    "name": "ipython",
    "version": 3
   },
   "file_extension": ".py",
   "mimetype": "text/x-python",
   "name": "python",
   "nbconvert_exporter": "python",
   "pygments_lexer": "ipython3",
   "version": "3.7.8"
  }
 },
 "nbformat": 4,
 "nbformat_minor": 4
}
