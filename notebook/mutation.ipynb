{
 "cells": [
  {
   "cell_type": "code",
   "execution_count": null,
   "metadata": {},
   "outputs": [],
   "source": [
    "%load_ext autoreload\n",
    "%autoreload 2"
   ]
  },
  {
   "cell_type": "code",
   "execution_count": null,
   "metadata": {
    "ExecuteTime": {
     "end_time": "2018-07-08T01:08:15.968617Z",
     "start_time": "2018-07-08T01:08:14.081418Z"
    }
   },
   "outputs": [],
   "source": [
    "import numpy as np\n",
    "import pandas as pd\n",
    "\n",
    "import kraft"
   ]
  },
  {
   "cell_type": "code",
   "execution_count": null,
   "metadata": {},
   "outputs": [],
   "source": [
    "directory_path = \"/home/kwat/garden/data/cancer_cell_line/mutation/\"\n",
    "\n",
    "kraft.path.path(directory_path)"
   ]
  },
  {
   "cell_type": "code",
   "execution_count": null,
   "metadata": {
    "ExecuteTime": {
     "end_time": "2018-07-08T01:08:15.968617Z",
     "start_time": "2018-07-08T01:08:14.081418Z"
    }
   },
   "outputs": [],
   "source": [
    "table = pd.read_csv(\n",
    "    \"{}/CCLE_mutations.csv\".format(directory_path),\n",
    "    sep=\"\\t\",\n",
    "    usecols=(0, 7, 13, 18, 32, 33),\n",
    ").to_numpy()\n",
    "\n",
    "len(table)"
   ]
  },
  {
   "cell_type": "code",
   "execution_count": null,
   "metadata": {
    "ExecuteTime": {
     "end_time": "2018-07-08T01:08:15.968617Z",
     "start_time": "2018-07-08T01:08:14.081418Z"
    }
   },
   "outputs": [],
   "source": [
    "table = table[table[:, 4] == \"damaging\", :]\n",
    "\n",
    "len(table)"
   ]
  },
  {
   "cell_type": "code",
   "execution_count": null,
   "metadata": {
    "ExecuteTime": {
     "end_time": "2018-07-08T01:08:26.126114Z",
     "start_time": "2018-07-08T01:08:25.926527Z"
    }
   },
   "outputs": [],
   "source": [
    "table[:, 5] = kraft.cell_line.rename(table[:, 5])\n",
    "\n",
    "cell_lines = table[:, 5]\n",
    "\n",
    "cell_line_to_i = kraft.array.map_int(cell_lines)[0]\n",
    "\n",
    "len(cell_line_to_i)"
   ]
  },
  {
   "cell_type": "code",
   "execution_count": null,
   "metadata": {},
   "outputs": [],
   "source": [
    "genes = table[:, 0]\n",
    "\n",
    "gene_to_i = kraft.array.map_int(genes)[0]\n",
    "\n",
    "len(gene_to_i)"
   ]
  },
  {
   "cell_type": "code",
   "execution_count": null,
   "metadata": {},
   "outputs": [],
   "source": [
    "def combine(gene_str):\n",
    "\n",
    "    gene, str_ = gene_str\n",
    "\n",
    "    if not isinstance(str_, str):\n",
    "\n",
    "        str_ = \"\"\n",
    "\n",
    "    return np.asarray(\"{}_{}\".format(gene, str_), dtype=\"object\")"
   ]
  },
  {
   "cell_type": "code",
   "execution_count": null,
   "metadata": {},
   "outputs": [],
   "source": [
    "variant_classifications = np.apply_along_axis(combine, 1, table[:, (0, 1)])\n",
    "\n",
    "variant_classification_to_i = kraft.array.map_int(variant_classifications)[0]\n",
    "\n",
    "len(variant_classification_to_i)"
   ]
  },
  {
   "cell_type": "code",
   "execution_count": null,
   "metadata": {
    "ExecuteTime": {
     "end_time": "2018-07-08T01:08:26.126114Z",
     "start_time": "2018-07-08T01:08:25.926527Z"
    }
   },
   "outputs": [],
   "source": [
    "protein_changes = np.apply_along_axis(combine, 1, table[:, (0, 3)])\n",
    "\n",
    "protein_change_to_i = kraft.array.map_int(protein_changes)[0]\n",
    "\n",
    "len(protein_change_to_i)"
   ]
  },
  {
   "cell_type": "code",
   "execution_count": null,
   "metadata": {
    "ExecuteTime": {
     "end_time": "2018-07-08T01:41:26.363600Z",
     "start_time": "2018-07-08T01:09:27.049774Z"
    }
   },
   "outputs": [],
   "source": [
    "gene_x_cell_line = np.full((len(gene_to_i), len(cell_line_to_i)), 0)\n",
    "\n",
    "variant_classification_x_cell_line = np.full(\n",
    "    (len(variant_classification_to_i), len(cell_line_to_i)), 0\n",
    ")\n",
    "\n",
    "protein_change_x_cell_line = np.full((len(protein_change_to_i), len(cell_line_to_i)), 0)"
   ]
  },
  {
   "cell_type": "code",
   "execution_count": null,
   "metadata": {
    "ExecuteTime": {
     "end_time": "2018-07-08T01:41:26.363600Z",
     "start_time": "2018-07-08T01:09:27.049774Z"
    }
   },
   "outputs": [],
   "source": [
    "for gene, variant_classification, protein_change, cell_line in table[:, (0, 1, 3, 5)]:\n",
    "\n",
    "    cell_line_i = cell_line_to_i[cell_line]\n",
    "\n",
    "    gene_x_cell_line[gene_to_i[gene], cell_line_i] += 1\n",
    "\n",
    "    if not isinstance(variant_classification, str):\n",
    "\n",
    "        variant_classification = \"\"\n",
    "\n",
    "    variant_classification_x_cell_line[\n",
    "        variant_classification_to_i[str(combine((gene, variant_classification)))],\n",
    "        cell_line_i,\n",
    "    ] += 1\n",
    "\n",
    "    if not isinstance(protein_change, str):\n",
    "\n",
    "        protein_change = \"\"\n",
    "\n",
    "    protein_change_x_cell_line[\n",
    "        protein_change_to_i[str(combine((gene, protein_change)))], cell_line_i\n",
    "    ] += 1"
   ]
  },
  {
   "cell_type": "code",
   "execution_count": null,
   "metadata": {},
   "outputs": [],
   "source": [
    "gene_x_cell_line = pd.DataFrame(\n",
    "    gene_x_cell_line, index=gene_to_i, columns=cell_line_to_i\n",
    ")\n",
    "\n",
    "gene_x_cell_line.index.name = \"Gene\"\n",
    "\n",
    "gene_x_cell_line.columns.name = \"Cell Line\"\n",
    "\n",
    "kraft.dataframe.error_axes(gene_x_cell_line)\n",
    "\n",
    "gene_x_cell_line.to_csv(\"{}/gene_x_cell_line.tsv\".format(directory_path), sep=\"\\t\")\n",
    "\n",
    "gene_x_cell_line"
   ]
  },
  {
   "cell_type": "code",
   "execution_count": null,
   "metadata": {},
   "outputs": [],
   "source": [
    "gene_x_cell_line_x_01 = gene_x_cell_line.clip(upper=1)\n",
    "\n",
    "gene_x_cell_line_x_01.to_csv(\n",
    "    \"{}/gene_x_cell_line_x_01.tsv\".format(directory_path), sep=\"\\t\"\n",
    ")\n",
    "\n",
    "gene_x_cell_line_x_01"
   ]
  },
  {
   "cell_type": "code",
   "execution_count": null,
   "metadata": {},
   "outputs": [],
   "source": [
    "variant_classification_x_cell_line = pd.DataFrame(\n",
    "    variant_classification_x_cell_line,\n",
    "    index=variant_classification_to_i,\n",
    "    columns=cell_line_to_i,\n",
    ")\n",
    "\n",
    "variant_classification_x_cell_line.index.name = \"Variant Classification\"\n",
    "\n",
    "variant_classification_x_cell_line.columns.name = \"Cell Line\"\n",
    "\n",
    "kraft.dataframe.error_axes(variant_classification_x_cell_line)\n",
    "\n",
    "variant_classification_x_cell_line.to_csv(\n",
    "    \"{}/gene_variant_classification_x_cell_line.tsv\".format(directory_path), sep=\"\\t\"\n",
    ")\n",
    "\n",
    "variant_classification_x_cell_line"
   ]
  },
  {
   "cell_type": "code",
   "execution_count": null,
   "metadata": {},
   "outputs": [],
   "source": [
    "protein_change_x_cell_line = pd.DataFrame(\n",
    "    protein_change_x_cell_line, index=protein_change_to_i, columns=cell_line_to_i,\n",
    ")\n",
    "\n",
    "protein_change_x_cell_line.index.name = \"Protein Change\"\n",
    "\n",
    "protein_change_x_cell_line.columns.name = \"Cell Line\"\n",
    "\n",
    "kraft.dataframe.error_axes(protein_change_x_cell_line)\n",
    "\n",
    "protein_change_x_cell_line.to_csv(\n",
    "    \"{}/gene_protein_change_x_cell_line.tsv\".format(directory_path), sep=\"\\t\"\n",
    ")\n",
    "\n",
    "protein_change_x_cell_line"
   ]
  }
 ],
 "metadata": {
  "kernelspec": {
   "display_name": "Python 3",
   "language": "python",
   "name": "python3"
  },
  "language_info": {
   "codemirror_mode": {
    "name": "ipython",
    "version": 3
   },
   "file_extension": ".py",
   "mimetype": "text/x-python",
   "name": "python",
   "nbconvert_exporter": "python",
   "pygments_lexer": "ipython3",
   "version": "3.7.6"
  }
 },
 "nbformat": 4,
 "nbformat_minor": 4
}
