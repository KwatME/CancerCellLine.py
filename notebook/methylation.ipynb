{
 "cells": [
  {
   "cell_type": "code",
   "execution_count": null,
   "metadata": {},
   "outputs": [],
   "source": [
    "%load_ext autoreload\n",
    "%autoreload 2"
   ]
  },
  {
   "cell_type": "code",
   "execution_count": null,
   "metadata": {
    "ExecuteTime": {
     "end_time": "2018-07-08T02:54:02.348135Z",
     "start_time": "2018-07-08T02:54:02.163874Z"
    }
   },
   "outputs": [],
   "source": [
    "import numpy as np\n",
    "import pandas as pd\n",
    "\n",
    "import kraft"
   ]
  },
  {
   "cell_type": "code",
   "execution_count": null,
   "metadata": {},
   "outputs": [],
   "source": [
    "directory_path = \"/home/kwat/Downloads/methylation/\"\n",
    "\n",
    "kraft.path.path(directory_path)"
   ]
  },
  {
   "cell_type": "code",
   "execution_count": null,
   "metadata": {},
   "outputs": [],
   "source": [
    "for url in (\n",
    "    \"https://depmap.org/portal/download/api/download/external?file_name=ccle%2Fccle_2019%2FCCLE_RRBS_tss_CpG_clusters_20181022.txt.gz\",\n",
    "):\n",
    "\n",
    "    print(kraft.internet.download(url, directory_path,))"
   ]
  },
  {
   "cell_type": "code",
   "execution_count": null,
   "metadata": {
    "ExecuteTime": {
     "end_time": "2018-07-08T02:54:02.348135Z",
     "start_time": "2018-07-08T02:54:02.163874Z"
    }
   },
   "outputs": [],
   "source": [
    "gene_x_cell_line = pd.read_csv(\n",
    "    \"{}/CCLE_RRBS_tss_CpG_clusters_20181022.txt.gz\".format(directory_path),\n",
    "    sep=\"\\t\",\n",
    "    index_col=0,\n",
    ").drop(columns=[\"CpG_sites_hg19\", \"avg_coverage\"])\n",
    "\n",
    "gene_x_cell_line = gene_x_cell_line.loc[gene_x_cell_line.index.dropna(), :].astype(\n",
    "    float\n",
    ")\n",
    "\n",
    "gene_x_cell_line.index = (\n",
    "    label.split(\"_\")[0] for label in gene_x_cell_line.index.to_numpy()\n",
    ")\n",
    "\n",
    "print(gene_x_cell_line.shape)\n",
    "\n",
    "gene_x_cell_line = gene_x_cell_line.groupby(level=0).median()\n",
    "\n",
    "print(gene_x_cell_line.shape)\n",
    "\n",
    "gene_x_cell_line.columns = kraft.cell_line.rename(gene_x_cell_line.columns.to_numpy())\n",
    "\n",
    "gene_x_cell_line.index.name = \"Gene\"\n",
    "\n",
    "gene_x_cell_line.columns.name = \"Cell Line\"\n",
    "\n",
    "kraft.dataframe.error_axes(gene_x_cell_line)\n",
    "\n",
    "gene_x_cell_line.to_csv(\"{}/gene_x_cell_line.tsv\".format(directory_path), sep=\"\\t\")\n",
    "\n",
    "gene_x_cell_line"
   ]
  }
 ],
 "metadata": {
  "kernelspec": {
   "display_name": "Python 3",
   "language": "python",
   "name": "python3"
  },
  "language_info": {
   "codemirror_mode": {
    "name": "ipython",
    "version": 3
   },
   "file_extension": ".py",
   "mimetype": "text/x-python",
   "name": "python",
   "nbconvert_exporter": "python",
   "pygments_lexer": "ipython3",
   "version": "3.7.6"
  }
 },
 "nbformat": 4,
 "nbformat_minor": 4
}
