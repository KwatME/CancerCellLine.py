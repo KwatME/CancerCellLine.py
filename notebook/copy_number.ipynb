{
 "cells": [
  {
   "cell_type": "code",
   "execution_count": null,
   "metadata": {},
   "outputs": [],
   "source": [
    "%load_ext autoreload\n",
    "%autoreload 2"
   ]
  },
  {
   "cell_type": "code",
   "execution_count": null,
   "metadata": {},
   "outputs": [],
   "source": [
    "import numpy as np\n",
    "import pandas as pd\n",
    "\n",
    "import kraft"
   ]
  },
  {
   "cell_type": "code",
   "execution_count": null,
   "metadata": {},
   "outputs": [],
   "source": [
    "directory_path = \"/home/kwat/garden/data/cancer_cell_line/copy_number/\"\n",
    "\n",
    "kraft.path.path(directory_path)"
   ]
  },
  {
   "cell_type": "markdown",
   "metadata": {},
   "source": [
    "## Continuous"
   ]
  },
  {
   "cell_type": "code",
   "execution_count": null,
   "metadata": {},
   "outputs": [],
   "source": [
    "gene_x_cell_line = pd.read_csv(\n",
    "    \"{}/CCLE_gene_cn.csv\".format(directory_path), index_col=0\n",
    ").T\n",
    "\n",
    "gene_x_cell_line.index = (\n",
    "    label.split()[0] for label in gene_x_cell_line.index.to_numpy()\n",
    ")\n",
    "\n",
    "gene_x_cell_line.columns = kraft.cell_line.rename(gene_x_cell_line.columns.to_numpy())\n",
    "\n",
    "gene_x_cell_line.index.name = \"Gene\"\n",
    "\n",
    "gene_x_cell_line.columns.name = \"Cell Line\"\n",
    "\n",
    "kraft.dataframe.error_axes(gene_x_cell_line)\n",
    "\n",
    "gene_x_cell_line.to_csv(\n",
    "    \"{}/gene_x_cell_line.tsv\".format(directory_path), sep=\"\\t\",\n",
    ")\n",
    "\n",
    "gene_x_cell_line"
   ]
  },
  {
   "cell_type": "markdown",
   "metadata": {},
   "source": [
    "## Binary"
   ]
  },
  {
   "cell_type": "code",
   "execution_count": null,
   "metadata": {},
   "outputs": [],
   "source": [
    "mean = np.nanmean(gene_x_cell_line.to_numpy())\n",
    "\n",
    "std = np.nanstd(gene_x_cell_line.to_numpy())\n",
    "\n",
    "loss = mean - std * 3\n",
    "\n",
    "gain = mean + std * 3\n",
    "\n",
    "print(loss, gain)\n",
    "\n",
    "\n",
    "def make_gene_loss_gain_x_(copy_numbers, loss, gain):\n",
    "\n",
    "    gene_loss_gain_x_ = np.full((2, copy_numbers.size), 0)\n",
    "\n",
    "    for i, copy_number in enumerate(copy_numbers.to_numpy()):\n",
    "\n",
    "        if copy_number <= loss:\n",
    "\n",
    "            gene_loss_gain_x_[0, i] = 1\n",
    "\n",
    "        elif gain <= copy_number:\n",
    "\n",
    "            gene_loss_gain_x_[1, i] = 1\n",
    "\n",
    "    has_1 = (gene_loss_gain_x_ == 1).any(axis=1)\n",
    "\n",
    "    gene = copy_numbers.name\n",
    "\n",
    "    return pd.DataFrame(\n",
    "        gene_loss_gain_x_[has_1],\n",
    "        index=np.asarray((\"{} loss\".format(gene), \"{} gain\".format(gene)))[has_1],\n",
    "        columns=copy_numbers.index,\n",
    "    )"
   ]
  },
  {
   "cell_type": "code",
   "execution_count": null,
   "metadata": {
    "ExecuteTime": {
     "end_time": "2018-07-08T02:50:46.292892Z",
     "start_time": "2018-07-08T02:33:15.986392Z"
    }
   },
   "outputs": [],
   "source": [
    "file_path = \"{}/gene_loss_gain_x_cell_line.tsv\".format(directory_path)\n",
    "\n",
    "n = gene_x_cell_line.shape[0]\n",
    "\n",
    "n_per_print = n // 10\n",
    "\n",
    "with open(file_path, mode=\"w\") as io:\n",
    "\n",
    "    for i, (_, copy_numbers) in enumerate(gene_x_cell_line.iterrows()):\n",
    "\n",
    "        if i % n_per_print == 0:\n",
    "\n",
    "            print(\"{}/{}...\".format(i + 1, n))\n",
    "\n",
    "        make_gene_loss_gain_x_(copy_numbers, loss, gain).to_csv(\n",
    "            io, sep=\"\\t\", header=i == 0, mode=\"a\"\n",
    "        )\n",
    "\n",
    "gene_loss_gain_x_cell_line = pd.read_csv(file_path, sep=\"\\t\", index_col=0)\n",
    "\n",
    "gene_loss_gain_x_cell_line"
   ]
  }
 ],
 "metadata": {
  "kernelspec": {
   "display_name": "Python 3",
   "language": "python",
   "name": "python3"
  },
  "language_info": {
   "codemirror_mode": {
    "name": "ipython",
    "version": 3
   },
   "file_extension": ".py",
   "mimetype": "text/x-python",
   "name": "python",
   "nbconvert_exporter": "python",
   "pygments_lexer": "ipython3",
   "version": "3.7.6"
  }
 },
 "nbformat": 4,
 "nbformat_minor": 4
}
