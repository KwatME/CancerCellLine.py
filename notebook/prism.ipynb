{
 "cells": [
  {
   "cell_type": "code",
   "execution_count": null,
   "metadata": {},
   "outputs": [],
   "source": [
    "%load_ext autoreload\n",
    "%autoreload 2"
   ]
  },
  {
   "cell_type": "code",
   "execution_count": null,
   "metadata": {},
   "outputs": [],
   "source": [
    "import numpy as np\n",
    "import pandas as pd\n",
    "\n",
    "import kraft"
   ]
  },
  {
   "cell_type": "code",
   "execution_count": null,
   "metadata": {},
   "outputs": [],
   "source": [
    "directory_path = \"/home/kwat/Downloads/prism/\"\n",
    "\n",
    "kraft.path.path(directory_path)"
   ]
  },
  {
   "cell_type": "code",
   "execution_count": null,
   "metadata": {},
   "outputs": [],
   "source": [
    "for url in (\n",
    "    \"https://ndownloader.figshare.com/files/20237712\",\n",
    "    \"https://ndownloader.figshare.com/files/20237760\",\n",
    "    \"https://ndownloader.figshare.com/files/20237739\",\n",
    "):\n",
    "\n",
    "    print(kraft.internet.download(url, directory_path,))"
   ]
  },
  {
   "cell_type": "markdown",
   "metadata": {},
   "source": [
    "## Compound dose (1 and 2)"
   ]
  },
  {
   "cell_type": "code",
   "execution_count": null,
   "metadata": {},
   "outputs": [],
   "source": [
    "def name_compound_dose(id_dose, id_to_compound):\n",
    "\n",
    "    id_, dose = id_dose.split(\"::\")[:2]\n",
    "\n",
    "    return \"{}_{:.2f}\".format(id_to_compound[id_], float(dose))"
   ]
  },
  {
   "cell_type": "code",
   "execution_count": null,
   "metadata": {},
   "outputs": [],
   "source": [
    "for version in (\n",
    "    \"primary\",\n",
    "    \"secondary\",\n",
    "):\n",
    "\n",
    "    print(\"=\" * 80)\n",
    "\n",
    "    print(version)\n",
    "\n",
    "    id_to_compound = (\n",
    "        pd.read_csv(\n",
    "            \"{}/{}-screen-replicate-treatment-info.csv\".format(directory_path, version),\n",
    "            index_col=1,\n",
    "        )\n",
    "        .loc[:, \"name\"]\n",
    "        .to_dict()\n",
    "    )\n",
    "\n",
    "    compound_dose_x_cell_line = pd.read_csv(\n",
    "        \"{}/{}-screen-replicate-collapsed-logfold-change.csv\".format(\n",
    "            directory_path, version\n",
    "        ),\n",
    "        index_col=0,\n",
    "    ).T\n",
    "\n",
    "    compound_dose_x_cell_line.index = (\n",
    "        name_compound_dose(compound_dose, id_to_compound)\n",
    "        for compound_dose in compound_dose_x_cell_line.index.to_numpy()\n",
    "    )\n",
    "\n",
    "    print(compound_dose_x_cell_line.shape)\n",
    "\n",
    "    compound_dose_x_cell_line = compound_dose_x_cell_line.groupby(level=0).median()\n",
    "\n",
    "    print(compound_dose_x_cell_line.shape)\n",
    "\n",
    "    compound_dose_x_cell_line.columns = kraft.cell_line.rename(\n",
    "        compound_dose_x_cell_line.columns.to_numpy()\n",
    "    )\n",
    "\n",
    "    compound_dose_x_cell_line.index.name = \"Compound Dose\"\n",
    "\n",
    "    compound_dose_x_cell_line.columns.name = \"Cell Line\"\n",
    "\n",
    "    kraft.dataframe.error_axes(compound_dose_x_cell_line)\n",
    "\n",
    "    compound_dose_x_cell_line.to_csv(\n",
    "        \"{}/{}.compound_dose_x_cell_line.tsv\".format(\n",
    "            directory_path, {\"primary\": 1, \"secondary\": 2}[version]\n",
    "        )\n",
    "    )\n",
    "\n",
    "    print(compound_dose_x_cell_line.head(n=2))"
   ]
  },
  {
   "cell_type": "markdown",
   "metadata": {},
   "source": [
    "## Response curve (2)"
   ]
  },
  {
   "cell_type": "code",
   "execution_count": null,
   "metadata": {},
   "outputs": [],
   "source": [
    "cell_lines, scores, compounds = (\n",
    "    pd.read_csv(\n",
    "        \"{}/secondary-screen-dose-response-curve-parameters.csv\".format(directory_path),\n",
    "        usecols=(1, 8, 11),\n",
    "    )\n",
    "    .to_numpy()\n",
    "    .T\n",
    ")\n",
    "\n",
    "cell_lines = np.asarray(kraft.cell_line.rename(cell_lines))\n",
    "\n",
    "scores = scores.astype(float)"
   ]
  },
  {
   "cell_type": "code",
   "execution_count": null,
   "metadata": {
    "ExecuteTime": {
     "end_time": "2018-07-08T01:08:15.968617Z",
     "start_time": "2018-07-08T01:08:14.081418Z"
    }
   },
   "outputs": [],
   "source": [
    "compound_x_cell_line = kraft.dataframe.pivot(\n",
    "    compounds,\n",
    "    cell_lines,\n",
    "    scores,\n",
    "    function=min,\n",
    "    axis_0_name=\"Compound\",\n",
    "    axis_1_name=\"Cell Line\",\n",
    ")\n",
    "\n",
    "compound_x_cell_line.to_csv(\n",
    "    \"{}/2.compound_x_cell_line.tsv\".format(directory_path), sep=\"\\t\"\n",
    ")\n",
    "\n",
    "compound_x_cell_line"
   ]
  }
 ],
 "metadata": {
  "kernelspec": {
   "display_name": "Python 3",
   "language": "python",
   "name": "python3"
  },
  "language_info": {
   "codemirror_mode": {
    "name": "ipython",
    "version": 3
   },
   "file_extension": ".py",
   "mimetype": "text/x-python",
   "name": "python",
   "nbconvert_exporter": "python",
   "pygments_lexer": "ipython3",
   "version": "3.7.6"
  }
 },
 "nbformat": 4,
 "nbformat_minor": 4
}
