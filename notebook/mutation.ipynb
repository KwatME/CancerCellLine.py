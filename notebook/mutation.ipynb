{
 "cells": [
  {
   "cell_type": "code",
   "execution_count": null,
   "metadata": {},
   "outputs": [],
   "source": [
    "%load_ext autoreload\n",
    "%autoreload 2"
   ]
  },
  {
   "cell_type": "code",
   "execution_count": null,
   "metadata": {
    "ExecuteTime": {
     "end_time": "2018-07-08T01:08:15.968617Z",
     "start_time": "2018-07-08T01:08:14.081418Z"
    }
   },
   "outputs": [],
   "source": [
    "import numpy as np\n",
    "import pandas as pd\n",
    "\n",
    "import kraft"
   ]
  },
  {
   "cell_type": "code",
   "execution_count": null,
   "metadata": {
    "ExecuteTime": {
     "end_time": "2018-07-08T01:08:15.968617Z",
     "start_time": "2018-07-08T01:08:14.081418Z"
    }
   },
   "outputs": [],
   "source": [
    "maf = pd.read_csv(\"CCLE_mutations.csv\", sep=\"\\t\")\n",
    "\n",
    "maf"
   ]
  },
  {
   "cell_type": "code",
   "execution_count": null,
   "metadata": {},
   "outputs": [],
   "source": [
    "maf = maf[\n",
    "    [\n",
    "        \"Hugo_Symbol\",\n",
    "        \"Variant_Classification\",\n",
    "        \"Genome_Change\",\n",
    "        \"Protein_Change\",\n",
    "        \"Variant_annotation\",\n",
    "        \"DepMap_ID\",\n",
    "    ]\n",
    "]\n",
    "\n",
    "maf = maf[maf[\"Variant_annotation\"] == \"damaging\"]\n",
    "\n",
    "maf[\"Cell Line\"] = kraft.normalize_cell_line_names(maf[\"DepMap_ID\"])\n",
    "\n",
    "maf"
   ]
  },
  {
   "cell_type": "code",
   "execution_count": null,
   "metadata": {
    "ExecuteTime": {
     "end_time": "2018-07-08T01:08:26.126114Z",
     "start_time": "2018-07-08T01:08:25.926527Z"
    }
   },
   "outputs": [],
   "source": [
    "genes = np.unique(maf[\"Hugo_Symbol\"].values)\n",
    "\n",
    "dict_gene_i = kraft.make_dict_object_i(genes)\n",
    "\n",
    "print(len(genes))\n",
    "\n",
    "genes"
   ]
  },
  {
   "cell_type": "code",
   "execution_count": null,
   "metadata": {},
   "outputs": [],
   "source": [
    "def format_(gene_str):\n",
    "\n",
    "    gene, str_ = gene_str\n",
    "\n",
    "    if not isinstance(str_, str):\n",
    "\n",
    "        str_ = \"\"\n",
    "\n",
    "    return np.asarray(\"{}_{}\".format(gene, str_), dtype=\"object\")"
   ]
  },
  {
   "cell_type": "code",
   "execution_count": null,
   "metadata": {},
   "outputs": [],
   "source": [
    "variant_classifications = np.unique(\n",
    "    np.apply_along_axis(\n",
    "        format_, 1, maf[[\"Hugo_Symbol\", \"Variant_Classification\"]].values,\n",
    "    )\n",
    ")\n",
    "\n",
    "dict_variant_classification_i = kraft.make_dict_object_i(variant_classifications)\n",
    "\n",
    "\n",
    "print(len(variant_classifications))\n",
    "\n",
    "variant_classifications"
   ]
  },
  {
   "cell_type": "code",
   "execution_count": null,
   "metadata": {
    "ExecuteTime": {
     "end_time": "2018-07-08T01:08:26.126114Z",
     "start_time": "2018-07-08T01:08:25.926527Z"
    }
   },
   "outputs": [],
   "source": [
    "protein_changes = np.unique(\n",
    "    np.apply_along_axis(format_, 1, maf[[\"Hugo_Symbol\", \"Protein_Change\"]].values)\n",
    ")\n",
    "\n",
    "dict_protein_change_i = kraft.make_dict_object_i(protein_changes)\n",
    "\n",
    "print(len(protein_changes))\n",
    "\n",
    "protein_changes"
   ]
  },
  {
   "cell_type": "code",
   "execution_count": null,
   "metadata": {},
   "outputs": [],
   "source": [
    "protein_changes = np.unique(\n",
    "    np.apply_along_axis(format_, 1, maf[[\"Hugo_Symbol\", \"Protein_Change\"]].values)\n",
    ")\n",
    "\n",
    "dict_protein_change_i = kraft.make_dict_object_i(protein_changes)\n",
    "\n",
    "protein_changes"
   ]
  },
  {
   "cell_type": "code",
   "execution_count": null,
   "metadata": {
    "ExecuteTime": {
     "end_time": "2018-07-08T01:08:26.126114Z",
     "start_time": "2018-07-08T01:08:25.926527Z"
    }
   },
   "outputs": [],
   "source": [
    "cell_lines = np.unique(maf[\"Cell Line\"].values)\n",
    "\n",
    "dict_cell_line_i = kraft.make_dict_object_i(cell_lines)\n",
    "\n",
    "cell_lines"
   ]
  },
  {
   "cell_type": "code",
   "execution_count": null,
   "metadata": {
    "ExecuteTime": {
     "end_time": "2018-07-08T01:41:26.363600Z",
     "start_time": "2018-07-08T01:09:27.049774Z"
    }
   },
   "outputs": [],
   "source": [
    "gene_x_cell_line = np.full((len(genes), len(cell_lines)), 0)\n",
    "\n",
    "variant_classification_x_cell_line = np.full(\n",
    "    (len(variant_classifications), len(cell_lines)), 0\n",
    ")\n",
    "\n",
    "protein_change_x_cell_line = np.full((len(protein_changes), len(cell_lines)), 0)"
   ]
  },
  {
   "cell_type": "code",
   "execution_count": null,
   "metadata": {
    "ExecuteTime": {
     "end_time": "2018-07-08T01:41:26.363600Z",
     "start_time": "2018-07-08T01:09:27.049774Z"
    }
   },
   "outputs": [],
   "source": [
    "for gene, variant_classification, protein_change, cell_line in maf[\n",
    "    [\"Hugo_Symbol\", \"Variant_Classification\", \"Protein_Change\", \"Cell Line\"]\n",
    "].values:\n",
    "\n",
    "    gene_i = dict_gene_i[gene]\n",
    "\n",
    "    cell_line_i = dict_cell_line_i[cell_line]\n",
    "\n",
    "    gene_x_cell_line[gene_i, cell_line_i] += 1\n",
    "\n",
    "    if not isinstance(variant_classification, str):\n",
    "\n",
    "        variant_classification = \"\"\n",
    "\n",
    "    variant_classification_i = dict_variant_classification_i[\n",
    "        str(format_((gene, variant_classification)))\n",
    "    ]\n",
    "\n",
    "    variant_classification_x_cell_line[variant_classification_i, cell_line_i] += 1\n",
    "\n",
    "    if not isinstance(protein_change, str):\n",
    "\n",
    "        protein_change = \"\"\n",
    "\n",
    "    protein_change_i = dict_protein_change_i[str(format_((gene, protein_change)))]\n",
    "\n",
    "    protein_change_x_cell_line[protein_change_i, cell_line_i] += 1"
   ]
  },
  {
   "cell_type": "code",
   "execution_count": null,
   "metadata": {},
   "outputs": [],
   "source": [
    "gene_x_cell_line = pd.DataFrame(gene_x_cell_line, index=genes, columns=cell_lines)\n",
    "\n",
    "gene_x_cell_line.to_csv(\"mutation.gene_x_cell_line.tsv\", sep=\"\\t\")\n",
    "\n",
    "gene_x_cell_line"
   ]
  },
  {
   "cell_type": "code",
   "execution_count": null,
   "metadata": {},
   "outputs": [],
   "source": [
    "gene_x_cell_line_01 = gene_x_cell_line.clip(upper=1)\n",
    "\n",
    "gene_x_cell_line_01.to_csv(\"mutation.gene_x_cell_line.01.tsv\", sep=\"\\t\")\n",
    "\n",
    "gene_x_cell_line_01"
   ]
  },
  {
   "cell_type": "code",
   "execution_count": null,
   "metadata": {},
   "outputs": [],
   "source": [
    "variant_classification_x_cell_line = pd.DataFrame(\n",
    "    variant_classification_x_cell_line,\n",
    "    index=variant_classifications,\n",
    "    columns=cell_lines,\n",
    ")\n",
    "\n",
    "variant_classification_x_cell_line.to_csv(\n",
    "    \"gene_variant_classification_x_cell_line.tsv\", sep=\"\\t\"\n",
    ")\n",
    "\n",
    "variant_classification_x_cell_line"
   ]
  },
  {
   "cell_type": "code",
   "execution_count": null,
   "metadata": {},
   "outputs": [],
   "source": [
    "protein_change_x_cell_line = pd.DataFrame(\n",
    "    protein_change_x_cell_line, index=protein_changes, columns=cell_lines\n",
    ")\n",
    "\n",
    "protein_change_x_cell_line.to_csv(\"gene_protein_change_x_cell_line.tsv\", sep=\"\\t\")\n",
    "\n",
    "protein_change_x_cell_line"
   ]
  }
 ],
 "metadata": {
  "kernelspec": {
   "display_name": "Python 3",
   "language": "python",
   "name": "python3"
  },
  "language_info": {
   "codemirror_mode": {
    "name": "ipython",
    "version": 3
   },
   "file_extension": ".py",
   "mimetype": "text/x-python",
   "name": "python",
   "nbconvert_exporter": "python",
   "pygments_lexer": "ipython3",
   "version": "3.7.6"
  }
 },
 "nbformat": 4,
 "nbformat_minor": 4
}
