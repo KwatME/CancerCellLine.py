{
 "cells": [
  {
   "cell_type": "code",
   "execution_count": null,
   "metadata": {},
   "outputs": [],
   "source": [
    "%load_ext autoreload\n",
    "%autoreload 2"
   ]
  },
  {
   "cell_type": "code",
   "execution_count": null,
   "metadata": {},
   "outputs": [],
   "source": [
    "import numpy as np\n",
    "import pandas as pd\n",
    "\n",
    "import kraft"
   ]
  },
  {
   "cell_type": "code",
   "execution_count": null,
   "metadata": {},
   "outputs": [],
   "source": [
    "directory_path = \"/home/kwat/garden/data/cancer_cell_line/ctrp/\"\n",
    "\n",
    "kraft.path.path(directory_path)"
   ]
  },
  {
   "cell_type": "code",
   "execution_count": null,
   "metadata": {},
   "outputs": [],
   "source": [
    "compound_table = pd.read_csv(\n",
    "    \"{}/v2/v20.meta.per_compound.txt\".format(directory_path), sep=\"\\t\", index_col=1\n",
    ")\n",
    "\n",
    "kraft.dataframe.error_axes(compound_table)\n",
    "\n",
    "compound_table.index.name = \"Compound\"\n",
    "\n",
    "compound_table"
   ]
  },
  {
   "cell_type": "code",
   "execution_count": null,
   "metadata": {},
   "outputs": [],
   "source": [
    "cell_line_table = pd.read_csv(\n",
    "    \"{}v2/v20.meta.per_cell_line.txt\".format(directory_path), sep=\"\\t\", index_col=1\n",
    ")\n",
    "\n",
    "kraft.dataframe.error_axes(cell_line_table)\n",
    "\n",
    "cell_line_table.index.name = \"Cell Line\"\n",
    "\n",
    "cell_line_table"
   ]
  },
  {
   "cell_type": "markdown",
   "metadata": {},
   "source": [
    "## Make *_x_compound_x_01"
   ]
  },
  {
   "cell_type": "code",
   "execution_count": null,
   "metadata": {},
   "outputs": [],
   "source": [
    "gene_x_compound = kraft.series.binarize(compound_table[\"gene_symbol_of_protein_target\"])\n",
    "\n",
    "gene_x_compound.index.name = \"Gene\"\n",
    "\n",
    "gene_x_compound.to_csv(\"{}/gene_x_compound_x_01.tsv\".format(directory_path), sep=\"\\t\")\n",
    "\n",
    "gene_x_compound"
   ]
  },
  {
   "cell_type": "code",
   "execution_count": null,
   "metadata": {},
   "outputs": [],
   "source": [
    "activity_x_compound = kraft.series.binarize(\n",
    "    compound_table[\"target_or_activity_of_compound\"]\n",
    ")\n",
    "\n",
    "activity_x_compound.index.name = \"Activity\"\n",
    "\n",
    "activity_x_compound.to_csv(\n",
    "    \"{}/activity_x_compound_x_01.tsv\".format(directory_path), sep=\"\\t\"\n",
    ")\n",
    "\n",
    "activity_x_compound"
   ]
  },
  {
   "cell_type": "markdown",
   "metadata": {},
   "source": [
    "## Make compound_x_cell_line"
   ]
  },
  {
   "cell_type": "code",
   "execution_count": null,
   "metadata": {},
   "outputs": [],
   "source": [
    "axis_0_axis_1_number = pd.read_csv(\n",
    "    \"{}new-abs-auc-with-qc.txt\".format(directory_path), sep=\"\\t\", usecols=(0, 3, 5)\n",
    ").to_numpy()\n",
    "\n",
    "compound_x_cell_line = kraft.dataframe.pivot(\n",
    "    axis_0_axis_1_number[:, 1].astype(int),\n",
    "    axis_0_axis_1_number[:, 2].astype(int),\n",
    "    axis_0_axis_1_number[:, 0],\n",
    "    function=min,\n",
    "    axis_0_name=\"Compound\",\n",
    "    axis_1_name=\"Cell Line\",\n",
    ")\n",
    "\n",
    "compound_x_cell_line"
   ]
  },
  {
   "cell_type": "code",
   "execution_count": null,
   "metadata": {},
   "outputs": [],
   "source": [
    "compound_x_cell_line.index = compound_x_cell_line.index.map(\n",
    "    dict(\n",
    "        zip(\n",
    "            compound_table.loc[:, \"master_cpd_id\"].to_numpy(),\n",
    "            compound_table.index.to_numpy(),\n",
    "        )\n",
    "    )\n",
    ")\n",
    "\n",
    "compound_x_cell_line.columns = compound_x_cell_line.columns.map(\n",
    "    dict(\n",
    "        zip(\n",
    "            cell_line_table.loc[:, \"master_ccl_id\"].to_numpy(),\n",
    "            cell_line_table.index.to_numpy(),\n",
    "        )\n",
    "    )\n",
    ")\n",
    "\n",
    "compound_x_cell_line.to_csv(\n",
    "    \"{}/compound_x_cell_line_x_ctrp2_auc.tsv\".format(directory_path), sep=\"\\t\"\n",
    ")\n",
    "\n",
    "compound_x_cell_line"
   ]
  }
 ],
 "metadata": {
  "kernelspec": {
   "display_name": "Python 3",
   "language": "python",
   "name": "python3"
  },
  "language_info": {
   "codemirror_mode": {
    "name": "ipython",
    "version": 3
   },
   "file_extension": ".py",
   "mimetype": "text/x-python",
   "name": "python",
   "nbconvert_exporter": "python",
   "pygments_lexer": "ipython3",
   "version": "3.7.6"
  }
 },
 "nbformat": 4,
 "nbformat_minor": 4
}
