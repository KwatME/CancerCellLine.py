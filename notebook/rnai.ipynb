{
 "cells": [
  {
   "cell_type": "code",
   "execution_count": null,
   "metadata": {},
   "outputs": [],
   "source": [
    "%load_ext autoreload\n",
    "%autoreload 2"
   ]
  },
  {
   "cell_type": "code",
   "execution_count": null,
   "metadata": {
    "ExecuteTime": {
     "end_time": "2018-07-08T01:08:15.968617Z",
     "start_time": "2018-07-08T01:08:14.081418Z"
    }
   },
   "outputs": [],
   "source": [
    "import pandas as pd\n",
    "\n",
    "import kraft"
   ]
  },
  {
   "cell_type": "code",
   "execution_count": null,
   "metadata": {},
   "outputs": [],
   "source": [
    "directory_path = \"/home/kwat/garden/data/cancer_cell_line/rnai/\"\n",
    "\n",
    "kraft.path.path(directory_path)"
   ]
  },
  {
   "cell_type": "markdown",
   "metadata": {},
   "source": [
    "## Log fold change"
   ]
  },
  {
   "cell_type": "code",
   "execution_count": null,
   "metadata": {},
   "outputs": [],
   "source": [
    "barcode_to_genes = {}\n",
    "\n",
    "for barcode, gene in pd.read_csv(\n",
    "    \"{}/shRNAmapping.csv\".format(directory_path), usecols=(0, 1)\n",
    ").to_numpy():\n",
    "\n",
    "    if barcode in barcode_to_genes:\n",
    "\n",
    "        barcode_to_genes[barcode].append(\"{}_{}\".format(barcode, gene))\n",
    "\n",
    "    else:\n",
    "\n",
    "        barcode_to_genes[barcode] = [gene]\n",
    "\n",
    "len(barcode_to_genes)"
   ]
  },
  {
   "cell_type": "code",
   "execution_count": null,
   "metadata": {},
   "outputs": [],
   "source": [
    "def add_gene_to_barcode(barcode_x_):\n",
    "\n",
    "    rows = []\n",
    "\n",
    "    for barcode, row in barcode_x_.iterrows():\n",
    "\n",
    "        if barcode in barcode_to_genes:\n",
    "\n",
    "            for gene in barcode_to_genes[barcode]:\n",
    "\n",
    "                row.name = gene\n",
    "\n",
    "                rows.append(row)\n",
    "\n",
    "    barcode_gene_x_ = pd.DataFrame(rows)\n",
    "\n",
    "    barcode_gene_x_.index.name = \"Barcode Gene\"\n",
    "\n",
    "    return barcode_gene_x_"
   ]
  },
  {
   "cell_type": "code",
   "execution_count": null,
   "metadata": {},
   "outputs": [],
   "source": [
    "dataframe_1 = pd.read_csv(\n",
    "    \"{}/achilles55kbatch1repcollapsedlfc.csv\".format(directory_path), index_col=0\n",
    ")\n",
    "\n",
    "print(dataframe_1.shape)\n",
    "\n",
    "dataframe_2 = pd.read_csv(\n",
    "    \"{}/achilles55kbatch2repcollapsedlfc.csv\".format(directory_path), index_col=0\n",
    ")\n",
    "\n",
    "print(dataframe_2.shape)\n",
    "\n",
    "_50k_shrna_x_cell_line = pd.concat((dataframe_1, dataframe_2)).groupby(level=0).min()\n",
    "\n",
    "print(_50k_shrna_x_cell_line.shape)\n",
    "\n",
    "_50k_shrna_x_cell_line = add_gene_to_barcode(_50k_shrna_x_cell_line)\n",
    "\n",
    "_50k_shrna_x_cell_line"
   ]
  },
  {
   "cell_type": "code",
   "execution_count": null,
   "metadata": {},
   "outputs": [],
   "source": [
    "_100k_shrna_x_cell_line = pd.read_csv(\n",
    "    \"{}/achilles98krepcollapsedlfc.csv\".format(directory_path), index_col=0\n",
    ")\n",
    "\n",
    "print(_100k_shrna_x_cell_line.shape)\n",
    "\n",
    "_100k_shrna_gene_x_cell_line = add_gene_to_barcode(_100k_shrna_x_cell_line)\n",
    "\n",
    "_100k_shrna_gene_x_cell_line"
   ]
  },
  {
   "cell_type": "code",
   "execution_count": null,
   "metadata": {},
   "outputs": [],
   "source": [
    "dataframe_a = pd.read_csv(\"{}/drivepoolalfcmat.csv\".format(directory_path), index_col=0)\n",
    "\n",
    "print(dataframe_a.shape)\n",
    "\n",
    "dataframe_b = pd.read_csv(\"{}/drivepoolblfcmat.csv\".format(directory_path), index_col=0)\n",
    "\n",
    "print(dataframe_b.shape)\n",
    "\n",
    "drive_shrna_x_cell_line = pd.concat((dataframe_a, dataframe_b)).groupby(level=0).min()\n",
    "\n",
    "print(drive_shrna_x_cell_line.shape)\n",
    "\n",
    "drive_shrna_x_cell_line = add_gene_to_barcode(drive_shrna_x_cell_line)\n",
    "\n",
    "drive_shrna_x_cell_line"
   ]
  },
  {
   "cell_type": "markdown",
   "metadata": {},
   "source": [
    "## Demeter"
   ]
  },
  {
   "cell_type": "code",
   "execution_count": null,
   "metadata": {
    "ExecuteTime": {
     "end_time": "2018-07-08T01:08:15.968617Z",
     "start_time": "2018-07-08T01:08:14.081418Z"
    }
   },
   "outputs": [],
   "source": [
    "rnai_gene_x_cell_line = pd.read_csv(\n",
    "    \"{}/D2_combined_gene_dep_scores.csv\".format(directory_path), index_col=0\n",
    ")\n",
    "\n",
    "rnai_gene_x_cell_line.index = (\n",
    "    label.split()[0] for label in rnai_gene_x_cell_line.index.to_numpy()\n",
    ")\n",
    "\n",
    "rnai_gene_x_cell_line.index.name = \"Gene\"\n",
    "\n",
    "rnai_gene_x_cell_line.to_csv(\n",
    "    \"{}/rnai.gene_x_cell_line.tsv\".format(directory_path), sep=\"\\t\"\n",
    ")\n",
    "\n",
    "rnai_gene_x_cell_line"
   ]
  }
 ],
 "metadata": {
  "kernelspec": {
   "display_name": "Python 3",
   "language": "python",
   "name": "python3"
  },
  "language_info": {
   "codemirror_mode": {
    "name": "ipython",
    "version": 3
   },
   "file_extension": ".py",
   "mimetype": "text/x-python",
   "name": "python",
   "nbconvert_exporter": "python",
   "pygments_lexer": "ipython3",
   "version": "3.7.6"
  }
 },
 "nbformat": 4,
 "nbformat_minor": 4
}
