{
 "cells": [
  {
   "cell_type": "code",
   "execution_count": null,
   "metadata": {},
   "outputs": [],
   "source": [
    "from __init__ import *"
   ]
  },
  {
   "cell_type": "code",
   "execution_count": null,
   "metadata": {},
   "outputs": [],
   "source": [
    "directory_path = \"{}/feature/\".format(SETTING[\"directory_path\"])\n",
    "\n",
    "kraft.path.path(directory_path)"
   ]
  },
  {
   "cell_type": "code",
   "execution_count": null,
   "metadata": {},
   "outputs": [],
   "source": [
    "for url in (\"https://ndownloader.figshare.com/files/22629137\",):\n",
    "\n",
    "    print(kraft.internet.download(url, directory_path))"
   ]
  },
  {
   "cell_type": "markdown",
   "metadata": {},
   "source": [
    "## Map cell line name"
   ]
  },
  {
   "cell_type": "code",
   "execution_count": null,
   "metadata": {},
   "outputs": [],
   "source": [
    "name_to_id = (\n",
    "    pd.read_csv(\n",
    "        \"data/cell-line-synon-names.txt\",\n",
    "        sep=\"\\t\",\n",
    "        usecols=(0, 1),\n",
    "        index_col=1,\n",
    "        squeeze=True,\n",
    "    )\n",
    "    .dropna()\n",
    "    .to_dict()\n",
    ")\n",
    "\n",
    "id_to_rename = (\n",
    "    pd.read_csv(\n",
    "        \"data/cell-line-best-names.txt\",\n",
    "        sep=\"\\t\",\n",
    "        usecols=(0, 1),\n",
    "        index_col=0,\n",
    "        squeeze=True,\n",
    "    )\n",
    "    .dropna()\n",
    "    .to_dict()\n",
    ")\n",
    "\n",
    "name_to_rename = {name.lower(): id_to_rename[id_] for name, id_ in name_to_id.items()}\n",
    "\n",
    "len(name_to_rename)"
   ]
  },
  {
   "cell_type": "code",
   "execution_count": null,
   "metadata": {},
   "outputs": [],
   "source": [
    "for name, rename in (\n",
    "    pd.read_csv(\n",
    "        \"data/ice000.cols.cell_line_identity.2777.csv\",\n",
    "        usecols=(2, 3),\n",
    "        index_col=0,\n",
    "        squeeze=True,\n",
    "    )\n",
    "    .dropna()\n",
    "    .items()\n",
    "):\n",
    "\n",
    "    name_lower = name.lower()\n",
    "\n",
    "    if name_lower in name_to_rename:\n",
    "\n",
    "        rename_now = name_to_rename[name_lower]\n",
    "\n",
    "        if rename_now != rename:\n",
    "\n",
    "            print(\"{}: {} ==> {}\".format(name, rename_now, rename))\n",
    "\n",
    "    name_to_rename[name_lower] = rename\n",
    "\n",
    "len(name_to_rename)"
   ]
  },
  {
   "cell_type": "code",
   "execution_count": null,
   "metadata": {},
   "outputs": [],
   "source": [
    "feature_x_cell_line = pd.read_csv(\n",
    "    \"{}/sample_info.csv\".format(directory_path), index_col=1\n",
    ").T"
   ]
  },
  {
   "cell_type": "code",
   "execution_count": null,
   "metadata": {},
   "outputs": [],
   "source": [
    "for rename, names in feature_x_cell_line.iloc[:3, :].items():\n",
    "\n",
    "    for name in names.dropna():\n",
    "\n",
    "        name_lower = name.lower()\n",
    "\n",
    "        if name_lower in name_to_rename:\n",
    "\n",
    "            rename_now = name_to_rename[name_lower]\n",
    "\n",
    "            if rename_now != rename:\n",
    "\n",
    "                print(\"{}: {} ==> {}\".format(name, rename_now, rename))\n",
    "\n",
    "        name_to_rename[name_lower] = rename\n",
    "\n",
    "len(name_to_rename)"
   ]
  },
  {
   "cell_type": "code",
   "execution_count": null,
   "metadata": {},
   "outputs": [],
   "source": [
    "for rename in tuple(name_to_rename.values()):\n",
    "\n",
    "    name_to_rename[rename.lower()] = rename\n",
    "\n",
    "len(name_to_rename)"
   ]
  },
  {
   "cell_type": "code",
   "execution_count": null,
   "metadata": {},
   "outputs": [],
   "source": [
    "name_to_rename = pd.Series(name_to_rename).sort_values()\n",
    "\n",
    "name_to_rename.index.name = \"Name\"\n",
    "\n",
    "name_to_rename.name = \"Rename\"\n",
    "\n",
    "name_to_rename.to_csv(\n",
    "    \"{}/cell_line_name_rename.tsv\".format(directory_path), sep=\"\\t\", header=True\n",
    ")\n",
    "\n",
    "name_to_rename"
   ]
  },
  {
   "cell_type": "markdown",
   "metadata": {},
   "source": [
    "## Make feature_x_cell_line"
   ]
  },
  {
   "cell_type": "markdown",
   "metadata": {},
   "source": [
    "### All"
   ]
  },
  {
   "cell_type": "code",
   "execution_count": null,
   "metadata": {},
   "outputs": [],
   "source": [
    "feature_x_cell_line.loc[\"Is Fibroblast\", :] = tuple(\n",
    "    int(bool(re.match(\".*FIBROBLAST$\", name)))\n",
    "    for name in feature_x_cell_line.loc[\"CCLE_Name\", :].to_numpy()\n",
    ")\n",
    "\n",
    "feature_x_cell_line.index.name = \"Feature\"\n",
    "\n",
    "feature_x_cell_line.columns.name = \"Cell Line\"\n",
    "\n",
    "kraft.pandas.error_axes(feature_x_cell_line)\n",
    "\n",
    "feature_x_cell_line.to_csv(\n",
    "    \"{}/feature_x_cell_line.tsv\".format(directory_path), sep=\"\\t\"\n",
    ")\n",
    "\n",
    "feature_x_cell_line"
   ]
  },
  {
   "cell_type": "markdown",
   "metadata": {},
   "source": [
    "### Continuous"
   ]
  },
  {
   "cell_type": "code",
   "execution_count": null,
   "metadata": {},
   "outputs": [],
   "source": [
    "feature_x_cell_line_x_continuous = pd.concat((feature_x_cell_line.loc[[\"age\"], :],))\n",
    "\n",
    "feature_x_cell_line_x_continuous.to_csv(\n",
    "    \"{}/feature_x_cell_line_x_continuous.tsv\".format(directory_path), sep=\"\\t\"\n",
    ")\n",
    "\n",
    "feature_x_cell_line_x_continuous"
   ]
  },
  {
   "cell_type": "markdown",
   "metadata": {},
   "source": [
    "### Binary"
   ]
  },
  {
   "cell_type": "code",
   "execution_count": null,
   "metadata": {},
   "outputs": [],
   "source": [
    "dataframes = [feature_x_cell_line.loc[[\"Is Fibroblast\"], :]]\n",
    "\n",
    "for label in (\n",
    "    \"sex\",\n",
    "    \"sample_collection_site\",\n",
    "    \"primary_or_metastasis\",\n",
    "    \"primary_disease\",\n",
    "    \"Subtype\",\n",
    "    \"lineage\",\n",
    "    \"lineage_subtype\",\n",
    "    \"lineage_sub_subtype\",\n",
    "    \"lineage_molecular_subtype\",\n",
    "):\n",
    "\n",
    "    dataframe = kraft.pandas.binarize(feature_x_cell_line.loc[label, :])\n",
    "\n",
    "    dataframe.index = (\n",
    "        \"({}) {}\".format(label, label_) for label_ in dataframe.index.to_numpy()\n",
    "    )\n",
    "\n",
    "    dataframes.append(dataframe)\n",
    "\n",
    "feature_x_cell_line_x_01 = pd.concat(dataframes)\n",
    "\n",
    "feature_x_cell_line_x_01.index.name = \"Feature\"\n",
    "\n",
    "feature_x_cell_line_x_01.to_csv(\n",
    "    \"{}/feature_x_cell_line_x_01.tsv\".format(directory_path), sep=\"\\t\"\n",
    ")\n",
    "\n",
    "feature_x_cell_line_x_01"
   ]
  }
 ],
 "metadata": {
  "kernelspec": {
   "display_name": "Python 3",
   "language": "python",
   "name": "python3"
  },
  "language_info": {
   "codemirror_mode": {
    "name": "ipython",
    "version": 3
   },
   "file_extension": ".py",
   "mimetype": "text/x-python",
   "name": "python",
   "nbconvert_exporter": "python",
   "pygments_lexer": "ipython3",
   "version": "3.7.8"
  }
 },
 "nbformat": 4,
 "nbformat_minor": 4
}
