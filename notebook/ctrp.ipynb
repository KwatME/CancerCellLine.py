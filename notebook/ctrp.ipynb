{
 "cells": [
  {
   "cell_type": "code",
   "execution_count": null,
   "metadata": {},
   "outputs": [],
   "source": [
    "%load_ext autoreload\n",
    "%autoreload 2"
   ]
  },
  {
   "cell_type": "code",
   "execution_count": null,
   "metadata": {},
   "outputs": [],
   "source": [
    "import numpy as np\n",
    "import pandas as pd\n",
    "\n",
    "import kraft"
   ]
  },
  {
   "cell_type": "code",
   "execution_count": null,
   "metadata": {},
   "outputs": [],
   "source": [
    "directory_path = \"/home/kwat/garden/data/cancer_cell_line/ctrp/\"\n",
    "\n",
    "kraft.path.path(directory_path)"
   ]
  },
  {
   "cell_type": "code",
   "execution_count": null,
   "metadata": {},
   "outputs": [],
   "source": [
    "compound_table = pd.read_csv(\n",
    "    \"{}/v2/v20.meta.per_compound.txt\".format(directory_path),\n",
    "    sep=\"\\t\",\n",
    "    usecols=(0, 1, 6, 7),\n",
    ").to_numpy()"
   ]
  },
  {
   "cell_type": "code",
   "execution_count": null,
   "metadata": {},
   "outputs": [],
   "source": [
    "cell_line_table = pd.read_csv(\n",
    "    \"{}v2/v20.meta.per_cell_line.txt\".format(directory_path), sep=\"\\t\", usecols=(0, 1)\n",
    ").to_numpy()"
   ]
  },
  {
   "cell_type": "markdown",
   "metadata": {},
   "source": [
    "## Make _x\\_compound"
   ]
  },
  {
   "cell_type": "code",
   "execution_count": null,
   "metadata": {},
   "outputs": [],
   "source": [
    "compounds = compound_table[:, 1]\n",
    "\n",
    "assert not kraft.array.check_has_duplicate(compounds)"
   ]
  },
  {
   "cell_type": "code",
   "execution_count": null,
   "metadata": {},
   "outputs": [],
   "source": [
    "gene_x_compound = kraft.series.binarize(\n",
    "    pd.Series(compound_table[:, 2], index=compounds)\n",
    ")\n",
    "\n",
    "gene_x_compound.index.name = \"Gene\"\n",
    "\n",
    "gene_x_compound.to_csv(\"{}/gene_x_compound.tsv\".format(directory_path), sep=\"\\t\")\n",
    "\n",
    "gene_x_compound"
   ]
  },
  {
   "cell_type": "code",
   "execution_count": null,
   "metadata": {},
   "outputs": [],
   "source": [
    "activity_x_compound = kraft.series.binarize(\n",
    "    pd.Series(compound_table[:, 3], index=compounds)\n",
    ")\n",
    "\n",
    "activity_x_compound.index.name = \"Activity\"\n",
    "\n",
    "activity_x_compound.to_csv(\n",
    "    \"{}/activity_x_compound.tsv\".format(directory_path), sep=\"\\t\"\n",
    ")\n",
    "\n",
    "activity_x_compound"
   ]
  },
  {
   "cell_type": "markdown",
   "metadata": {},
   "source": [
    "## Make compound_x_cell_line"
   ]
  },
  {
   "cell_type": "code",
   "execution_count": null,
   "metadata": {},
   "outputs": [],
   "source": [
    "number_axis_0_axis_1 = pd.read_csv(\n",
    "    \"{}new-abs-auc-with-qc.txt\".format(directory_path), sep=\"\\t\", usecols=(0, 3, 5)\n",
    ").to_numpy()\n",
    "\n",
    "compound_x_cell_line = kraft.dataframe.pivot(\n",
    "    number_axis_0_axis_1[:, 1].astype(int),\n",
    "    number_axis_0_axis_1[:, 2].astype(int),\n",
    "    number_axis_0_axis_1[:, 0],\n",
    "    function=min,\n",
    ")\n",
    "\n",
    "compound_id_to_name = {id_: name for id_, name in compound_table[:, :2]}\n",
    "\n",
    "cell_line_id_to_name = {id_: name for id_, name in cell_line_table}\n",
    "\n",
    "compound_x_cell_line.index = (\n",
    "    compound_id_to_name[id_] for id_ in compound_x_cell_line.index.to_numpy()\n",
    ")\n",
    "\n",
    "compound_x_cell_line.columns = (\n",
    "    cell_line_id_to_name[id_] for id_ in compound_x_cell_line.columns.to_numpy()\n",
    ")\n",
    "\n",
    "compound_x_cell_line.index.name = \"Compound\"\n",
    "\n",
    "compound_x_cell_line.columns.name = \"Cell Line\"\n",
    "\n",
    "kraft.dataframe.error_axes(compound_x_cell_line)\n",
    "\n",
    "compound_x_cell_line.to_csv(\n",
    "    \"{}/compound_x_cell_line.tsv\".format(directory_path), sep=\"\\t\"\n",
    ")\n",
    "\n",
    "compound_x_cell_line"
   ]
  }
 ],
 "metadata": {
  "kernelspec": {
   "display_name": "Python 3",
   "language": "python",
   "name": "python3"
  },
  "language_info": {
   "codemirror_mode": {
    "name": "ipython",
    "version": 3
   },
   "file_extension": ".py",
   "mimetype": "text/x-python",
   "name": "python",
   "nbconvert_exporter": "python",
   "pygments_lexer": "ipython3",
   "version": "3.7.6"
  }
 },
 "nbformat": 4,
 "nbformat_minor": 4
}
