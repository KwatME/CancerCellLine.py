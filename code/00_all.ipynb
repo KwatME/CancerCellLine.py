{
 "cells": [
  {
   "cell_type": "code",
   "execution_count": null,
   "metadata": {},
   "outputs": [],
   "source": [
    "from __init__ import *"
   ]
  },
  {
   "cell_type": "markdown",
   "metadata": {},
   "source": [
    "## Get all data"
   ]
  },
  {
   "cell_type": "code",
   "execution_count": null,
   "metadata": {},
   "outputs": [],
   "source": [
    "notebooks = sorted(\n",
    "    (notebook for notebook in os.listdir() if re.match(r\"^[^._].+\\.ipynb$\", notebook))\n",
    ")\n",
    "\n",
    "notebooks.remove(\"00_all.ipynb\")\n",
    "\n",
    "notebooks.remove(\"15_gene_set.ipynb\")"
   ]
  },
  {
   "cell_type": "code",
   "execution_count": null,
   "metadata": {},
   "outputs": [],
   "source": [
    "for notebook in notebooks:\n",
    "\n",
    "    kraft.shell.command(\n",
    "        \"jupyter nbconvert --execute --ExecutePreprocessor.timeout=-1 --inplace {}\".format(\n",
    "            notebook\n",
    "        )\n",
    "    )"
   ]
  },
  {
   "cell_type": "markdown",
   "metadata": {},
   "source": [
    "## Count common samples"
   ]
  },
  {
   "cell_type": "code",
   "execution_count": null,
   "metadata": {},
   "outputs": [],
   "source": [
    "feature_x_sample_file_paths = tuple(\n",
    "    \"{}{}\".format(SETTING[\"directory_path\"], path)\n",
    "    for path in (\n",
    "        \"feature/feature_x_cell_line.tsv\",\n",
    "        \"mutation/gene_x_cell_line.tsv\",\n",
    "        \"copy_number/gene_x_cell_line.tsv\",\n",
    "        \"fusion/gene_x_cell_line.tsv\",\n",
    "        \"methylation/gene_x_cell_line.tsv\",\n",
    "        \"rna/gene_x_cell_line.tsv\",\n",
    "        \"protein/gene_x_cell_line.tsv\",\n",
    "        \"antibody/antibody_x_cell.tsv\",\n",
    "        \"rnai/gene_x_cell_line.tsv\",\n",
    "        \"crispr/gene_x_cell_line.tsv\",\n",
    "        \"np24/compound_x_cell_line.tsv\",\n",
    "        \"ctrp/compound_x_cell_line.tsv\",\n",
    "        \"gdsc/compound_dose_x_cell_line.tsv\",\n",
    "        \"prism/compound_dose_x_cell_line_x_primary.tsv\",\n",
    "        \"prism/compound_dose_x_cell_line_x_secondary.tsv\",\n",
    "        \"prism/compound_x_cell_line_x_secondary.tsv\",\n",
    "    )\n",
    ")"
   ]
  },
  {
   "cell_type": "code",
   "execution_count": null,
   "metadata": {},
   "outputs": [],
   "source": [
    "file_path_to_data = {}\n",
    "\n",
    "for file_path in feature_x_sample_file_paths:\n",
    "\n",
    "    print(\"=\" * 80)\n",
    "\n",
    "    print(file_path)\n",
    "\n",
    "    df = pd.read_csv(file_path, sep=\"\\t\", index_col=0, nrows=1)\n",
    "\n",
    "    print(df.shape[1])\n",
    "\n",
    "    file_path_to_data[file_path] = df"
   ]
  },
  {
   "cell_type": "code",
   "execution_count": null,
   "metadata": {},
   "outputs": [],
   "source": [
    "for file_path_0, file_path_1 in itertools.combinations(file_path_to_data, 2):\n",
    "\n",
    "    print(\"=\" * 80)\n",
    "\n",
    "    data_0 = file_path_to_data[file_path_0]\n",
    "\n",
    "    data_1 = file_path_to_data[file_path_1]\n",
    "\n",
    "    print(data_0.columns.size, file_path_0)\n",
    "\n",
    "    print(data_1.columns.size, file_path_1)\n",
    "\n",
    "    print((data_0.columns & data_1.columns).size)"
   ]
  }
 ],
 "metadata": {
  "@webio": {
   "lastCommId": null,
   "lastKernelId": null
  },
  "kernelspec": {
   "display_name": "Python 3",
   "language": "python",
   "name": "python3"
  },
  "language_info": {
   "codemirror_mode": {
    "name": "ipython",
    "version": 3
   },
   "file_extension": ".py",
   "mimetype": "text/x-python",
   "name": "python",
   "nbconvert_exporter": "python",
   "pygments_lexer": "ipython3",
   "version": "3.7.8"
  }
 },
 "nbformat": 4,
 "nbformat_minor": 4
}
