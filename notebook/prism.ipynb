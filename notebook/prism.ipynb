{
 "cells": [
  {
   "cell_type": "code",
   "execution_count": null,
   "metadata": {},
   "outputs": [],
   "source": [
    "%load_ext autoreload\n",
    "%autoreload 2"
   ]
  },
  {
   "cell_type": "code",
   "execution_count": null,
   "metadata": {},
   "outputs": [],
   "source": [
    "import numpy as np\n",
    "import pandas as pd\n",
    "\n",
    "import kraft"
   ]
  },
  {
   "cell_type": "code",
   "execution_count": null,
   "metadata": {},
   "outputs": [],
   "source": [
    "df = pd.DataFrame()\n",
    "s = pd.Series()"
   ]
  },
  {
   "cell_type": "code",
   "execution_count": null,
   "metadata": {},
   "outputs": [],
   "source": [
    "s.app"
   ]
  },
  {
   "cell_type": "code",
   "execution_count": null,
   "metadata": {},
   "outputs": [],
   "source": [
    "def name_feature(feature, compound_id_to_name):\n",
    "\n",
    "    compound_id, dose = feature.split(\"::\")[:2]\n",
    "\n",
    "    return \"{}_{:.2f}\".format(compound_id_to_name[compound_id], float(dose))"
   ]
  },
  {
   "cell_type": "code",
   "execution_count": null,
   "metadata": {},
   "outputs": [],
   "source": [
    "for version in (\"primary\", \"secondary\"):\n",
    "\n",
    "    print(version)\n",
    "\n",
    "    info = pd.read_csv(\n",
    "        \"{}-screen-replicate-treatment-info.csv\".format(version), index_col=0\n",
    "    )\n",
    "\n",
    "    feature_x_cell_line = pd.read_csv(\n",
    "        \"{}-screen-replicate-collapsed-logfold-change.csv\".format(version), index_col=0\n",
    "    ).T\n",
    "\n",
    "    compound_id_to_name = dict(zip(info[\"broad_id\"], info[\"name\"]))\n",
    "\n",
    "    feature_x_cell_line.index = (\n",
    "        name_feature(feature, compound_id_to_name)\n",
    "        for feature in feature_x_cell_line.index\n",
    "    )\n",
    "\n",
    "    print(feature_x_cell_line.shape)\n",
    "\n",
    "    feature_x_cell_line = feature_x_cell_line.groupby(level=0).median()\n",
    "\n",
    "    print(feature_x_cell_line.shape)\n",
    "\n",
    "    feature_x_cell_line.columns = kraft.normalize_cell_line_names(\n",
    "        feature_x_cell_line.columns\n",
    "    )\n",
    "\n",
    "    kraft.error_index(feature_x_cell_line)\n",
    "\n",
    "    feature_x_cell_line.index.name = \"Compound Dose\"\n",
    "\n",
    "    feature_x_cell_line.to_csv(\n",
    "        \"prism_{}.compound_dose_x_cell_line.tsv\".format(\n",
    "            {\"primary\": 1, \"secondary\": 2}[version]\n",
    "        )\n",
    "    )\n",
    "\n",
    "    print(feature_x_cell_line.shape)"
   ]
  },
  {
   "cell_type": "code",
   "execution_count": null,
   "metadata": {},
   "outputs": [],
   "source": [
    "df = pd.DataFrame(index=(\"a\", \"b\"), columns=(\"c\", \"d\"))"
   ]
  },
  {
   "cell_type": "code",
   "execution_count": null,
   "metadata": {},
   "outputs": [],
   "source": [
    "df.set_axis((\"e\", \"f\"), axis=0)"
   ]
  },
  {
   "cell_type": "code",
   "execution_count": null,
   "metadata": {},
   "outputs": [],
   "source": [
    "df.set_axis((\"e\", \"f\"), axis=1)"
   ]
  },
  {
   "cell_type": "code",
   "execution_count": null,
   "metadata": {},
   "outputs": [],
   "source": [
    "def map_score(map_, column_for_index, column_for_columns, column_for_number):\n",
    "\n",
    "    index = map_[column_for_index].unique()\n",
    "\n",
    "    columns = map_[c_c].unique()\n",
    "\n",
    "    df = np.full((len(i), len(c)), np.nan)\n",
    "\n",
    "    for compound, cell_line, score in p2[[c_i, c_c, c_v]].values:\n",
    "\n",
    "        compound_i = compound_to_i[compound]\n",
    "\n",
    "        cell_line_i = cell_line_to_i[cell_line]\n",
    "\n",
    "        df[compound_i, cell_line_i] = score\n",
    "\n",
    "    df = pd.DataFrame(df, index=compounds, columns=cell_lines)\n",
    "\n",
    "    df.index.name = \"Compound\"\n",
    "\n",
    "    df.to_csv(\"prism_2.df.tsv\", sep=\"\\t\")\n",
    "\n",
    "    return df"
   ]
  },
  {
   "cell_type": "code",
   "execution_count": null,
   "metadata": {},
   "outputs": [],
   "source": [
    "compound_cell_line_score_map = pd.read_csv(\n",
    "    \"secondary-screen-dose-response-curve-parameters.csv\"\n",
    ")"
   ]
  },
  {
   "cell_type": "code",
   "execution_count": null,
   "metadata": {},
   "outputs": [],
   "source": [
    "compounds = compound_cell_line_score_map[\"name\"].unique()\n",
    "\n",
    "compound_to_i = kraft.make_dict_object_i(compounds)\n",
    "\n",
    "cell_lines = p2[\"depmap_id\"].unique()\n",
    "\n",
    "cell_line_to_i = kraft.make_dict_object_i(cell_lines)\n",
    "\n",
    "compound_x_cell_line = np.full((len(compounds), len(cell_lines)), np.nan)\n",
    "\n",
    "for compound, cell_line, score in p2[[\"name\", \"depmap_id\", \"auc\"]].values:\n",
    "\n",
    "    compound_i = compound_to_i[compound]\n",
    "\n",
    "    cell_line_i = cell_line_to_i[cell_line]\n",
    "\n",
    "    compound_x_cell_line[compound_i, cell_line_i] = score\n",
    "\n",
    "compound_x_cell_line = pd.DataFrame(\n",
    "    compound_x_cell_line, index=compounds, columns=cell_lines\n",
    ")\n",
    "\n",
    "compound_x_cell_line.index.name = \"Compound\"\n",
    "\n",
    "compound_x_cell_line.to_csv(\"prism_2.compound_x_cell_line.tsv\", sep=\"\\t\")\n",
    "\n",
    "compound_x_cell_line"
   ]
  }
 ],
 "metadata": {
  "kernelspec": {
   "display_name": "Python 3",
   "language": "python",
   "name": "python3"
  },
  "language_info": {
   "codemirror_mode": {
    "name": "ipython",
    "version": 3
   },
   "file_extension": ".py",
   "mimetype": "text/x-python",
   "name": "python",
   "nbconvert_exporter": "python",
   "pygments_lexer": "ipython3",
   "version": "3.7.6"
  }
 },
 "nbformat": 4,
 "nbformat_minor": 4
}
