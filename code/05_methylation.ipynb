{
 "cells": [
  {
   "cell_type": "code",
   "execution_count": null,
   "metadata": {},
   "outputs": [],
   "source": [
    "from __init__ import *"
   ]
  },
  {
   "cell_type": "code",
   "execution_count": null,
   "metadata": {},
   "outputs": [],
   "source": [
    "directory_path = \"{}methylation/\".format(SETTING[\"directory_path\"])\n",
    "\n",
    "kraft.path.make(directory_path)"
   ]
  },
  {
   "cell_type": "code",
   "execution_count": null,
   "metadata": {},
   "outputs": [],
   "source": [
    "for url in (\n",
    "    \"https://depmap.org/portal/download/api/download?file_name=ccle%2Fccle_2019%2FCCLE_RRBS_tss_CpG_clusters_20181022.txt.gz&bucket=depmap-external-downloads\",\n",
    "):\n",
    "\n",
    "    kraft.internet.download(\n",
    "        url,\n",
    "        directory_path,\n",
    "        name=\"CCLE_RRBS_tss_CpG_clusters_20181022.txt.gz\",\n",
    "        overwrite=SETTING[\"overwrite\"],\n",
    "    )"
   ]
  },
  {
   "cell_type": "code",
   "execution_count": null,
   "metadata": {},
   "outputs": [],
   "source": [
    "gene_x_sample = pd.read_csv(\n",
    "    \"{}CCLE_RRBS_tss_CpG_clusters_20181022.txt.gz\".format(directory_path),\n",
    "    sep=\"\\t\",\n",
    "    na_values=(\"    NaN\",),\n",
    "    index_col=0,\n",
    "    engine=\"python\",\n",
    "    skipfooter=1,\n",
    ").drop(labels=[\"CpG_sites_hg19\", \"avg_coverage\"], axis=1)\n",
    "\n",
    "gene_x_sample.index = (\n",
    "    label.split(sep=\"_\", maxsplit=1)[0] for label in gene_x_sample.index.to_numpy()\n",
    ")\n",
    "\n",
    "gene_x_sample.index = kraft.name_biology.name_gene(gene_x_sample.index.to_numpy())\n",
    "\n",
    "gene_x_sample.index.name = \"Gene\"\n",
    "\n",
    "gene_x_sample = kraft.pd.collapse(gene_x_sample)\n",
    "\n",
    "gene_x_sample.columns = kraft.name_biology.name_cell_line(\n",
    "    gene_x_sample.columns.to_numpy()\n",
    ")\n",
    "\n",
    "kraft.pd.error_axes(gene_x_sample)\n",
    "\n",
    "gene_x_sample.to_csv(\"{}gene_x_sample.tsv\".format(directory_path), sep=\"\\t\")\n",
    "\n",
    "gene_x_sample"
   ]
  }
 ],
 "metadata": {
  "kernelspec": {
   "display_name": "Python 3",
   "language": "python",
   "name": "python3"
  },
  "language_info": {
   "codemirror_mode": {
    "name": "ipython",
    "version": 3
   },
   "file_extension": ".py",
   "mimetype": "text/x-python",
   "name": "python",
   "nbconvert_exporter": "python",
   "pygments_lexer": "ipython3",
   "version": "3.7.8"
  }
 },
 "nbformat": 4,
 "nbformat_minor": 4
}
